{
 "cells": [
  {
   "cell_type": "markdown",
   "metadata": {},
   "source": [
    "# Dependencies"
   ]
  },
  {
   "cell_type": "code",
   "execution_count": 1,
   "metadata": {},
   "outputs": [],
   "source": [
    "import scipy\n",
    "from scipy.optimize import curve_fit\n",
    "from scipy.io import wavfile\n",
    "from scipy import signal\n",
    "from scipy.signal import butter, sosfiltfilt\n",
    "import matplotlib.pyplot as plt\n",
    "from matplotlib import pylab\n",
    "import math\n",
    "import pandas as pd\n",
    "import numpy as np\n",
    "import osascript\n",
    "from gtts import gTTS \n",
    "import os \n",
    "import pyaudio\n",
    "import wave\n",
    "import keyboard  # using module keyboard\n",
    "import soundfile as sf\n",
    "import pyloudnorm as pyln\n",
    "from sys import byteorder\n",
    "from array import array\n",
    "from struct import pack\n",
    "import time\n",
    "import subprocess\n",
    "import pyttsx3\n",
    "import tkinter"
   ]
  },
  {
   "cell_type": "markdown",
   "metadata": {},
   "source": [
    "# Constants"
   ]
  },
  {
   "cell_type": "code",
   "execution_count": 2,
   "metadata": {},
   "outputs": [],
   "source": [
    "THRESHOLD = 100\n",
    "CHUNK_SIZE = 2048\n",
    "FORMAT = pyaudio.paInt16\n",
    "RATE = 44100\n",
    "AVG_STEP = 75\n",
    "PERCENTILE = 70\n",
    "BANDPASS_FREQ = [300, 3400]\n",
    "CALIBRATION_VOLUME = 40"
   ]
  },
  {
   "cell_type": "markdown",
   "metadata": {},
   "source": [
    "# Record Audio"
   ]
  },
  {
   "cell_type": "markdown",
   "metadata": {},
   "source": [
    "#### Record from microphone"
   ]
  },
  {
   "cell_type": "markdown",
   "metadata": {},
   "source": [
    " Record a word or words from the microphone and return the data as an array of signed shorts."
   ]
  },
  {
   "cell_type": "code",
   "execution_count": 3,
   "metadata": {},
   "outputs": [],
   "source": [
    "def record():\n",
    "    p = pyaudio.PyAudio()\n",
    "    stream = p.open(format=FORMAT, channels=1, rate=RATE,\n",
    "        input=True, output=True,\n",
    "        frames_per_buffer=CHUNK_SIZE)\n",
    "    num_silent = 0\n",
    "    snd_started = False\n",
    "    r = array('h')\n",
    "\n",
    "    while 1:\n",
    "        snd_data = array('h', stream.read(CHUNK_SIZE)) # little endian, signed short\n",
    "        if byteorder == 'big':\n",
    "            snd_data.byteswap()\n",
    "        r.extend(snd_data)\n",
    "\n",
    "        silent = is_silent(snd_data)\n",
    "\n",
    "        if silent and snd_started:\n",
    "            num_silent += 1\n",
    "        elif not silent and not snd_started:\n",
    "            snd_started = True\n",
    "\n",
    "        if snd_started and num_silent > 60:\n",
    "            break\n",
    "\n",
    "    sample_width = p.get_sample_size(FORMAT)\n",
    "    stream.stop_stream()\n",
    "    stream.close()\n",
    "    p.terminate()\n",
    "    return sample_width, r"
   ]
  },
  {
   "cell_type": "markdown",
   "metadata": {},
   "source": [
    "#### Save to wav file"
   ]
  },
  {
   "cell_type": "code",
   "execution_count": 4,
   "metadata": {},
   "outputs": [],
   "source": [
    "def record_to_file(path):\n",
    "    sample_width, data = record()\n",
    "    data = pack('<' + ('h'*len(data)), *data)\n",
    "\n",
    "    wf = wave.open(path, 'wb')\n",
    "    wf.setnchannels(1)\n",
    "    wf.setsampwidth(sample_width)\n",
    "    wf.setframerate(RATE)\n",
    "    wf.writeframes(data)\n",
    "    wf.close()"
   ]
  },
  {
   "cell_type": "markdown",
   "metadata": {},
   "source": [
    "#### Checks if input is silent based on threshold"
   ]
  },
  {
   "cell_type": "code",
   "execution_count": 5,
   "metadata": {},
   "outputs": [],
   "source": [
    "def is_silent(snd_data):\n",
    "    \"Returns 'True' if below the 'silent' threshold\"\n",
    "    return max(snd_data) < THRESHOLD"
   ]
  },
  {
   "cell_type": "markdown",
   "metadata": {},
   "source": [
    "# Preprocessing"
   ]
  },
  {
   "cell_type": "markdown",
   "metadata": {},
   "source": [
    "# Filters"
   ]
  },
  {
   "cell_type": "code",
   "execution_count": 6,
   "metadata": {},
   "outputs": [],
   "source": [
    "def voice_input_band(voice_data):\n",
    "    fs, data = wavfile.read(voice_data)\n",
    "    data = butter_bandpass_filter(data, BANDPASS_FREQ[0], BANDPASS_FREQ[1], fs)\n",
    "    return data, fs"
   ]
  },
  {
   "cell_type": "markdown",
   "metadata": {},
   "source": [
    "#### Implement butter bandpass filter"
   ]
  },
  {
   "cell_type": "code",
   "execution_count": 7,
   "metadata": {},
   "outputs": [],
   "source": [
    "def butter_bandpass(lowcut, highcut, fs, order=5):\n",
    "    nyq = 0.5 * fs\n",
    "    low = lowcut / nyq\n",
    "    high = highcut / nyq\n",
    "    sos = butter(order, [low, high], btype='band', analog=False, output='sos')\n",
    "    return sos\n",
    "\n",
    "def butter_bandpass_filter(data, lowcut, highcut, fs, order=5):\n",
    "    sos = butter_bandpass(lowcut, highcut, fs, order=order)\n",
    "    y = sosfiltfilt(sos, data)\n",
    "    return y"
   ]
  },
  {
   "cell_type": "markdown",
   "metadata": {},
   "source": [
    "# Loudness Algorithm"
   ]
  },
  {
   "cell_type": "markdown",
   "metadata": {},
   "source": [
    "#### Get amplitude curve and apply regression on ITU-R BS.1770-4 loudness algorithm"
   ]
  },
  {
   "cell_type": "code",
   "execution_count": 8,
   "metadata": {},
   "outputs": [],
   "source": [
    "def getting_loudness3(data, rate):\n",
    "    plt.figure(0)\n",
    "    plt.plot(data)\n",
    "    \n",
    "    # Average data by step size to percentile\n",
    "    avg_data = np.percentile(data[:(len(data)//AVG_STEP)*AVG_STEP].reshape(-1,AVG_STEP),\n",
    "                             PERCENTILE, axis=1)\n",
    "    \n",
    "    #apply hilbert envelope\n",
    "    hilbert_transformed = np.abs(scipy.signal.hilbert(avg_data))\n",
    "\n",
    "    #Smooth out hilbert \n",
    "    b, a = scipy.signal.ellip(4, 0.01, 120, 0.125)\n",
    "    fgust = scipy.signal.filtfilt(b, a, hilbert_transformed, method=\"gust\")\n",
    "    plt.figure(1)\n",
    "    plt.plot(avg_data)\n",
    "    plt.plot(fgust)\n",
    "\n",
    "    #remove silence \n",
    "    avg = np.mean(fgust)\n",
    "    silenced = remove_silence_from(fgust, avg)\n",
    "    plt.figure(2)\n",
    "    plt.plot(silenced)\n",
    "    data = [float(i) for i in silenced]\n",
    "    data = np.array(data)\n",
    "\n",
    "    # measure the loudness first \n",
    "    meter = pyln.Meter(rate/500) # create BS.1770 meter\n",
    "    loudness = meter.integrated_loudness(data)\n",
    "#     print(\"lds: \"+ str(loudness))\n",
    "    #return the exponential regression\n",
    "    return (loudness)"
   ]
  },
  {
   "cell_type": "markdown",
   "metadata": {},
   "source": [
    "#### Remove silence before, after, and in-between voice data"
   ]
  },
  {
   "cell_type": "code",
   "execution_count": 9,
   "metadata": {},
   "outputs": [],
   "source": [
    "def remove_silence_from(amplitudes, threshold):\n",
    "    silenced = []\n",
    "    for x in amplitudes:\n",
    "        if x >= threshold:\n",
    "            silenced.append(x)\n",
    "    return silenced# Preprocessing"
   ]
  },
  {
   "cell_type": "markdown",
   "metadata": {},
   "source": [
    "# Regressions"
   ]
  },
  {
   "cell_type": "markdown",
   "metadata": {},
   "source": [
    "#### Regression converts loudness to scale 0 to 100 and adjusts for calibration offset"
   ]
  },
  {
   "cell_type": "code",
   "execution_count": 10,
   "metadata": {},
   "outputs": [],
   "source": [
    "def regression(loudness, offset=0):\n",
    "    return 2.1256619652039683 * loudness + 52.66548772500079 - offset"
   ]
  },
  {
   "cell_type": "markdown",
   "metadata": {},
   "source": [
    "# Calibration"
   ]
  },
  {
   "cell_type": "code",
   "execution_count": 11,
   "metadata": {},
   "outputs": [],
   "source": [
    "def get_offset(calib_loudness):\n",
    "    return calib_loudness - CALIBRATION_VOLUME"
   ]
  },
  {
   "cell_type": "markdown",
   "metadata": {},
   "source": [
    "# Response"
   ]
  },
  {
   "cell_type": "markdown",
   "metadata": {},
   "source": [
    "#### Sets a new volume that is spoken at for the user"
   ]
  },
  {
   "cell_type": "code",
   "execution_count": 12,
   "metadata": {},
   "outputs": [],
   "source": [
    "def reply(user_volume):\n",
    "    speaker_volume = int(osascript.osascript('output volume of (get volume settings)')[1])\n",
    "    print(\"speaker volume is \" + str(speaker_volume))\n",
    "    print(\"user volume is \"+ str(user_volume))\n",
    "    if(speaker_volume < user_volume):\n",
    "        new_volume = speaker_volume + (((speaker_volume - user_volume)**2) /100)\n",
    "    else:\n",
    "        new_volume = speaker_volume - (((speaker_volume - user_volume)**2) /100)\n",
    "    print(\"speaker new volume is \" + str(new_volume))\n",
    "    osascript.osascript(\"set volume output volume \"+ str(new_volume)) \n",
    "    thing_to_say = 'hello your volume is at '+ str(int(new_volume))\n",
    "    print(thing_to_say)\n",
    "    return int(osascript.osascript('output volume of (get volume settings)')[1])"
   ]
  },
  {
   "cell_type": "markdown",
   "metadata": {},
   "source": [
    "# GUI\n"
   ]
  },
  {
   "cell_type": "markdown",
   "metadata": {},
   "source": [
    "#### Initial Values"
   ]
  },
  {
   "cell_type": "code",
   "execution_count": 13,
   "metadata": {},
   "outputs": [],
   "source": [
    "offset = 0\n",
    "speaker_volume = int(osascript.osascript('output volume of (get volume settings)')[1])\n",
    "user_volume = 0"
   ]
  },
  {
   "cell_type": "markdown",
   "metadata": {},
   "source": [
    "#### Button Functions"
   ]
  },
  {
   "cell_type": "code",
   "execution_count": 14,
   "metadata": {},
   "outputs": [],
   "source": [
    "def calibration():\n",
    "    record_to_file('calibrate.wav')\n",
    "    data, rate = voice_input_band('calibrate.wav')\n",
    "    calib_loudness = getting_loudness3(data, rate)\n",
    "    calib_loudness = regression(calib_loudness)\n",
    "    offset = get_offset(calib_loudness)\n",
    "    status_button.insert('1.0', \n",
    "    str(time.strftime('%l:%M%p %Z on %b %d, %Y'))+': -  CALIBRATED, offset: '+str(int(offset))+'\\n')\n",
    "    say_something('done calibrating')\n",
    "#     print(\"last bit of calibration\")"
   ]
  },
  {
   "cell_type": "code",
   "execution_count": 15,
   "metadata": {},
   "outputs": [],
   "source": [
    "def recording():\n",
    "    #calculating volume\n",
    "    speaker_volume = int(osascript.osascript('output volume of (get volume settings)')[1])\n",
    "    record_to_file('demo.wav')\n",
    "    status_button.insert('1.0', \n",
    "    str(time.strftime('%l:%M%p %Z on %b %d, %Y'))+': -  Done recording \\n')\n",
    "    data, rate = voice_input_band('demo.wav')\n",
    "    user_volume = getting_loudness3(data, rate)\n",
    "    user_volume = regression(user_volume, offset)\n",
    "    user_volume_button[\"text\"] = \"user volume: \"+str(int(user_volume))\n",
    "    new_volume = reply(int(user_volume))\n",
    "    if new_volume > speaker_volume:\n",
    "        thing_to_say = 'hello, the volume increased from '+str(speaker_volume)+' to '+str(int(new_volume))\n",
    "    else:\n",
    "        thing_to_say = 'hello, the volume decreased from '+str(speaker_volume)+' to '+str(int(new_volume))\n",
    "    speaker_volume = int(osascript.osascript('output volume of (get volume settings)')[1])\n",
    "    speaker_volume_button[\"text\"] = \"speaker volume: \"+str(int(speaker_volume))\n",
    "    say_something(thing_to_say)"
   ]
  },
  {
   "cell_type": "markdown",
   "metadata": {},
   "source": [
    "#### Main"
   ]
  },
  {
   "cell_type": "code",
   "execution_count": 16,
   "metadata": {},
   "outputs": [],
   "source": [
    "engine = pyttsx3.init()\n",
    "def say_something(thing_to_say):\n",
    "    subprocess.run([\"say\", thing_to_say])\n",
    "def say_athing(things_to_say):\n",
    "    os.system(\"say \"+things_to_say)\n",
    "def say(s):\n",
    "    engine = pyttsx3.init()\n",
    "    rate = engine.getProperty('rate')\n",
    "    engine.setProperty('rate', rate)\n",
    "    voices= engine.getProperty('voices')\n",
    "    #for voice in voices:\n",
    "    engine.setProperty('voice', 'english-us')\n",
    "    #print voice.id                                  \n",
    "    engine.say(s)\n",
    "    a = engine.runAndWait() #blocks     "
   ]
  },
  {
   "cell_type": "code",
   "execution_count": null,
   "metadata": {},
   "outputs": [
    {
     "name": "stdout",
     "output_type": "stream",
     "text": [
      "speaker volume is 19\n",
      "user volume is 33\n",
      "speaker new volume is 20.96\n",
      "hello your volume is at 20\n"
     ]
    }
   ],
   "source": [
    "gui = tkinter.Tk()\n",
    "speaker_volume_button = tkinter.Label(gui,  text =\"speaker volume: \"+str(speaker_volume))\n",
    "speaker_volume_button.pack()\n",
    "user_volume_button = tkinter.Label(gui,  text =\"user volume: \"+str(user_volume))\n",
    "user_volume_button.pack()\n",
    "status_button = tkinter.Text(gui)\n",
    "status_button.pack()\n",
    "calibrate = tkinter.Button(gui,  text =\"calibrate\", padx = 90, pady = 60, command = calibration)\n",
    "calibrate.pack()\n",
    "record_button = tkinter.Button(gui,  text =\"record\", padx = 90, pady = 60, command = recording)\n",
    "record_button.pack()\n",
    "status_button.insert('1.0', \n",
    "    str(time.strftime('%l:%M%p %Z on %b %d, %Y'))+': -  program started \\n')\n",
    "gui.mainloop()"
   ]
  },
  {
   "cell_type": "markdown",
   "metadata": {},
   "source": [
    "# Main"
   ]
  },
  {
   "cell_type": "code",
   "execution_count": null,
   "metadata": {},
   "outputs": [
    {
     "name": "stdout",
     "output_type": "stream",
     "text": [
      "Please speak at a normal room volume for calibration\n"
     ]
    }
   ],
   "source": [
    "if __name__ == '__main__':\n",
    "    #calibration\n",
    "    os.system(\"say \"+ \"Please speak at a normal room volume for calibration\")\n",
    "    print(\"Please speak at a normal room volume for calibration\")\n",
    "    record_to_file('calibrate.wav')\n",
    "    data, rate = voice_input_band('calibrate.wav')\n",
    "    calib_loudness = getting_loudness3(data, rate)\n",
    "    print(\"Calib loudness: \" + str(int(calib_loudness)))\n",
    "    calib_loudness = regression(calib_loudness)\n",
    "    print(\"Calib loudness: \" + str(int(calib_loudness)))\n",
    "    offset = get_offset(calib_loudness)\n",
    "    print(\"Offset: \" + str(offset))\n",
    "    \n",
    "    #calculating volume\n",
    "    os.system(\"say \"+ \"Please speak into the microphone\")\n",
    "    print(\"please speak a word into the microphone\")\n",
    "    record_to_file('demo.wav')\n",
    "    print(\"done - result written to demo.wav\")\n",
    "    data, rate = voice_input_band('demo.wav')\n",
    "    new_volume = getting_loudness3(data, rate)\n",
    "    new_volume = regression(new_volume, offset)\n",
    "    os.system(\"say \"+ \"Your volume is\" + str(int(new_volume)))\n",
    "#     reply(int(new_volume))"
   ]
  }
 ],
 "metadata": {
  "kernelspec": {
   "display_name": "Python 3",
   "language": "python",
   "name": "python3"
  },
  "language_info": {
   "codemirror_mode": {
    "name": "ipython",
    "version": 3
   },
   "file_extension": ".py",
   "mimetype": "text/x-python",
   "name": "python",
   "nbconvert_exporter": "python",
   "pygments_lexer": "ipython3",
   "version": "3.7.3"
  }
 },
 "nbformat": 4,
 "nbformat_minor": 2
}
