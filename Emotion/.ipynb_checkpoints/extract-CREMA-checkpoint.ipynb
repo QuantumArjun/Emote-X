{
 "cells": [
  {
   "cell_type": "code",
   "execution_count": 13,
   "metadata": {},
   "outputs": [],
   "source": [
    "\n",
    "import numpy as np\n",
    "import matplotlib.pyplot as plt\n",
    "\n",
    "from lxml import html\n",
    "import requests\n",
    "import urllib.request\n",
    "import re\n",
    "import time\n",
    "import os.path\n",
    "import librosa\n",
    "import ipynb.fs.full.concat_project2 as Emote\n"
   ]
  },
  {
   "cell_type": "code",
   "execution_count": 12,
   "metadata": {},
   "outputs": [],
   "source": [
    "BANDPASS_FREQ = [300, 3400]"
   ]
  },
  {
   "cell_type": "code",
   "execution_count": 145,
   "metadata": {},
   "outputs": [],
   "source": [
    "########You should only have to ever call this function once hopefully\n",
    "def download_dataset():\n",
    "    LOCAL_PATH = \"../../TESS/\"\n",
    "    HANDLE = '^/handle/[0-9]+/[0-9]+$'\n",
    "    BASE_URL = 'https://tspace.library.utoronto.ca'\n",
    "    page = requests.get(BASE_URL + '/handle/1807/24487')\n",
    "    tree = html.fromstring(page.content)\n",
    "    subset = [ href.attrib['href'] for href in tree.xpath('//a') if re.match(HANDLE, href.attrib['href'])]\n",
    "\n",
    "    for s in subset:\n",
    "        wav_page = requests.get(BASE_URL + s)\n",
    "        tree     = html.fromstring(wav_page.content)          \n",
    "        links = [ href.attrib['href'] for href in tree.xpath('//a') if 'wav' in href.attrib['href']]\n",
    "        for link in links: \n",
    "            local = link.split('/')[-1]\n",
    "            print(local)\n",
    "            if not os.path.isfile(LOCAL_PATH + local): \n",
    "                try:\n",
    "                    urllib.request.urlretrieve(BASE_URL + link, LOCAL_PATH + local)\n",
    "                    print('Download: ', link)\n",
    "                except IOError:\n",
    "                    print('Err: ', link)\n",
    "            else:\n",
    "                print('Already Exists: ', link)"
   ]
  },
  {
   "cell_type": "code",
   "execution_count": 3,
   "metadata": {
    "scrolled": true
   },
   "outputs": [],
   "source": [
    "def data_extract_tess():\n",
    "    EMOTIONS = {\n",
    "        \"angry\": 0,\n",
    "        \"disgust\": 1,\n",
    "        \"fear\": 2,\n",
    "        \"happy\": 3,\n",
    "        \"neutral\": 4,\n",
    "        \"ps\": 5,       #Pleasant surprise\n",
    "        \"sad\": 6,\n",
    "    }\n",
    "    LOCAL_PATH = \"../../TESS/\"\n",
    "    NUM_SAMPLES = 2800\n",
    "    NUM_EMOTIONS = 7\n",
    "    fs = 0\n",
    "    dataset = []\n",
    "    y = np.zeros((NUM_SAMPLES, NUM_EMOTIONS))\n",
    "\n",
    "    counter = 0\n",
    "    for file in os.listdir(LOCAL_PATH):\n",
    "        if file.endswith('.wav'):\n",
    "            data, fs = librosa.load(LOCAL_PATH + file, sr=None)\n",
    "            data = butter_bandpass_filter(data, BANDPASS_FREQ[0], BANDPASS_FREQ[1], fs)\n",
    "            data = normalize(data)\n",
    "            data = np.asarray(data)\n",
    "            dataset.append(data)\n",
    "            #Get the emotion by looking at the word in between the second _ and . in the filename\n",
    "            emotion = file[file.index('_', 4) + 1 : file.index('.')]\n",
    "            emotion_index = EMOTIONS[emotion]\n",
    "            y[counter][emotion_index] = 1\n",
    "            counter+=1\n",
    "    return dataset, fs, y\n"
   ]
  },
  {
   "cell_type": "code",
   "execution_count": 6,
   "metadata": {},
   "outputs": [],
   "source": [
    "dataset, fs, y = data_extract_tess()"
   ]
  },
  {
   "cell_type": "code",
   "execution_count": 7,
   "metadata": {},
   "outputs": [
    {
     "data": {
      "text/plain": [
       "[<matplotlib.lines.Line2D at 0x119365d68>]"
      ]
     },
     "execution_count": 7,
     "metadata": {},
     "output_type": "execute_result"
    },
    {
     "data": {
      "image/png": "[encoded data removed]",
      "text/plain": [
       "<Figure size 432x288 with 1 Axes>"
      ]
     },
     "metadata": {
      "needs_background": "light"
     },
     "output_type": "display_data"
    }
   ],
   "source": [
    "plt.plot(dataset[2000])"
   ]
  },
  {
   "cell_type": "code",
   "execution_count": 28,
   "metadata": {},
   "outputs": [
    {
     "name": "stdout",
     "output_type": "stream",
     "text": [
      "MFCC: 1.1398875713348389ms\n",
      "Pitch: 3.9906322956085205\n",
      "Spectral: 0.7733500003814697ms\n",
      "LPC: 147.58097648620605ms\n",
      "RMS: 0.11069774627685547ms\n",
      "SR: 0.5579352378845215ms\n",
      "zero: 0.23312926292419434ms\n"
     ]
    }
   ],
   "source": [
    "mfcc = []\n",
    "pitch = []\n",
    "spectral = []\n",
    "lpc = []\n",
    "rms = []\n",
    "sr = []\n",
    "zero = []\n",
    "for i in range(20):\n",
    "    tic = time.time()\n",
    "    Emote.MFCC_algorithm([dataset[13]], fs)\n",
    "    toc = time.time()\n",
    "    mfcc.append(toc - tic)\n",
    "    \n",
    "    tic = time.time()\n",
    "    Emote.get_pitch_vector(dataset[13], fs)\n",
    "    toc = time.time()\n",
    "    pitch.append(toc - tic)\n",
    "    \n",
    "    tic = time.time()\n",
    "    Emote.get_spectral_vector(dataset[13], fs)\n",
    "    toc = time.time()\n",
    "    spectral.append(toc - tic)\n",
    "    \n",
    "    tic = time.time()\n",
    "    Emote.get_lpc_vector(dataset[13])\n",
    "    toc = time.time()\n",
    "    lpc.append(toc - tic)\n",
    "    \n",
    "    tic = time.time()\n",
    "    Emote.get_rms_vector(dataset[13])\n",
    "    toc = time.time()\n",
    "    rms.append(toc - tic)\n",
    "    \n",
    "    tic = time.time()\n",
    "    Emote.get_sr_vector(dataset[13])\n",
    "    toc = time.time()\n",
    "    sr.append(toc - tic)\n",
    "    \n",
    "    tic = time.time()\n",
    "    Emote.get_zero_vector(dataset[13])\n",
    "    toc = time.time()\n",
    "    zero.append(toc - tic)\n",
    "print(\"MFCC: \" + str(np.mean(mfcc)*100) + \"ms\")\n",
    "print(\"Pitch: \" + str(np.mean(pitch)*100))\n",
    "print(\"Spectral: \" + str(np.mean(spectral)*100) + \"ms\")\n",
    "print(\"LPC: \" + str(np.mean(lpc)*100) + \"ms\")\n",
    "print(\"RMS: \" + str(np.mean(rms)*100) + \"ms\")\n",
    "print(\"SR: \" + str(np.mean(sr)*100) + \"ms\")\n",
    "print(\"zero: \" + str(np.mean(zero)*100) + \"ms\")"
   ]
  },
  {
   "cell_type": "code",
   "execution_count": null,
   "metadata": {},
   "outputs": [],
   "source": []
  }
 ],
 "metadata": {
  "kernelspec": {
   "display_name": "Python 3",
   "language": "python",
   "name": "python3"
  },
  "language_info": {
   "codemirror_mode": {
    "name": "ipython",
    "version": 3
   },
   "file_extension": ".py",
   "mimetype": "text/x-python",
   "name": "python",
   "nbconvert_exporter": "python",
   "pygments_lexer": "ipython3",
   "version": "3.7.3"
  }
 },
 "nbformat": 4,
 "nbformat_minor": 2
}
