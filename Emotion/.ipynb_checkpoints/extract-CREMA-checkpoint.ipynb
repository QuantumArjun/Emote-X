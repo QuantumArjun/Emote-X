{
 "cells": [
  {
   "cell_type": "code",
   "execution_count": 23,
   "metadata": {},
   "outputs": [],
   "source": [
    "\n",
    "import numpy as np\n",
    "import pandas as pd\n",
    "import matplotlib.pyplot as plt\n",
    "\n",
    "from lxml import html\n",
    "import requests\n",
    "import urllib.request\n",
    "import re\n",
    "import time\n",
    "import os.path\n",
    "import librosa\n",
    "from ipynb.fs.full.concat_project2 import butter_bandpass_filter, normalize\n",
    "import ipynb.fs.full.concat_project2 as Emote\n",
    "import csv\n"
   ]
  },
  {
   "cell_type": "code",
   "execution_count": 24,
   "metadata": {},
   "outputs": [],
   "source": [
    "BANDPASS_FREQ = [300, 3400]"
   ]
  },
  {
   "cell_type": "code",
   "execution_count": 38,
   "metadata": {
    "scrolled": true
   },
   "outputs": [],
   "source": [
    "def data_extract_CREMA():\n",
    "    EMOTIONS = {\n",
    "        \"ANG\": 0,\n",
    "        \"DIS\": 1,\n",
    "        \"FEA\": 2,\n",
    "        \"HAP\": 3,\n",
    "        \"NEU\": 4,\n",
    "        \"SAD\": 5,\n",
    "    }\n",
    "    LOCAL_PATH = \"../../CREMA/\"\n",
    "    WAV_PATH = LOCAL_PATH + \"AudioWAV/\"\n",
    "    demographics = pd.read_csv(LOCAL_PATH + \"VideoDemographics.csv\")\n",
    "    \n",
    "    NUM_SAMPLES = 7442\n",
    "    NUM_EMOTIONS = 6\n",
    "    fs = 0\n",
    "    dataset = []\n",
    "    y = np.zeros((NUM_SAMPLES, NUM_EMOTIONS*2))\n",
    "\n",
    "    counter = 0\n",
    "    for file in os.listdir(WAV_PATH):\n",
    "        if file.endswith('.wav'):\n",
    "            data, fs = librosa.load(WAV_PATH + file, sr=None)\n",
    "            data = butter_bandpass_filter(data, BANDPASS_FREQ[0], BANDPASS_FREQ[1], fs)\n",
    "            data = normalize(data)\n",
    "            data = np.asarray(data)\n",
    "            dataset.append(data)\n",
    "            #Get actor ID from filename\n",
    "            actor_id = int(file[0:4])\n",
    "            #Get the emotion which is in the filename\n",
    "            emotion = file[9:12]\n",
    "            #get the gender from demographics pd dataframe. 0 for Male, 1 for female\n",
    "            gender = 0\n",
    "            gender = 0 if demographics[\"Sex\"][actor_id - 1001] == \"Male\" else 1\n",
    "            emotion_index = EMOTIONS[emotion] + gender*NUM_EMOTIONS\n",
    "            \n",
    "            y[counter][emotion_index] = 1\n",
    "            counter+=1\n",
    "    return dataset, fs, y\n"
   ]
  },
  {
   "cell_type": "code",
   "execution_count": null,
   "metadata": {},
   "outputs": [],
   "source": [
    "dataset, fs, y = data_extract_CREMA()"
   ]
  },
  {
   "cell_type": "code",
   "execution_count": null,
   "metadata": {},
   "outputs": [],
   "source": [
    "plt.plot(dataset[2000])"
   ]
  },
  {
   "cell_type": "code",
   "execution_count": 28,
   "metadata": {},
   "outputs": [
    {
     "name": "stdout",
     "output_type": "stream",
     "text": [
      "MFCC: 1.1398875713348389ms\n",
      "Pitch: 3.9906322956085205\n",
      "Spectral: 0.7733500003814697ms\n",
      "LPC: 147.58097648620605ms\n",
      "RMS: 0.11069774627685547ms\n",
      "SR: 0.5579352378845215ms\n",
      "zero: 0.23312926292419434ms\n"
     ]
    }
   ],
   "source": [
    "# #TIC TOC\n",
    "# mfcc = []\n",
    "# pitch = []\n",
    "# spectral = []\n",
    "# lpc = []\n",
    "# rms = []\n",
    "# sr = []\n",
    "# zero = []\n",
    "# for i in range(20):\n",
    "#     tic = time.time()\n",
    "#     Emote.MFCC_algorithm([dataset[13]], fs)\n",
    "#     toc = time.time()\n",
    "#     mfcc.append(toc - tic)\n",
    "    \n",
    "#     tic = time.time()\n",
    "#     Emote.get_pitch_vector(dataset[13], fs)\n",
    "#     toc = time.time()\n",
    "#     pitch.append(toc - tic)\n",
    "    \n",
    "#     tic = time.time()\n",
    "#     Emote.get_spectral_vector(dataset[13], fs)\n",
    "#     toc = time.time()\n",
    "#     spectral.append(toc - tic)\n",
    "    \n",
    "#     tic = time.time()\n",
    "#     Emote.get_lpc_vector(dataset[13])\n",
    "#     toc = time.time()\n",
    "#     lpc.append(toc - tic)\n",
    "    \n",
    "#     tic = time.time()\n",
    "#     Emote.get_rms_vector(dataset[13])\n",
    "#     toc = time.time()\n",
    "#     rms.append(toc - tic)\n",
    "    \n",
    "#     tic = time.time()\n",
    "#     Emote.get_sr_vector(dataset[13])\n",
    "#     toc = time.time()\n",
    "#     sr.append(toc - tic)\n",
    "    \n",
    "#     tic = time.time()\n",
    "#     Emote.get_zero_vector(dataset[13])\n",
    "#     toc = time.time()\n",
    "#     zero.append(toc - tic)\n",
    "# print(\"MFCC: \" + str(np.mean(mfcc)*100) + \"ms\")\n",
    "# print(\"Pitch: \" + str(np.mean(pitch)*100))\n",
    "# print(\"Spectral: \" + str(np.mean(spectral)*100) + \"ms\")\n",
    "# print(\"LPC: \" + str(np.mean(lpc)*100) + \"ms\")\n",
    "# print(\"RMS: \" + str(np.mean(rms)*100) + \"ms\")\n",
    "# print(\"SR: \" + str(np.mean(sr)*100) + \"ms\")\n",
    "# print(\"zero: \" + str(np.mean(zero)*100) + \"ms\")"
   ]
  },
  {
   "cell_type": "code",
   "execution_count": 7,
   "metadata": {},
   "outputs": [],
   "source": [
    "LOCAL_PATH = \"../../CREMA/\"\n",
    "    \n",
    "demographics = pd.read_csv(LOCAL_PATH + \"VideoDemographics.csv\")"
   ]
  },
  {
   "cell_type": "code",
   "execution_count": 8,
   "metadata": {},
   "outputs": [
    {
     "name": "stdout",
     "output_type": "stream",
     "text": [
      "    ActorID  Age     Sex              Race     Ethnicity\n",
      "0      1001   51    Male         Caucasian  Not Hispanic\n",
      "1      1002   21  Female         Caucasian  Not Hispanic\n",
      "2      1003   21  Female         Caucasian  Not Hispanic\n",
      "3      1004   42  Female         Caucasian  Not Hispanic\n",
      "4      1005   29    Male  African American  Not Hispanic\n",
      "5      1006   58  Female         Caucasian  Not Hispanic\n",
      "6      1007   38  Female  African American  Not Hispanic\n",
      "7      1008   46  Female         Caucasian  Not Hispanic\n",
      "8      1009   24  Female         Caucasian  Not Hispanic\n",
      "9      1010   27  Female         Caucasian  Not Hispanic\n",
      "10     1011   32    Male         Caucasian  Not Hispanic\n",
      "11     1012   23  Female         Caucasian  Not Hispanic\n",
      "12     1013   22  Female         Caucasian      Hispanic\n",
      "13     1014   24    Male         Caucasian  Not Hispanic\n",
      "14     1015   32    Male  African American  Not Hispanic\n",
      "15     1016   61    Male         Caucasian  Not Hispanic\n",
      "16     1017   42    Male         Caucasian  Not Hispanic\n",
      "17     1018   25  Female         Caucasian      Hispanic\n",
      "18     1019   29    Male             Asian  Not Hispanic\n",
      "19     1020   61  Female         Caucasian  Not Hispanic\n",
      "20     1021   30  Female         Caucasian  Not Hispanic\n",
      "21     1022   22    Male         Caucasian  Not Hispanic\n",
      "22     1023   22    Male         Caucasian  Not Hispanic\n",
      "23     1024   59  Female         Caucasian  Not Hispanic\n",
      "24     1025   48  Female         Caucasian  Not Hispanic\n",
      "25     1026   33    Male         Caucasian  Not Hispanic\n",
      "26     1027   44    Male         Caucasian  Not Hispanic\n",
      "27     1028   57  Female         Caucasian  Not Hispanic\n",
      "28     1029   33  Female  African American  Not Hispanic\n",
      "29     1030   42  Female  African American  Not Hispanic\n",
      "..      ...  ...     ...               ...           ...\n",
      "61     1062   56    Male         Caucasian  Not Hispanic\n",
      "62     1063   33  Female  African American  Not Hispanic\n",
      "63     1064   53    Male         Caucasian  Not Hispanic\n",
      "64     1065   38    Male         Caucasian  Not Hispanic\n",
      "65     1066   25    Male         Caucasian  Not Hispanic\n",
      "66     1067   66    Male         Caucasian  Not Hispanic\n",
      "67     1068   34    Male         Caucasian  Not Hispanic\n",
      "68     1069   27    Male         Caucasian  Not Hispanic\n",
      "69     1070   25    Male  African American  Not Hispanic\n",
      "70     1071   41    Male         Caucasian  Not Hispanic\n",
      "71     1072   33  Female             Asian  Not Hispanic\n",
      "72     1073   24  Female  African American      Hispanic\n",
      "73     1074   31  Female  African American  Not Hispanic\n",
      "74     1075   40  Female         Caucasian  Not Hispanic\n",
      "75     1076   25  Female         Caucasian  Not Hispanic\n",
      "76     1077   20    Male         Caucasian  Not Hispanic\n",
      "77     1078   21  Female         Caucasian  Not Hispanic\n",
      "78     1079   21  Female         Caucasian      Hispanic\n",
      "79     1080   21    Male  African American  Not Hispanic\n",
      "80     1081   30    Male             Asian  Not Hispanic\n",
      "81     1082   20  Female         Caucasian  Not Hispanic\n",
      "82     1083   45    Male  African American  Not Hispanic\n",
      "83     1084   46  Female         Caucasian  Not Hispanic\n",
      "84     1085   34    Male             Asian  Not Hispanic\n",
      "85     1086   33    Male         Caucasian  Not Hispanic\n",
      "86     1087   62    Male         Caucasian  Not Hispanic\n",
      "87     1088   23    Male  African American  Not Hispanic\n",
      "88     1089   24  Female         Caucasian  Not Hispanic\n",
      "89     1090   50    Male             Asian  Not Hispanic\n",
      "90     1091   29  Female             Asian  Not Hispanic\n",
      "\n",
      "[91 rows x 5 columns]\n"
     ]
    }
   ],
   "source": [
    "print(demographics)"
   ]
  },
  {
   "cell_type": "code",
   "execution_count": 37,
   "metadata": {},
   "outputs": [],
   "source": [
    "if demographics[\"Sex\"][actor_id - 1001] == \"Female\":\n",
    "    print(\"hi\")"
   ]
  },
  {
   "cell_type": "code",
   "execution_count": 32,
   "metadata": {},
   "outputs": [],
   "source": [
    "actor_id = 1001"
   ]
  },
  {
   "cell_type": "code",
   "execution_count": 16,
   "metadata": {},
   "outputs": [
    {
     "data": {
      "text/plain": [
       "'1001'"
      ]
     },
     "execution_count": 16,
     "metadata": {},
     "output_type": "execute_result"
    }
   ],
   "source": [
    "str[0:4]"
   ]
  },
  {
   "cell_type": "code",
   "execution_count": null,
   "metadata": {},
   "outputs": [],
   "source": []
  }
 ],
 "metadata": {
  "kernelspec": {
   "display_name": "Python 3",
   "language": "python",
   "name": "python3"
  },
  "language_info": {
   "codemirror_mode": {
    "name": "ipython",
    "version": 3
   },
   "file_extension": ".py",
   "mimetype": "text/x-python",
   "name": "python",
   "nbconvert_exporter": "python",
   "pygments_lexer": "ipython3",
   "version": "3.7.3"
  }
 },
 "nbformat": 4,
 "nbformat_minor": 2
}
