{
 "cells": [
  {
   "cell_type": "code",
   "execution_count": null,
   "metadata": {},
   "outputs": [],
   "source": [
    "%matplotlib qt"
   ]
  },
  {
   "cell_type": "markdown",
   "metadata": {},
   "source": [
    "# Finding Feature Importance (through Random Forest)"
   ]
  },
  {
   "cell_type": "code",
   "execution_count": 1,
   "metadata": {},
   "outputs": [
    {
     "name": "stderr",
     "output_type": "stream",
     "text": [
      "Using TensorFlow backend.\n"
     ]
    }
   ],
   "source": [
    "import  ipynb.fs.full.concat_project2 as emotex_lib\n",
    "from ipynb.fs.full.concat_project2 import x_y_split\n",
    "from sklearn.ensemble import RandomForestClassifier\n",
    "from sklearn import datasets\n",
    "from sklearn.model_selection import train_test_split\n",
    "from sklearn.feature_selection import SelectFromModel\n",
    "from sklearn.metrics import accuracy_score\n",
    "import matplotlib.pyplot as plt\n",
    "import matplotlib.pyplot as plt; plt.rcdefaults()\n",
    "import numpy as np\n",
    "from sklearn.feature_selection import SelectKBest, chi2, f_regression, f_classif\n",
    "from sklearn.neural_network import MLPClassifier\n",
    "from scipy.signal import butter, sosfiltfilt\n",
    "import python_speech_features\n",
    "from sklearn.neural_network import MLPClassifier\n",
    "from sklearn.metrics import classification_report,confusion_matrix\n",
    "from sklearn.model_selection import train_test_split\n",
    "from ipynb.fs.full.Pitch_vector import get_pitch_stats\n",
    "import numpy as np\n",
    "from keras.models import Sequential\n",
    "from keras.layers import Dense, Dropout, Activation, Flatten\n",
    "from keras.layers import Convolution2D, MaxPooling2D\n",
    "from keras.optimizers import Adam\n",
    "from keras.utils import np_utils\n",
    "from sklearn import metrics \n",
    "import time\n",
    "import  ipynb.fs.full.concat_project2 as emotex_lib\n",
    "from sklearn.model_selection import KFold\n",
    "from keras.optimizers import Adadelta\n",
    "from keras.layers import Conv2D\n",
    "from keras.layers import Conv1D\n",
    "from keras.layers import MaxPooling1D\n",
    "import keras as keras\n",
    "from  conch.analysis.formants import lpc\n",
    "import csv\n",
    "from sklearn.svm import SVC\n",
    "from sklearn.datasets import make_classification\n",
    "from yellowbrick.features import RFECV\n",
    "from sklearn.model_selection import StratifiedKFold\n",
    "from sklearn.feature_selection import RFE\n",
    "from sklearn.svm import SVR\n",
    "from sklearn.svm import LinearSVC\n",
    "from sklearn.feature_selection import RFE"
   ]
  },
  {
   "cell_type": "markdown",
   "metadata": {},
   "source": [
    "# Import data"
   ]
  },
  {
   "cell_type": "code",
   "execution_count": null,
   "metadata": {},
   "outputs": [],
   "source": [
    "features, y = data_extract_all()\n",
    "X_train, X_val, X_test, y_train, y_val, y_test = x_y_split(features, y)"
   ]
  },
  {
   "cell_type": "code",
   "execution_count": 5,
   "metadata": {},
   "outputs": [],
   "source": [
    "X_train, X_val, X_test, y_train, y_val, y_test = np.load(\"../../splitdata.npy\", allow_pickle=True)"
   ]
  },
  {
   "cell_type": "code",
   "execution_count": 2,
   "metadata": {},
   "outputs": [],
   "source": [
    "#TESS Dataset Import\n",
    "X_train_TESS, X_test_TESS, y_train_TESS, y_test_TESS = np.load(\"TESS_data.npy\", allow_pickle = True)"
   ]
  },
  {
   "cell_type": "code",
   "execution_count": 7,
   "metadata": {},
   "outputs": [],
   "source": [
    "#RAVDESS Dataset Import\n",
    "data_RAV, fs_RAV, x_size = emotex_lib.data_extraction_RAVDESS('../../RAVDESS')\n",
    "y_RAV = emotex_lib.emotion_extraction_RAVDESS('../../RAVDESS',x_size)\n",
    "X_train_RAV, X_test_RAV, y_train_RAV, y_test_RAV = x_y_split(data_RAV, fs_RAV, y_RAV)"
   ]
  },
  {
   "cell_type": "code",
   "execution_count": 11,
   "metadata": {},
   "outputs": [],
   "source": [
    "X_train_RAV, X_test_RAV, y_train_RAV, y_test_RAV = np.load(\"RAVDESS_X_Y_train_test.npy\", allow_pickle = True)"
   ]
  },
  {
   "cell_type": "code",
   "execution_count": 8,
   "metadata": {},
   "outputs": [
    {
     "ename": "ValueError",
     "evalue": "not enough values to unpack (expected 4, got 3)",
     "output_type": "error",
     "traceback": [
      "\u001b[0;31m---------------------------------------------------------------------------\u001b[0m",
      "\u001b[0;31mValueError\u001b[0m                                Traceback (most recent call last)",
      "\u001b[0;32m<ipython-input-8-0741128e8adf>\u001b[0m in \u001b[0;36m<module>\u001b[0;34m\u001b[0m\n\u001b[0;32m----> 1\u001b[0;31m \u001b[0mX_train_CREMA\u001b[0m\u001b[0;34m,\u001b[0m \u001b[0mX_test_CREMA\u001b[0m\u001b[0;34m,\u001b[0m \u001b[0my_train_CREMA\u001b[0m\u001b[0;34m,\u001b[0m \u001b[0my_test_CREMA\u001b[0m \u001b[0;34m=\u001b[0m \u001b[0mnp\u001b[0m\u001b[0;34m.\u001b[0m\u001b[0mload\u001b[0m\u001b[0;34m(\u001b[0m\u001b[0;34m\"CREMA_data.npy\"\u001b[0m\u001b[0;34m,\u001b[0m \u001b[0mallow_pickle\u001b[0m \u001b[0;34m=\u001b[0m \u001b[0;32mTrue\u001b[0m\u001b[0;34m)\u001b[0m\u001b[0;34m\u001b[0m\u001b[0;34m\u001b[0m\u001b[0m\n\u001b[0m",
      "\u001b[0;31mValueError\u001b[0m: not enough values to unpack (expected 4, got 3)"
     ]
    }
   ],
   "source": [
    "#CREMA Dataset Import\n",
    "data_CREMA, fs_CREMA, y_CREMA = emotex_lib.data_extract_CREMA()\n",
    "\n",
    "X_train_CREMA, X_test_CREMA, y_train_CREMA, y_test_CREMA = np.load(\"CREMA_data.npy\", allow_pickle = True)"
   ]
  },
  {
   "cell_type": "code",
   "execution_count": 6,
   "metadata": {},
   "outputs": [],
   "source": [
    "#Classifies all the feature labels\n",
    "feat_labels = ['MFCC_1_Mean', 'MFCC_1_Median','MFCC_1_Var', 'MFCC_1_Min', \n",
    "               'MFCC_1_Max', 'MFCC_1_dMean','MFCC_1_dVar', 'MFCC_2_Mean',\n",
    "               'MFCC_2_Median','MFCC_2_Var', 'MFCC_2_Min', 'MFCC_2_Max',\n",
    "               'MFCC_2_dMean','MFCC_2_dVar', 'MFCC_3_Mean', 'MFCC_3_Median',\n",
    "               'MFCC_3_Var', 'MFCC_3_Min', 'MFCC_3_Max', 'MFCC_3_dMean',\n",
    "               'MFCC_3_dVar','MFCC_4_Mean', 'MFCC_4_Median',\n",
    "               'MFCC_4_Var', 'MFCC_4_Min', 'MFCC_4_Max', 'MFCC_4_dMean',\n",
    "               'MFCC_4_dVar','MFCC_5_Mean', 'MFCC_5_Median',\n",
    "               'MFCC_5_Var', 'MFCC_5_Min', 'MFCC_5_Max', 'MFCC_5_dMean',\n",
    "               'MFCC_5_dVar','MFCC_6_Mean', 'MFCC_6_Median',\n",
    "               'MFCC_6_Var', 'MFCC_6_Min', 'MFCC_6_Max', 'MFCC_6_dMean',\n",
    "               'MFCC_6_dVar','MFCC_7_Mean', 'MFCC_7_Median',\n",
    "               'MFCC_7_Var', 'MFCC_7_Min', 'MFCC_7_Max', 'MFCC_7_dMean',\n",
    "               'MFCC_7_dVar','MFCC_8_Mean', 'MFCC_8_Median',\n",
    "               'MFCC_8_Var', 'MFCC_8_Min', 'MFCC_8_Max', 'MFCC_8_dMean',\n",
    "               'MFCC_8_dVar','MFCC_9_Mean', 'MFCC_9_Median',\n",
    "               'MFCC_9_Var', 'MFCC_9_Min', 'MFCC_9_Max', 'MFCC_9_dMean',\n",
    "               'MFCC_9_dVar', 'MFCC_10_Mean', 'MFCC_10_Median',\n",
    "               'MFCC_10_Var', 'MFCC_10_Min', 'MFCC_10_Max', 'MFCC_10_dMean',\n",
    "               'MFCC_10_dVar', 'MFCC_11_Mean', 'MFCC_11_Median',\n",
    "               'MFCC_11_Var', 'MFCC_11_Min', 'MFCC_11_Max', 'MFCC_11_dMean',\n",
    "               'MFCC_11_dVar','MFCC_12_Mean', 'MFCC_12_Median',\n",
    "               'MFCC_12_Var', 'MFCC_12_Min', 'MFCC_12_Max', 'MFCC_12_dMean',\n",
    "               'MFCC_12_dVar', 'MFCC_13_Mean', 'MFCC_13_Median',\n",
    "               'MFCC_13_Var', 'MFCC_13_Min', 'MFCC_13_Max', 'MFCC_13_dMean',\n",
    "               'MFCC_13_dVar','Pitch_Mean', 'Pitch_Median', 'Pitch_Min', 'Pitch_Max',\n",
    "               'Pitch_Var', 'Pitch_dMean', 'Pitch_dMin', 'Pitch_dMax', 'Spectral_Mean', \n",
    "               'Spectral_Median', 'Spectral_Min', 'Spectral_Max', 'Spectral_Var', 'Spectral_dMean', \n",
    "               'Spectral_dMin', 'Spectral_dMax',\n",
    "               'RMS_Mean', 'RMS_Median', 'RMS_Min', 'RMS_Max','RMS_Var', 'RMS_dMean', \n",
    "               'RMS_dMin', 'RMS_dMax', 'Spec_Rolloff_Mean', 'Spec_Rolloff_Median',\n",
    "               'Spec_Rolloff_Min', 'Spec_Rolloff_Max','Spec_Rolloff_Var', 'Spec_Rolloff_dMean', \n",
    "               'Spec_Rolloff_dMin', 'Spec_Rolloff_dMax', 'Zero_Cutoff_Mean', 'Zero_Cutoff_Median',\n",
    "               'Zero_Cutoff_Min', 'Zero_Cutoff_Max','Zero_Cutoff_Var', 'Zero_Cutoff_dMean', \n",
    "               'Zero_Cutoff_dMin', 'Zero_Cutoff_dMax']"
   ]
  },
  {
   "cell_type": "code",
   "execution_count": 9,
   "metadata": {},
   "outputs": [],
   "source": [
    "feat_labels_mod = [\"MFCCs\"]\n",
    "counter = 0\n",
    "for i in range(90):\n",
    "    if counter % 3:\n",
    "        feat_labels_mod.append('    .     ')\n",
    "    else:\n",
    "        feat_labels_mod.append('          ')\n",
    "    counter +=1\n",
    "feat_labels_mod.append('Pitch')\n",
    "for i in range(7):\n",
    "    if counter % 3:\n",
    "        feat_labels_mod.append('    .     ')\n",
    "    else:\n",
    "        feat_labels_mod.append('          ')\n",
    "    counter +=1\n",
    "feat_labels_mod.append('Spectral')\n",
    "for i in range(7):\n",
    "    if counter % 3:\n",
    "        feat_labels_mod.append('    .     ')\n",
    "    else:\n",
    "        feat_labels_mod.append('          ')\n",
    "    counter +=1\n",
    "feat_labels_mod.append('LPC')\n",
    "for i in range(7):\n",
    "    if counter % 3:\n",
    "        feat_labels_mod.append('    .     ')\n",
    "    else:\n",
    "        feat_labels_mod.append('          ')\n",
    "    counter +=1\n",
    "feat_labels_mod.append('RMS')\n",
    "for i in range(11):\n",
    "    if counter % 3:\n",
    "        feat_labels_mod.append('    .     ')\n",
    "    else:\n",
    "        feat_labels_mod.append('          ')\n",
    "    counter +=1\n",
    "feat_labels_mod.append('spectural roll off')\n",
    "for i in range(7):\n",
    "    if counter % 3:\n",
    "        feat_labels_mod.append('    .     ')\n",
    "    else:\n",
    "        feat_labels_mod.append('          ')\n",
    "    counter +=1\n",
    "feat_labels_mod.append('zero cut off')\n",
    "for i in range(7):\n",
    "    if counter % 3:\n",
    "        feat_labels_mod.append('    .     ')\n",
    "    else:\n",
    "        feat_labels_mod.append('          ')\n",
    "    counter +=1"
   ]
  },
  {
   "cell_type": "markdown",
   "metadata": {},
   "source": [
    "# Create Random Forest Classifiers"
   ]
  },
  {
   "cell_type": "code",
   "execution_count": null,
   "metadata": {},
   "outputs": [],
   "source": [
    "#Creates a Random Forest Classifier (Classifier chosen as opposed to regression)\n",
    "clf_TESS = RandomForestClassifier(n_estimators=10000, random_state=0, n_jobs=-1)\n",
    "\n",
    "#Trains the RF Classifier\n",
    "clf_TESS.fit(X_train_TESS, y_train_TESS)"
   ]
  },
  {
   "cell_type": "code",
   "execution_count": 13,
   "metadata": {},
   "outputs": [
    {
     "data": {
      "text/plain": [
       "RandomForestClassifier(bootstrap=True, class_weight=None, criterion='gini',\n",
       "                       max_depth=None, max_features='auto', max_leaf_nodes=None,\n",
       "                       min_impurity_decrease=0.0, min_impurity_split=None,\n",
       "                       min_samples_leaf=1, min_samples_split=2,\n",
       "                       min_weight_fraction_leaf=0.0, n_estimators=10000,\n",
       "                       n_jobs=-1, oob_score=False, random_state=0, verbose=0,\n",
       "                       warm_start=False)"
      ]
     },
     "execution_count": 13,
     "metadata": {},
     "output_type": "execute_result"
    }
   ],
   "source": [
    "#Creates a Random Forest Classifier (Classifier chosen as opposed to regression)\n",
    "clf_RAV = RandomForestClassifier(n_estimators=10000, random_state=0, n_jobs=-1)\n",
    "\n",
    "#Trains the RF Classifier\n",
    "clf_RAV.fit(X_train_RAV, y_train_RAV)"
   ]
  },
  {
   "cell_type": "code",
   "execution_count": 10,
   "metadata": {},
   "outputs": [
    {
     "data": {
      "text/plain": [
       "RandomForestClassifier(bootstrap=True, class_weight=None, criterion='gini',\n",
       "                       max_depth=None, max_features='auto', max_leaf_nodes=None,\n",
       "                       min_impurity_decrease=0.0, min_impurity_split=None,\n",
       "                       min_samples_leaf=1, min_samples_split=2,\n",
       "                       min_weight_fraction_leaf=0.0, n_estimators=10000,\n",
       "                       n_jobs=-1, oob_score=False, random_state=0, verbose=0,\n",
       "                       warm_start=False)"
      ]
     },
     "execution_count": 10,
     "metadata": {},
     "output_type": "execute_result"
    }
   ],
   "source": [
    "#Creates a Random Forest Classifier (Classifier chosen as opposed to regression)\n",
    "clf_CREMA = RandomForestClassifier(n_estimators=10000, random_state=0, n_jobs=-1)\n",
    "\n",
    "#Trains the RF Classifier\n",
    "clf_CREMA.fit(X_train_CREMA, y_train_CREMA)"
   ]
  },
  {
   "cell_type": "markdown",
   "metadata": {},
   "source": [
    "# Gather Features"
   ]
  },
  {
   "cell_type": "code",
   "execution_count": 9,
   "metadata": {},
   "outputs": [
    {
     "ename": "NameError",
     "evalue": "name 'feat_labels' is not defined",
     "output_type": "error",
     "traceback": [
      "\u001b[0;31m---------------------------------------------------------------------------\u001b[0m",
      "\u001b[0;31mNameError\u001b[0m                                 Traceback (most recent call last)",
      "\u001b[0;32m<ipython-input-9-4cf3dc1d99e2>\u001b[0m in \u001b[0;36m<module>\u001b[0;34m\u001b[0m\n\u001b[1;32m      2\u001b[0m \u001b[0msum1\u001b[0m \u001b[0;34m=\u001b[0m \u001b[0;36m0\u001b[0m\u001b[0;34m\u001b[0m\u001b[0;34m\u001b[0m\u001b[0m\n\u001b[1;32m      3\u001b[0m \u001b[0mfeatureList_TESS\u001b[0m \u001b[0;34m=\u001b[0m \u001b[0;34m[\u001b[0m\u001b[0;34m]\u001b[0m\u001b[0;34m\u001b[0m\u001b[0;34m\u001b[0m\u001b[0m\n\u001b[0;32m----> 4\u001b[0;31m \u001b[0;32mfor\u001b[0m \u001b[0mfeature\u001b[0m \u001b[0;32min\u001b[0m \u001b[0mzip\u001b[0m\u001b[0;34m(\u001b[0m\u001b[0mfeat_labels\u001b[0m\u001b[0;34m,\u001b[0m \u001b[0mclf_TESS\u001b[0m\u001b[0;34m.\u001b[0m\u001b[0mfeature_importances_\u001b[0m\u001b[0;34m)\u001b[0m\u001b[0;34m:\u001b[0m\u001b[0;34m\u001b[0m\u001b[0;34m\u001b[0m\u001b[0m\n\u001b[0m\u001b[1;32m      5\u001b[0m     \u001b[0mfeatureList_TESS\u001b[0m\u001b[0;34m.\u001b[0m\u001b[0mappend\u001b[0m\u001b[0;34m(\u001b[0m\u001b[0mfeature\u001b[0m\u001b[0;34m[\u001b[0m\u001b[0;36m1\u001b[0m\u001b[0;34m]\u001b[0m\u001b[0;34m)\u001b[0m\u001b[0;34m\u001b[0m\u001b[0;34m\u001b[0m\u001b[0m\n\u001b[1;32m      6\u001b[0m     \u001b[0;31m#print(feature)\u001b[0m\u001b[0;34m\u001b[0m\u001b[0;34m\u001b[0m\u001b[0;34m\u001b[0m\u001b[0m\n",
      "\u001b[0;31mNameError\u001b[0m: name 'feat_labels' is not defined"
     ]
    }
   ],
   "source": [
    "#Prints the name and the GINI importance of each feature \n",
    "sum1 = 0\n",
    "featureList_TESS = []\n",
    "for feature in zip(feat_labels, clf_TESS.feature_importances_):\n",
    "    featureList_TESS.append(feature[1])\n",
    "    #print(feature)"
   ]
  },
  {
   "cell_type": "code",
   "execution_count": 14,
   "metadata": {},
   "outputs": [],
   "source": [
    "#Prints the name and the GINI importance of each feature \n",
    "sum1 = 0\n",
    "featureList_RAV = []\n",
    "for feature in zip(feat_labels, clf_RAV.feature_importances_):\n",
    "    featureList_RAV.append(feature[1])\n",
    "    #print(feature)"
   ]
  },
  {
   "cell_type": "code",
   "execution_count": 11,
   "metadata": {},
   "outputs": [
    {
     "name": "stdout",
     "output_type": "stream",
     "text": [
      "('MFCC_1_Mean', 0.008302380154958018)\n",
      "('MFCC_1_Median', 0.008345249011534208)\n",
      "('MFCC_1_Var', 0.006086431660372063)\n",
      "('MFCC_1_Min', 0.0059258136241668235)\n",
      "('MFCC_1_Max', 0.0060651561714930545)\n",
      "('MFCC_1_dMean', 0.006949904598272417)\n",
      "('MFCC_1_dVar', 0.008319399330355262)\n",
      "('MFCC_2_Mean', 0.0071664002300739875)\n",
      "('MFCC_2_Median', 0.005802751598481585)\n",
      "('MFCC_2_Var', 0.006770636373317037)\n",
      "('MFCC_2_Min', 0.009266999575442705)\n",
      "('MFCC_2_Max', 0.008479860516613001)\n",
      "('MFCC_2_dMean', 0.009317072365160325)\n",
      "('MFCC_2_dVar', 0.006421072597138077)\n",
      "('MFCC_3_Mean', 0.009890845842433289)\n",
      "('MFCC_3_Median', 0.00730643274103829)\n",
      "('MFCC_3_Var', 0.006804615216781478)\n",
      "('MFCC_3_Min', 0.006350541966730028)\n",
      "('MFCC_3_Max', 0.006126087338705082)\n",
      "('MFCC_3_dMean', 0.008207197966188906)\n",
      "('MFCC_3_dVar', 0.006779085646370916)\n",
      "('MFCC_4_Mean', 0.005920544228205469)\n",
      "('MFCC_4_Median', 0.006285857241431864)\n",
      "('MFCC_4_Var', 0.008940413882043223)\n",
      "('MFCC_4_Min', 0.00740392410865449)\n",
      "('MFCC_4_Max', 0.007704572949256248)\n",
      "('MFCC_4_dMean', 0.023018577234437117)\n",
      "('MFCC_4_dVar', 0.0061506589034212205)\n",
      "('MFCC_5_Mean', 0.006929169898292299)\n",
      "('MFCC_5_Median', 0.007111966585801374)\n",
      "('MFCC_5_Var', 0.008222486150103289)\n",
      "('MFCC_5_Min', 0.018179225733568356)\n",
      "('MFCC_5_Max', 0.013792100875007554)\n",
      "('MFCC_5_dMean', 0.007372255495298271)\n",
      "('MFCC_5_dVar', 0.007365432385110989)\n",
      "('MFCC_6_Mean', 0.008172522313311408)\n",
      "('MFCC_6_Median', 0.006995458481714527)\n",
      "('MFCC_6_Var', 0.008392835441228631)\n",
      "('MFCC_6_Min', 0.00782749621307882)\n",
      "('MFCC_6_Max', 0.018897083821775008)\n",
      "('MFCC_6_dMean', 0.006195063263356994)\n",
      "('MFCC_6_dVar', 0.006872313190261681)\n",
      "('MFCC_7_Mean', 0.00631874225321584)\n",
      "('MFCC_7_Median', 0.006700064065415526)\n",
      "('MFCC_7_Var', 0.00754457271549856)\n",
      "('MFCC_7_Min', 0.006885800331538613)\n",
      "('MFCC_7_Max', 0.006748607634025754)\n",
      "('MFCC_7_dMean', 0.005886034368499194)\n",
      "('MFCC_7_dVar', 0.006194378667321483)\n",
      "('MFCC_8_Mean', 0.008922469152783075)\n",
      "('MFCC_8_Median', 0.007187195031263092)\n",
      "('MFCC_8_Var', 0.0072616505138004325)\n",
      "('MFCC_8_Min', 0.011081102955300624)\n",
      "('MFCC_8_Max', 0.00570641932131587)\n",
      "('MFCC_8_dMean', 0.005774395553859076)\n",
      "('MFCC_8_dVar', 0.0071778903687169954)\n",
      "('MFCC_9_Mean', 0.006595702914391531)\n",
      "('MFCC_9_Median', 0.011740366617353315)\n",
      "('MFCC_9_Var', 0.008521670518374087)\n",
      "('MFCC_9_Min', 0.007646668239842125)\n",
      "('MFCC_9_Max', 0.006047172850070728)\n",
      "('MFCC_9_dMean', 0.007009882968481474)\n",
      "('MFCC_9_dVar', 0.006061529078468228)\n",
      "('MFCC_10_Mean', 0.007423101659850322)\n",
      "('MFCC_10_Median', 0.008791452948139145)\n",
      "('MFCC_10_Var', 0.006093315428433668)\n",
      "('MFCC_10_Min', 0.005817201799598638)\n",
      "('MFCC_10_Max', 0.005634825520059288)\n",
      "('MFCC_10_dMean', 0.005777298407401468)\n",
      "('MFCC_10_dVar', 0.005657164683547544)\n",
      "('MFCC_11_Mean', 0.005703482416949672)\n",
      "('MFCC_11_Median', 0.005717155104420069)\n",
      "('MFCC_11_Var', 0.0055565420487937835)\n",
      "('MFCC_11_Min', 0.0056070219546031095)\n",
      "('MFCC_11_Max', 0.005860629486619631)\n",
      "('MFCC_11_dMean', 0.005743646295780395)\n",
      "('MFCC_11_dVar', 0.005760179022135701)\n",
      "('MFCC_12_Mean', 0.005982850002260584)\n",
      "('MFCC_12_Median', 0.019055004857812103)\n",
      "('MFCC_12_Var', 0.005810111539326381)\n",
      "('MFCC_12_Min', 0.006104436257523915)\n",
      "('MFCC_12_Max', 0.00639552145175313)\n",
      "('MFCC_12_dMean', 0.006098553280131208)\n",
      "('MFCC_12_dVar', 0.006586843009967513)\n",
      "('MFCC_13_Mean', 0.00699989431052941)\n",
      "('MFCC_13_Median', 0.006398239072683582)\n",
      "('MFCC_13_Var', 0.0061661973576975825)\n",
      "('MFCC_13_Min', 0.006451568854758542)\n",
      "('MFCC_13_Max', 0.00675668318572044)\n",
      "('MFCC_13_dMean', 0.007113699637223821)\n",
      "('MFCC_13_dVar', 0.006873173166865946)\n",
      "('Pitch_Mean', 0.024570433984243693)\n",
      "('Pitch_Median', 0.020470658540086114)\n",
      "('Pitch_Min', 0.007655837244190317)\n",
      "('Pitch_Max', 0.012593954773296244)\n",
      "('Pitch_Var', 0.010019882829592864)\n",
      "('Pitch_dMean', 0.0059011489648132225)\n",
      "('Pitch_dMin', 0.0060959008629106895)\n",
      "('Pitch_dMax', 0.006526613999775587)\n",
      "('Spectral_Mean', 0.007057379975913487)\n",
      "('Spectral_Median', 0.006805536867065939)\n",
      "('Spectral_Min', 0.005769759062604294)\n",
      "('Spectral_Max', 0.006124868549051526)\n",
      "('Spectral_Var', 0.006426004155312043)\n",
      "('Spectral_dMean', 0.005796801165786454)\n",
      "('Spectral_dMin', 0.006048724781778714)\n",
      "('Spectral_dMax', 0.006147444367346424)\n",
      "('LPC_1', 0.006350601713912472)\n",
      "('LPC_2', 0.007120212811888792)\n",
      "('LPC_3', 0.02050482463353885)\n",
      "('LPC_4', 0.0059749920295756615)\n",
      "('LPC_5', 0.006751755928805525)\n",
      "('LPC_6', 0.006014711983436636)\n",
      "('LPC_7', 0.006023957318137823)\n",
      "('LPC_8', 0.006202738368451421)\n",
      "('LPC_9', 0.005604371890815879)\n",
      "('LPC_10', 0.005618646882523758)\n",
      "('LPC_11', 0.005691665148533533)\n",
      "('LPC_12', 0.00713134786331247)\n",
      "('RMS_Mean', 0.0057573814303221805)\n",
      "('RMS_Median', 0.005767001314435734)\n",
      "('RMS_Min', 0.005902843315188777)\n",
      "('RMS_Max', 0.005835495578878068)\n",
      "('RMS_Var', 0.007777623947826148)\n",
      "('RMS_dMean', 0.005779499266121172)\n",
      "('RMS_dMin', 0.005346197089735488)\n",
      "('RMS_dMax', 0.0068190678280382125)\n",
      "('Spec_Rolloff_Mean', 0.007786971233061812)\n",
      "('Spec_Rolloff_Median', 0.00601130244147503)\n",
      "('Spec_Rolloff_Min', 0.005505070884515063)\n",
      "('Spec_Rolloff_Max', 0.005328767172594247)\n"
     ]
    }
   ],
   "source": [
    "#Prints the name and the GINI importance of each feature \n",
    "sum1 = 0\n",
    "featureList_CREMA = []\n",
    "for feature in zip(feat_labels, clf_CREMA.feature_importances_):\n",
    "    featureList_CREMA.append(feature[1])\n",
    "    #print(feature)"
   ]
  },
  {
   "cell_type": "code",
   "execution_count": null,
   "metadata": {},
   "outputs": [],
   "source": [
    "percentfeatureList_TESS = [i * 100 for i in featureList_TESS]"
   ]
  },
  {
   "cell_type": "code",
   "execution_count": 15,
   "metadata": {},
   "outputs": [],
   "source": [
    "percentfeatureList_RAV = [i * 100 for i in featureList_RAV]"
   ]
  },
  {
   "cell_type": "code",
   "execution_count": 12,
   "metadata": {},
   "outputs": [],
   "source": [
    "percentfeatureList_CREMA = [i * 100 for i in featureList_CREMA]"
   ]
  },
  {
   "cell_type": "markdown",
   "metadata": {},
   "source": [
    "# RF - All Features (Simple)"
   ]
  },
  {
   "cell_type": "code",
   "execution_count": null,
   "metadata": {
    "scrolled": true
   },
   "outputs": [],
   "source": [
    "plt.bar(np.arange(len(percentfeatureList_TESS)),percentfeatureList_TESS)"
   ]
  },
  {
   "cell_type": "code",
   "execution_count": 11,
   "metadata": {},
   "outputs": [
    {
     "data": {
      "text/plain": [
       "<BarContainer object of 131 artists>"
      ]
     },
     "execution_count": 11,
     "metadata": {},
     "output_type": "execute_result"
    },
    {
     "data": {
      "image/png": "[encoded data removed]",
      "text/plain": [
       "<Figure size 640x480 with 1 Axes>"
      ]
     },
     "metadata": {},
     "output_type": "display_data"
    }
   ],
   "source": [
    "plt.bar(np.arange(len(percentfeatureList_RAV)),percentfeatureList_RAV)"
   ]
  },
  {
   "cell_type": "code",
   "execution_count": 13,
   "metadata": {},
   "outputs": [
    {
     "data": {
      "text/plain": [
       "<BarContainer object of 131 artists>"
      ]
     },
     "execution_count": 13,
     "metadata": {},
     "output_type": "execute_result"
    },
    {
     "data": {
      "image/png": "[encoded data removed]",
      "text/plain": [
       "<Figure size 640x480 with 1 Axes>"
      ]
     },
     "metadata": {},
     "output_type": "display_data"
    }
   ],
   "source": [
    "plt.bar(np.arange(len(percentfeatureList_CREMA)),percentfeatureList_CREMA)"
   ]
  },
  {
   "cell_type": "markdown",
   "metadata": {},
   "source": [
    "# RF - All Features (Complex)"
   ]
  },
  {
   "cell_type": "code",
   "execution_count": 14,
   "metadata": {},
   "outputs": [
    {
     "ename": "NameError",
     "evalue": "name 'percentfeatureList_TESS' is not defined",
     "output_type": "error",
     "traceback": [
      "\u001b[0;31m---------------------------------------------------------------------------\u001b[0m",
      "\u001b[0;31mNameError\u001b[0m                                 Traceback (most recent call last)",
      "\u001b[0;32m<ipython-input-14-3743e41f9672>\u001b[0m in \u001b[0;36m<module>\u001b[0;34m\u001b[0m\n\u001b[1;32m      5\u001b[0m \u001b[0mx_pos\u001b[0m \u001b[0;34m=\u001b[0m \u001b[0;34m[\u001b[0m\u001b[0mi\u001b[0m \u001b[0;32mfor\u001b[0m \u001b[0mi\u001b[0m\u001b[0;34m,\u001b[0m \u001b[0m_\u001b[0m \u001b[0;32min\u001b[0m \u001b[0menumerate\u001b[0m\u001b[0;34m(\u001b[0m\u001b[0mfeat_labels\u001b[0m\u001b[0;34m)\u001b[0m\u001b[0;34m]\u001b[0m\u001b[0;34m\u001b[0m\u001b[0;34m\u001b[0m\u001b[0m\n\u001b[1;32m      6\u001b[0m \u001b[0;34m\u001b[0m\u001b[0m\n\u001b[0;32m----> 7\u001b[0;31m \u001b[0mplt\u001b[0m\u001b[0;34m.\u001b[0m\u001b[0mbarh\u001b[0m\u001b[0;34m(\u001b[0m\u001b[0mnp\u001b[0m\u001b[0;34m.\u001b[0m\u001b[0marange\u001b[0m\u001b[0;34m(\u001b[0m\u001b[0mlen\u001b[0m\u001b[0;34m(\u001b[0m\u001b[0mpercentfeatureList_TESS\u001b[0m\u001b[0;34m)\u001b[0m\u001b[0;34m)\u001b[0m\u001b[0;34m,\u001b[0m \u001b[0mpercentfeatureList_TESS\u001b[0m\u001b[0;34m,\u001b[0m \u001b[0mcolor\u001b[0m\u001b[0;34m=\u001b[0m\u001b[0;34m'green'\u001b[0m\u001b[0;34m)\u001b[0m\u001b[0;34m\u001b[0m\u001b[0;34m\u001b[0m\u001b[0m\n\u001b[0m\u001b[1;32m      8\u001b[0m \u001b[0mplt\u001b[0m\u001b[0;34m.\u001b[0m\u001b[0mylabel\u001b[0m\u001b[0;34m(\u001b[0m\u001b[0;34m\"Feature Name\"\u001b[0m\u001b[0;34m)\u001b[0m\u001b[0;34m\u001b[0m\u001b[0;34m\u001b[0m\u001b[0m\n\u001b[1;32m      9\u001b[0m \u001b[0mplt\u001b[0m\u001b[0;34m.\u001b[0m\u001b[0mxlabel\u001b[0m\u001b[0;34m(\u001b[0m\u001b[0;34m\"Percent Impact\"\u001b[0m\u001b[0;34m)\u001b[0m\u001b[0;34m\u001b[0m\u001b[0;34m\u001b[0m\u001b[0m\n",
      "\u001b[0;31mNameError\u001b[0m: name 'percentfeatureList_TESS' is not defined"
     ]
    },
    {
     "data": {
      "image/png": "[encoded data removed]",
      "text/plain": [
       "<Figure size 640x480 with 1 Axes>"
      ]
     },
     "metadata": {},
     "output_type": "display_data"
    }
   ],
   "source": [
    "#Big Boi\n",
    "plt.rcdefaults()\n",
    "fig, ax = plt.subplots()\n",
    "\n",
    "x_pos = [i for i, _ in enumerate(feat_labels)]\n",
    "\n",
    "plt.barh(np.arange(len(percentfeatureList_TESS)), percentfeatureList_TESS, color='green')\n",
    "plt.ylabel(\"Feature Name\")\n",
    "plt.xlabel(\"Percent Impact\")\n",
    "plt.title(\"Effect of Each Feature on Overall Accuracy - TESS\")\n",
    "\n",
    "plt.yticks(x_pos, feat_labels_mod)\n",
    "\n",
    "plt.show()\n",
    "\n"
   ]
  },
  {
   "cell_type": "code",
   "execution_count": 15,
   "metadata": {},
   "outputs": [
    {
     "ename": "NameError",
     "evalue": "name 'percentfeatureList_RAV' is not defined",
     "output_type": "error",
     "traceback": [
      "\u001b[0;31m---------------------------------------------------------------------------\u001b[0m",
      "\u001b[0;31mNameError\u001b[0m                                 Traceback (most recent call last)",
      "\u001b[0;32m<ipython-input-15-7bd1de63f944>\u001b[0m in \u001b[0;36m<module>\u001b[0;34m\u001b[0m\n\u001b[1;32m      5\u001b[0m \u001b[0mx_pos\u001b[0m \u001b[0;34m=\u001b[0m \u001b[0;34m[\u001b[0m\u001b[0mi\u001b[0m \u001b[0;32mfor\u001b[0m \u001b[0mi\u001b[0m\u001b[0;34m,\u001b[0m \u001b[0m_\u001b[0m \u001b[0;32min\u001b[0m \u001b[0menumerate\u001b[0m\u001b[0;34m(\u001b[0m\u001b[0mfeat_labels\u001b[0m\u001b[0;34m)\u001b[0m\u001b[0;34m]\u001b[0m\u001b[0;34m\u001b[0m\u001b[0;34m\u001b[0m\u001b[0m\n\u001b[1;32m      6\u001b[0m \u001b[0;34m\u001b[0m\u001b[0m\n\u001b[0;32m----> 7\u001b[0;31m \u001b[0mplt\u001b[0m\u001b[0;34m.\u001b[0m\u001b[0mbarh\u001b[0m\u001b[0;34m(\u001b[0m\u001b[0mnp\u001b[0m\u001b[0;34m.\u001b[0m\u001b[0marange\u001b[0m\u001b[0;34m(\u001b[0m\u001b[0mlen\u001b[0m\u001b[0;34m(\u001b[0m\u001b[0mpercentfeatureList_RAV\u001b[0m\u001b[0;34m)\u001b[0m\u001b[0;34m)\u001b[0m\u001b[0;34m,\u001b[0m \u001b[0mpercentfeatureList_RAV\u001b[0m\u001b[0;34m,\u001b[0m \u001b[0mcolor\u001b[0m\u001b[0;34m=\u001b[0m\u001b[0;34m'green'\u001b[0m\u001b[0;34m)\u001b[0m\u001b[0;34m\u001b[0m\u001b[0;34m\u001b[0m\u001b[0m\n\u001b[0m\u001b[1;32m      8\u001b[0m \u001b[0mplt\u001b[0m\u001b[0;34m.\u001b[0m\u001b[0mylabel\u001b[0m\u001b[0;34m(\u001b[0m\u001b[0;34m\"Feature Name\"\u001b[0m\u001b[0;34m)\u001b[0m\u001b[0;34m\u001b[0m\u001b[0;34m\u001b[0m\u001b[0m\n\u001b[1;32m      9\u001b[0m \u001b[0mplt\u001b[0m\u001b[0;34m.\u001b[0m\u001b[0mxlabel\u001b[0m\u001b[0;34m(\u001b[0m\u001b[0;34m\"Percent Impact\"\u001b[0m\u001b[0;34m)\u001b[0m\u001b[0;34m\u001b[0m\u001b[0;34m\u001b[0m\u001b[0m\n",
      "\u001b[0;31mNameError\u001b[0m: name 'percentfeatureList_RAV' is not defined"
     ]
    },
    {
     "data": {
      "image/png": "[encoded data removed]",
      "text/plain": [
       "<Figure size 640x480 with 1 Axes>"
      ]
     },
     "metadata": {},
     "output_type": "display_data"
    }
   ],
   "source": [
    "#Big Boi\n",
    "plt.rcdefaults()\n",
    "fig, ax = plt.subplots()\n",
    "\n",
    "x_pos = [i for i, _ in enumerate(feat_labels)]\n",
    "\n",
    "plt.barh(np.arange(len(percentfeatureList_RAV)), percentfeatureList_RAV, color='green')\n",
    "plt.ylabel(\"Feature Name\")\n",
    "plt.xlabel(\"Percent Impact\")\n",
    "plt.title(\"Effect of Each Feature on Overall Accuracy - RAV\")\n",
    "\n",
    "plt.yticks(x_pos, feat_labels)\n",
    "\n",
    "plt.show()\n",
    "\n"
   ]
  },
  {
   "cell_type": "markdown",
   "metadata": {},
   "source": [
    "# MFCCs Only"
   ]
  },
  {
   "cell_type": "code",
   "execution_count": null,
   "metadata": {},
   "outputs": [],
   "source": [
    "#MFCCs\n",
    "plt.rcdefaults()\n",
    "fig, ax = plt.subplots()\n",
    "\n",
    "MFCC_list = percentfeatureList_TESS[:91]\n",
    "MFCC_label_list = feat_labels_mod[:91]\n",
    "\n",
    "x_pos = [i for i, _ in enumerate(MFCC_label_list)]\n",
    "\n",
    "plt.barh(np.arange(len(MFCC_list)), MFCC_list, color='green')\n",
    "plt.ylabel(\"Feature Name\")\n",
    "plt.xlabel(\"Percent Impact\")\n",
    "plt.title(\"Effect of Each Feature on Overall Accuracy - TESS\")\n",
    "\n",
    "plt.yticks(x_pos, MFCC_label_list)\n",
    "\n",
    "plt.show()"
   ]
  },
  {
   "cell_type": "markdown",
   "metadata": {},
   "source": [
    "# Non-MFCCs"
   ]
  },
  {
   "cell_type": "code",
   "execution_count": 16,
   "metadata": {
    "scrolled": true
   },
   "outputs": [
    {
     "ename": "NameError",
     "evalue": "name 'percentfeatureList_TESS' is not defined",
     "output_type": "error",
     "traceback": [
      "\u001b[0;31m---------------------------------------------------------------------------\u001b[0m",
      "\u001b[0;31mNameError\u001b[0m                                 Traceback (most recent call last)",
      "\u001b[0;32m<ipython-input-16-b004071f1532>\u001b[0m in \u001b[0;36m<module>\u001b[0;34m\u001b[0m\n\u001b[1;32m      2\u001b[0m \u001b[0mfig\u001b[0m\u001b[0;34m,\u001b[0m \u001b[0max\u001b[0m \u001b[0;34m=\u001b[0m \u001b[0mplt\u001b[0m\u001b[0;34m.\u001b[0m\u001b[0msubplots\u001b[0m\u001b[0;34m(\u001b[0m\u001b[0;34m)\u001b[0m\u001b[0;34m\u001b[0m\u001b[0;34m\u001b[0m\u001b[0m\n\u001b[1;32m      3\u001b[0m \u001b[0;34m\u001b[0m\u001b[0m\n\u001b[0;32m----> 4\u001b[0;31m \u001b[0mMFCC_list\u001b[0m \u001b[0;34m=\u001b[0m \u001b[0mpercentfeatureList_TESS\u001b[0m\u001b[0;34m[\u001b[0m\u001b[0;36m92\u001b[0m\u001b[0;34m:\u001b[0m\u001b[0;34m]\u001b[0m\u001b[0;34m\u001b[0m\u001b[0;34m\u001b[0m\u001b[0m\n\u001b[0m\u001b[1;32m      5\u001b[0m \u001b[0mMFCC_label_list\u001b[0m \u001b[0;34m=\u001b[0m \u001b[0mfeat_labels\u001b[0m\u001b[0;34m[\u001b[0m\u001b[0;36m92\u001b[0m\u001b[0;34m:\u001b[0m\u001b[0;34m]\u001b[0m\u001b[0;34m\u001b[0m\u001b[0;34m\u001b[0m\u001b[0m\n\u001b[1;32m      6\u001b[0m \u001b[0;34m\u001b[0m\u001b[0m\n",
      "\u001b[0;31mNameError\u001b[0m: name 'percentfeatureList_TESS' is not defined"
     ]
    },
    {
     "data": {
      "image/png": "[encoded data removed]",
      "text/plain": [
       "<Figure size 640x480 with 1 Axes>"
      ]
     },
     "metadata": {},
     "output_type": "display_data"
    }
   ],
   "source": [
    "plt.rcdefaults()\n",
    "fig, ax = plt.subplots()\n",
    "\n",
    "MFCC_list = percentfeatureList_TESS[92:]\n",
    "MFCC_label_list = feat_labels[92:]\n",
    "\n",
    "x_pos = [i for i, _ in enumerate(MFCC_label_list)]\n",
    "\n",
    "plt.barh(np.arange(len(MFCC_list)), MFCC_list, color='green')\n",
    "plt.ylabel(\"Feature Name\")\n",
    "plt.xlabel(\"Percent Impact\")\n",
    "plt.title(\"Effect of Each Feature on Overall Accuracy - TESS\")\n",
    "\n",
    "plt.yticks(x_pos, MFCC_label_list)\n",
    "\n",
    "plt.show()"
   ]
  },
  {
   "cell_type": "code",
   "execution_count": 17,
   "metadata": {},
   "outputs": [
    {
     "data": {
      "image/png": "[encoded data removed]",
      "text/plain": [
       "<Figure size 640x480 with 1 Axes>"
      ]
     },
     "metadata": {},
     "output_type": "display_data"
    }
   ],
   "source": [
    "plt.rcdefaults()\n",
    "fig, ax = plt.subplots()\n",
    "\n",
    "MFCC_list = percentfeatureList_RAV[92:]\n",
    "MFCC_label_list = feat_labels[92:]\n",
    "\n",
    "x_pos = [i for i, _ in enumerate(MFCC_label_list)]\n",
    "\n",
    "plt.barh(np.arange(len(MFCC_list)), MFCC_list, color='green')\n",
    "plt.ylabel(\"Feature Name\")\n",
    "plt.xlabel(\"Percent Impact\")\n",
    "plt.title(\"Effect of Each Feature on Overall Accuracy - RAV\")\n",
    "\n",
    "plt.yticks(x_pos, MFCC_label_list)\n",
    "\n",
    "plt.show()"
   ]
  },
  {
   "cell_type": "code",
   "execution_count": null,
   "metadata": {},
   "outputs": [],
   "source": [
    "print(percentfeatureList_TESS[107:119])\n",
    "print(featureList_TESS[107])"
   ]
  },
  {
   "cell_type": "markdown",
   "metadata": {},
   "source": [
    "# Recursive Feature Elimination"
   ]
  },
  {
   "cell_type": "code",
   "execution_count": 21,
   "metadata": {
    "scrolled": true
   },
   "outputs": [
    {
     "name": "stderr",
     "output_type": "stream",
     "text": [
      "/usr/local/lib/python3.7/site-packages/sklearn/model_selection/_split.py:1978: FutureWarning: The default value of cv will change from 3 to 5 in version 0.22. Specify it explicitly to silence this warning.\n",
      "  warnings.warn(CV_WARNING, FutureWarning)\n",
      "/usr/local/lib/python3.7/site-packages/sklearn/model_selection/_split.py:1978: FutureWarning: The default value of cv will change from 3 to 5 in version 0.22. Specify it explicitly to silence this warning.\n",
      "  warnings.warn(CV_WARNING, FutureWarning)\n",
      "/usr/local/lib/python3.7/site-packages/sklearn/model_selection/_split.py:1978: FutureWarning: The default value of cv will change from 3 to 5 in version 0.22. Specify it explicitly to silence this warning.\n",
      "  warnings.warn(CV_WARNING, FutureWarning)\n",
      "/usr/local/lib/python3.7/site-packages/sklearn/model_selection/_split.py:1978: FutureWarning: The default value of cv will change from 3 to 5 in version 0.22. Specify it explicitly to silence this warning.\n",
      "  warnings.warn(CV_WARNING, FutureWarning)\n",
      "/usr/local/lib/python3.7/site-packages/sklearn/model_selection/_split.py:1978: FutureWarning: The default value of cv will change from 3 to 5 in version 0.22. Specify it explicitly to silence this warning.\n",
      "  warnings.warn(CV_WARNING, FutureWarning)\n",
      "/usr/local/lib/python3.7/site-packages/sklearn/model_selection/_split.py:1978: FutureWarning: The default value of cv will change from 3 to 5 in version 0.22. Specify it explicitly to silence this warning.\n",
      "  warnings.warn(CV_WARNING, FutureWarning)\n",
      "/usr/local/lib/python3.7/site-packages/sklearn/model_selection/_split.py:1978: FutureWarning: The default value of cv will change from 3 to 5 in version 0.22. Specify it explicitly to silence this warning.\n",
      "  warnings.warn(CV_WARNING, FutureWarning)\n",
      "/usr/local/lib/python3.7/site-packages/sklearn/model_selection/_split.py:1978: FutureWarning: The default value of cv will change from 3 to 5 in version 0.22. Specify it explicitly to silence this warning.\n",
      "  warnings.warn(CV_WARNING, FutureWarning)\n",
      "/usr/local/lib/python3.7/site-packages/sklearn/model_selection/_split.py:1978: FutureWarning: The default value of cv will change from 3 to 5 in version 0.22. Specify it explicitly to silence this warning.\n",
      "  warnings.warn(CV_WARNING, FutureWarning)\n",
      "/usr/local/lib/python3.7/site-packages/sklearn/model_selection/_split.py:1978: FutureWarning: The default value of cv will change from 3 to 5 in version 0.22. Specify it explicitly to silence this warning.\n",
      "  warnings.warn(CV_WARNING, FutureWarning)\n",
      "/usr/local/lib/python3.7/site-packages/sklearn/model_selection/_split.py:1978: FutureWarning: The default value of cv will change from 3 to 5 in version 0.22. Specify it explicitly to silence this warning.\n",
      "  warnings.warn(CV_WARNING, FutureWarning)\n",
      "/usr/local/lib/python3.7/site-packages/sklearn/model_selection/_split.py:1978: FutureWarning: The default value of cv will change from 3 to 5 in version 0.22. Specify it explicitly to silence this warning.\n",
      "  warnings.warn(CV_WARNING, FutureWarning)\n",
      "/usr/local/lib/python3.7/site-packages/sklearn/model_selection/_split.py:1978: FutureWarning: The default value of cv will change from 3 to 5 in version 0.22. Specify it explicitly to silence this warning.\n",
      "  warnings.warn(CV_WARNING, FutureWarning)\n",
      "/usr/local/lib/python3.7/site-packages/sklearn/model_selection/_split.py:1978: FutureWarning: The default value of cv will change from 3 to 5 in version 0.22. Specify it explicitly to silence this warning.\n",
      "  warnings.warn(CV_WARNING, FutureWarning)\n",
      "/usr/local/lib/python3.7/site-packages/sklearn/model_selection/_split.py:1978: FutureWarning: The default value of cv will change from 3 to 5 in version 0.22. Specify it explicitly to silence this warning.\n",
      "  warnings.warn(CV_WARNING, FutureWarning)\n",
      "/usr/local/lib/python3.7/site-packages/sklearn/model_selection/_split.py:1978: FutureWarning: The default value of cv will change from 3 to 5 in version 0.22. Specify it explicitly to silence this warning.\n",
      "  warnings.warn(CV_WARNING, FutureWarning)\n",
      "/usr/local/lib/python3.7/site-packages/sklearn/model_selection/_split.py:1978: FutureWarning: The default value of cv will change from 3 to 5 in version 0.22. Specify it explicitly to silence this warning.\n",
      "  warnings.warn(CV_WARNING, FutureWarning)\n",
      "/usr/local/lib/python3.7/site-packages/sklearn/model_selection/_split.py:1978: FutureWarning: The default value of cv will change from 3 to 5 in version 0.22. Specify it explicitly to silence this warning.\n",
      "  warnings.warn(CV_WARNING, FutureWarning)\n",
      "/usr/local/lib/python3.7/site-packages/sklearn/model_selection/_split.py:1978: FutureWarning: The default value of cv will change from 3 to 5 in version 0.22. Specify it explicitly to silence this warning.\n",
      "  warnings.warn(CV_WARNING, FutureWarning)\n",
      "/usr/local/lib/python3.7/site-packages/sklearn/model_selection/_split.py:1978: FutureWarning: The default value of cv will change from 3 to 5 in version 0.22. Specify it explicitly to silence this warning.\n",
      "  warnings.warn(CV_WARNING, FutureWarning)\n",
      "/usr/local/lib/python3.7/site-packages/sklearn/model_selection/_split.py:1978: FutureWarning: The default value of cv will change from 3 to 5 in version 0.22. Specify it explicitly to silence this warning.\n",
      "  warnings.warn(CV_WARNING, FutureWarning)\n",
      "/usr/local/lib/python3.7/site-packages/sklearn/model_selection/_split.py:1978: FutureWarning: The default value of cv will change from 3 to 5 in version 0.22. Specify it explicitly to silence this warning.\n",
      "  warnings.warn(CV_WARNING, FutureWarning)\n",
      "/usr/local/lib/python3.7/site-packages/sklearn/model_selection/_split.py:1978: FutureWarning: The default value of cv will change from 3 to 5 in version 0.22. Specify it explicitly to silence this warning.\n",
      "  warnings.warn(CV_WARNING, FutureWarning)\n",
      "/usr/local/lib/python3.7/site-packages/sklearn/model_selection/_split.py:1978: FutureWarning: The default value of cv will change from 3 to 5 in version 0.22. Specify it explicitly to silence this warning.\n",
      "  warnings.warn(CV_WARNING, FutureWarning)\n",
      "/usr/local/lib/python3.7/site-packages/sklearn/model_selection/_split.py:1978: FutureWarning: The default value of cv will change from 3 to 5 in version 0.22. Specify it explicitly to silence this warning.\n",
      "  warnings.warn(CV_WARNING, FutureWarning)\n"
     ]
    },
    {
     "data": {
      "image/png": "[encoded data removed]",
      "text/plain": [
       "<Figure size 800x550 with 1 Axes>"
      ]
     },
     "metadata": {},
     "output_type": "display_data"
    }
   ],
   "source": [
    "# Create a dataset with only 3 informative features\n",
    "X, y = make_classification(\n",
    "    n_samples=1000, n_features=25, n_informative=3, n_redundant=2,\n",
    "    n_repeated=0, n_classes=8, n_clusters_per_class=1, random_state=0\n",
    ")\n",
    "\n",
    "# Create RFECV visualizer with linear SVM classifier\n",
    "viz = RFECV(SVC(kernel='linear', C=1))\n",
    "viz.fit(X, y)\n",
    "viz.poof()\n"
   ]
  },
  {
   "cell_type": "code",
   "execution_count": 29,
   "metadata": {
    "scrolled": false
   },
   "outputs": [
    {
     "ename": "ValueError",
     "evalue": "bad input shape (1104, 16)",
     "output_type": "error",
     "traceback": [
      "\u001b[0;31m---------------------------------------------------------------------------\u001b[0m",
      "\u001b[0;31mValueError\u001b[0m                                Traceback (most recent call last)",
      "\u001b[0;32m<ipython-input-29-cd9c5542f09f>\u001b[0m in \u001b[0;36m<module>\u001b[0;34m\u001b[0m\n\u001b[1;32m      4\u001b[0m \u001b[0moz\u001b[0m \u001b[0;34m=\u001b[0m \u001b[0mRFECV\u001b[0m\u001b[0;34m(\u001b[0m\u001b[0mRandomForestClassifier\u001b[0m\u001b[0;34m(\u001b[0m\u001b[0;34m)\u001b[0m\u001b[0;34m,\u001b[0m \u001b[0mcv\u001b[0m\u001b[0;34m=\u001b[0m\u001b[0;36m5\u001b[0m\u001b[0;34m,\u001b[0m \u001b[0mscoring\u001b[0m\u001b[0;34m=\u001b[0m\u001b[0;34m'f1_weighted'\u001b[0m\u001b[0;34m)\u001b[0m\u001b[0;34m\u001b[0m\u001b[0;34m\u001b[0m\u001b[0m\n\u001b[1;32m      5\u001b[0m \u001b[0;34m\u001b[0m\u001b[0m\n\u001b[0;32m----> 6\u001b[0;31m \u001b[0moz\u001b[0m\u001b[0;34m.\u001b[0m\u001b[0mfit\u001b[0m\u001b[0;34m(\u001b[0m\u001b[0mX_train_RAV\u001b[0m\u001b[0;34m,\u001b[0m \u001b[0my_train_RAV\u001b[0m\u001b[0;34m)\u001b[0m\u001b[0;34m\u001b[0m\u001b[0;34m\u001b[0m\u001b[0m\n\u001b[0m\u001b[1;32m      7\u001b[0m \u001b[0moz\u001b[0m\u001b[0;34m.\u001b[0m\u001b[0mpoof\u001b[0m\u001b[0;34m(\u001b[0m\u001b[0;34m)\u001b[0m\u001b[0;34m\u001b[0m\u001b[0;34m\u001b[0m\u001b[0m\n",
      "\u001b[0;32m/usr/local/lib/python3.7/site-packages/yellowbrick/features/rfecv.py\u001b[0m in \u001b[0;36mfit\u001b[0;34m(self, X, y)\u001b[0m\n\u001b[1;32m    158\u001b[0m             \u001b[0mReturns\u001b[0m \u001b[0mthe\u001b[0m \u001b[0minstance\u001b[0m \u001b[0mof\u001b[0m \u001b[0mthe\u001b[0m \u001b[0mRFECV\u001b[0m \u001b[0mvisualizer\u001b[0m\u001b[0;34m.\u001b[0m\u001b[0;34m\u001b[0m\u001b[0;34m\u001b[0m\u001b[0m\n\u001b[1;32m    159\u001b[0m         \"\"\"\n\u001b[0;32m--> 160\u001b[0;31m         \u001b[0mX\u001b[0m\u001b[0;34m,\u001b[0m \u001b[0my\u001b[0m \u001b[0;34m=\u001b[0m \u001b[0mcheck_X_y\u001b[0m\u001b[0;34m(\u001b[0m\u001b[0mX\u001b[0m\u001b[0;34m,\u001b[0m \u001b[0my\u001b[0m\u001b[0;34m,\u001b[0m \u001b[0;34m\"csr\"\u001b[0m\u001b[0;34m)\u001b[0m\u001b[0;34m\u001b[0m\u001b[0;34m\u001b[0m\u001b[0m\n\u001b[0m\u001b[1;32m    161\u001b[0m         \u001b[0mn_features\u001b[0m \u001b[0;34m=\u001b[0m \u001b[0mX\u001b[0m\u001b[0;34m.\u001b[0m\u001b[0mshape\u001b[0m\u001b[0;34m[\u001b[0m\u001b[0;36m1\u001b[0m\u001b[0;34m]\u001b[0m\u001b[0;34m\u001b[0m\u001b[0;34m\u001b[0m\u001b[0m\n\u001b[1;32m    162\u001b[0m \u001b[0;34m\u001b[0m\u001b[0m\n",
      "\u001b[0;32m/usr/local/lib/python3.7/site-packages/sklearn/utils/validation.py\u001b[0m in \u001b[0;36mcheck_X_y\u001b[0;34m(X, y, accept_sparse, accept_large_sparse, dtype, order, copy, force_all_finite, ensure_2d, allow_nd, multi_output, ensure_min_samples, ensure_min_features, y_numeric, warn_on_dtype, estimator)\u001b[0m\n\u001b[1;32m    722\u001b[0m                         dtype=None)\n\u001b[1;32m    723\u001b[0m     \u001b[0;32melse\u001b[0m\u001b[0;34m:\u001b[0m\u001b[0;34m\u001b[0m\u001b[0;34m\u001b[0m\u001b[0m\n\u001b[0;32m--> 724\u001b[0;31m         \u001b[0my\u001b[0m \u001b[0;34m=\u001b[0m \u001b[0mcolumn_or_1d\u001b[0m\u001b[0;34m(\u001b[0m\u001b[0my\u001b[0m\u001b[0;34m,\u001b[0m \u001b[0mwarn\u001b[0m\u001b[0;34m=\u001b[0m\u001b[0;32mTrue\u001b[0m\u001b[0;34m)\u001b[0m\u001b[0;34m\u001b[0m\u001b[0;34m\u001b[0m\u001b[0m\n\u001b[0m\u001b[1;32m    725\u001b[0m         \u001b[0m_assert_all_finite\u001b[0m\u001b[0;34m(\u001b[0m\u001b[0my\u001b[0m\u001b[0;34m)\u001b[0m\u001b[0;34m\u001b[0m\u001b[0;34m\u001b[0m\u001b[0m\n\u001b[1;32m    726\u001b[0m     \u001b[0;32mif\u001b[0m \u001b[0my_numeric\u001b[0m \u001b[0;32mand\u001b[0m \u001b[0my\u001b[0m\u001b[0;34m.\u001b[0m\u001b[0mdtype\u001b[0m\u001b[0;34m.\u001b[0m\u001b[0mkind\u001b[0m \u001b[0;34m==\u001b[0m \u001b[0;34m'O'\u001b[0m\u001b[0;34m:\u001b[0m\u001b[0;34m\u001b[0m\u001b[0;34m\u001b[0m\u001b[0m\n",
      "\u001b[0;32m/usr/local/lib/python3.7/site-packages/sklearn/utils/validation.py\u001b[0m in \u001b[0;36mcolumn_or_1d\u001b[0;34m(y, warn)\u001b[0m\n\u001b[1;32m    758\u001b[0m         \u001b[0;32mreturn\u001b[0m \u001b[0mnp\u001b[0m\u001b[0;34m.\u001b[0m\u001b[0mravel\u001b[0m\u001b[0;34m(\u001b[0m\u001b[0my\u001b[0m\u001b[0;34m)\u001b[0m\u001b[0;34m\u001b[0m\u001b[0;34m\u001b[0m\u001b[0m\n\u001b[1;32m    759\u001b[0m \u001b[0;34m\u001b[0m\u001b[0m\n\u001b[0;32m--> 760\u001b[0;31m     \u001b[0;32mraise\u001b[0m \u001b[0mValueError\u001b[0m\u001b[0;34m(\u001b[0m\u001b[0;34m\"bad input shape {0}\"\u001b[0m\u001b[0;34m.\u001b[0m\u001b[0mformat\u001b[0m\u001b[0;34m(\u001b[0m\u001b[0mshape\u001b[0m\u001b[0;34m)\u001b[0m\u001b[0;34m)\u001b[0m\u001b[0;34m\u001b[0m\u001b[0;34m\u001b[0m\u001b[0m\n\u001b[0m\u001b[1;32m    761\u001b[0m \u001b[0;34m\u001b[0m\u001b[0m\n\u001b[1;32m    762\u001b[0m \u001b[0;34m\u001b[0m\u001b[0m\n",
      "\u001b[0;31mValueError\u001b[0m: bad input shape (1104, 16)"
     ]
    },
    {
     "data": {
      "image/png": "[encoded data removed]",
      "text/plain": [
       "<Figure size 640x480 with 1 Axes>"
      ]
     },
     "metadata": {},
     "output_type": "display_data"
    }
   ],
   "source": [
    "target = 'default'\n",
    "features = feat_labels\n",
    "\n",
    "oz = RFECV(RandomForestClassifier(), cv=5, scoring='f1_weighted')\n",
    "\n",
    "oz.fit(X_train_RAV, y_train_RAV)\n",
    "oz.poof()"
   ]
  },
  {
   "cell_type": "code",
   "execution_count": 36,
   "metadata": {
    "scrolled": true
   },
   "outputs": [
    {
     "ename": "ValueError",
     "evalue": "bad input shape (1104, 16)",
     "output_type": "error",
     "traceback": [
      "\u001b[0;31m---------------------------------------------------------------------------\u001b[0m",
      "\u001b[0;31mValueError\u001b[0m                                Traceback (most recent call last)",
      "\u001b[0;32m<ipython-input-36-3155fa702dc8>\u001b[0m in \u001b[0;36m<module>\u001b[0;34m\u001b[0m\n\u001b[1;32m      1\u001b[0m \u001b[0mestimator\u001b[0m \u001b[0;34m=\u001b[0m \u001b[0mSVR\u001b[0m\u001b[0;34m(\u001b[0m\u001b[0mkernel\u001b[0m\u001b[0;34m=\u001b[0m\u001b[0;34m\"linear\"\u001b[0m\u001b[0;34m)\u001b[0m\u001b[0;34m\u001b[0m\u001b[0;34m\u001b[0m\u001b[0m\n\u001b[1;32m      2\u001b[0m \u001b[0mselector\u001b[0m \u001b[0;34m=\u001b[0m \u001b[0mRFE\u001b[0m\u001b[0;34m(\u001b[0m\u001b[0mestimator\u001b[0m\u001b[0;34m,\u001b[0m \u001b[0;36m5\u001b[0m\u001b[0;34m,\u001b[0m \u001b[0mstep\u001b[0m\u001b[0;34m=\u001b[0m\u001b[0;36m1\u001b[0m\u001b[0;34m)\u001b[0m\u001b[0;34m\u001b[0m\u001b[0;34m\u001b[0m\u001b[0m\n\u001b[0;32m----> 3\u001b[0;31m \u001b[0mselector\u001b[0m \u001b[0;34m=\u001b[0m \u001b[0mselector\u001b[0m\u001b[0;34m.\u001b[0m\u001b[0mfit\u001b[0m\u001b[0;34m(\u001b[0m\u001b[0mX_train_RAV\u001b[0m\u001b[0;34m,\u001b[0m \u001b[0my_train_RAV\u001b[0m\u001b[0;34m)\u001b[0m\u001b[0;34m\u001b[0m\u001b[0;34m\u001b[0m\u001b[0m\n\u001b[0m",
      "\u001b[0;32m/usr/local/lib/python3.7/site-packages/sklearn/feature_selection/rfe.py\u001b[0m in \u001b[0;36mfit\u001b[0;34m(self, X, y)\u001b[0m\n\u001b[1;32m    142\u001b[0m             \u001b[0mThe\u001b[0m \u001b[0mtarget\u001b[0m \u001b[0mvalues\u001b[0m\u001b[0;34m.\u001b[0m\u001b[0;34m\u001b[0m\u001b[0;34m\u001b[0m\u001b[0m\n\u001b[1;32m    143\u001b[0m         \"\"\"\n\u001b[0;32m--> 144\u001b[0;31m         \u001b[0;32mreturn\u001b[0m \u001b[0mself\u001b[0m\u001b[0;34m.\u001b[0m\u001b[0m_fit\u001b[0m\u001b[0;34m(\u001b[0m\u001b[0mX\u001b[0m\u001b[0;34m,\u001b[0m \u001b[0my\u001b[0m\u001b[0;34m)\u001b[0m\u001b[0;34m\u001b[0m\u001b[0;34m\u001b[0m\u001b[0m\n\u001b[0m\u001b[1;32m    145\u001b[0m \u001b[0;34m\u001b[0m\u001b[0m\n\u001b[1;32m    146\u001b[0m     \u001b[0;32mdef\u001b[0m \u001b[0m_fit\u001b[0m\u001b[0;34m(\u001b[0m\u001b[0mself\u001b[0m\u001b[0;34m,\u001b[0m \u001b[0mX\u001b[0m\u001b[0;34m,\u001b[0m \u001b[0my\u001b[0m\u001b[0;34m,\u001b[0m \u001b[0mstep_score\u001b[0m\u001b[0;34m=\u001b[0m\u001b[0;32mNone\u001b[0m\u001b[0;34m)\u001b[0m\u001b[0;34m:\u001b[0m\u001b[0;34m\u001b[0m\u001b[0;34m\u001b[0m\u001b[0m\n",
      "\u001b[0;32m/usr/local/lib/python3.7/site-packages/sklearn/feature_selection/rfe.py\u001b[0m in \u001b[0;36m_fit\u001b[0;34m(self, X, y, step_score)\u001b[0m\n\u001b[1;32m    150\u001b[0m         \u001b[0;31m# self.scores_ will not be calculated when calling _fit through fit\u001b[0m\u001b[0;34m\u001b[0m\u001b[0;34m\u001b[0m\u001b[0;34m\u001b[0m\u001b[0m\n\u001b[1;32m    151\u001b[0m \u001b[0;34m\u001b[0m\u001b[0m\n\u001b[0;32m--> 152\u001b[0;31m         \u001b[0mX\u001b[0m\u001b[0;34m,\u001b[0m \u001b[0my\u001b[0m \u001b[0;34m=\u001b[0m \u001b[0mcheck_X_y\u001b[0m\u001b[0;34m(\u001b[0m\u001b[0mX\u001b[0m\u001b[0;34m,\u001b[0m \u001b[0my\u001b[0m\u001b[0;34m,\u001b[0m \u001b[0;34m\"csc\"\u001b[0m\u001b[0;34m,\u001b[0m \u001b[0mensure_min_features\u001b[0m\u001b[0;34m=\u001b[0m\u001b[0;36m2\u001b[0m\u001b[0;34m)\u001b[0m\u001b[0;34m\u001b[0m\u001b[0;34m\u001b[0m\u001b[0m\n\u001b[0m\u001b[1;32m    153\u001b[0m         \u001b[0;31m# Initialization\u001b[0m\u001b[0;34m\u001b[0m\u001b[0;34m\u001b[0m\u001b[0;34m\u001b[0m\u001b[0m\n\u001b[1;32m    154\u001b[0m         \u001b[0mn_features\u001b[0m \u001b[0;34m=\u001b[0m \u001b[0mX\u001b[0m\u001b[0;34m.\u001b[0m\u001b[0mshape\u001b[0m\u001b[0;34m[\u001b[0m\u001b[0;36m1\u001b[0m\u001b[0;34m]\u001b[0m\u001b[0;34m\u001b[0m\u001b[0;34m\u001b[0m\u001b[0m\n",
      "\u001b[0;32m/usr/local/lib/python3.7/site-packages/sklearn/utils/validation.py\u001b[0m in \u001b[0;36mcheck_X_y\u001b[0;34m(X, y, accept_sparse, accept_large_sparse, dtype, order, copy, force_all_finite, ensure_2d, allow_nd, multi_output, ensure_min_samples, ensure_min_features, y_numeric, warn_on_dtype, estimator)\u001b[0m\n\u001b[1;32m    722\u001b[0m                         dtype=None)\n\u001b[1;32m    723\u001b[0m     \u001b[0;32melse\u001b[0m\u001b[0;34m:\u001b[0m\u001b[0;34m\u001b[0m\u001b[0;34m\u001b[0m\u001b[0m\n\u001b[0;32m--> 724\u001b[0;31m         \u001b[0my\u001b[0m \u001b[0;34m=\u001b[0m \u001b[0mcolumn_or_1d\u001b[0m\u001b[0;34m(\u001b[0m\u001b[0my\u001b[0m\u001b[0;34m,\u001b[0m \u001b[0mwarn\u001b[0m\u001b[0;34m=\u001b[0m\u001b[0;32mTrue\u001b[0m\u001b[0;34m)\u001b[0m\u001b[0;34m\u001b[0m\u001b[0;34m\u001b[0m\u001b[0m\n\u001b[0m\u001b[1;32m    725\u001b[0m         \u001b[0m_assert_all_finite\u001b[0m\u001b[0;34m(\u001b[0m\u001b[0my\u001b[0m\u001b[0;34m)\u001b[0m\u001b[0;34m\u001b[0m\u001b[0;34m\u001b[0m\u001b[0m\n\u001b[1;32m    726\u001b[0m     \u001b[0;32mif\u001b[0m \u001b[0my_numeric\u001b[0m \u001b[0;32mand\u001b[0m \u001b[0my\u001b[0m\u001b[0;34m.\u001b[0m\u001b[0mdtype\u001b[0m\u001b[0;34m.\u001b[0m\u001b[0mkind\u001b[0m \u001b[0;34m==\u001b[0m \u001b[0;34m'O'\u001b[0m\u001b[0;34m:\u001b[0m\u001b[0;34m\u001b[0m\u001b[0;34m\u001b[0m\u001b[0m\n",
      "\u001b[0;32m/usr/local/lib/python3.7/site-packages/sklearn/utils/validation.py\u001b[0m in \u001b[0;36mcolumn_or_1d\u001b[0;34m(y, warn)\u001b[0m\n\u001b[1;32m    758\u001b[0m         \u001b[0;32mreturn\u001b[0m \u001b[0mnp\u001b[0m\u001b[0;34m.\u001b[0m\u001b[0mravel\u001b[0m\u001b[0;34m(\u001b[0m\u001b[0my\u001b[0m\u001b[0;34m)\u001b[0m\u001b[0;34m\u001b[0m\u001b[0;34m\u001b[0m\u001b[0m\n\u001b[1;32m    759\u001b[0m \u001b[0;34m\u001b[0m\u001b[0m\n\u001b[0;32m--> 760\u001b[0;31m     \u001b[0;32mraise\u001b[0m \u001b[0mValueError\u001b[0m\u001b[0;34m(\u001b[0m\u001b[0;34m\"bad input shape {0}\"\u001b[0m\u001b[0;34m.\u001b[0m\u001b[0mformat\u001b[0m\u001b[0;34m(\u001b[0m\u001b[0mshape\u001b[0m\u001b[0;34m)\u001b[0m\u001b[0;34m)\u001b[0m\u001b[0;34m\u001b[0m\u001b[0;34m\u001b[0m\u001b[0m\n\u001b[0m\u001b[1;32m    761\u001b[0m \u001b[0;34m\u001b[0m\u001b[0m\n\u001b[1;32m    762\u001b[0m \u001b[0;34m\u001b[0m\u001b[0m\n",
      "\u001b[0;31mValueError\u001b[0m: bad input shape (1104, 16)"
     ]
    }
   ],
   "source": [
    "estimator = SVR(kernel=\"linear\")\n",
    "selector = RFE(estimator, 5, step=1)\n",
    "selector = selector.fit(X_train_RAV, y_train_RAV)"
   ]
  },
  {
   "cell_type": "code",
   "execution_count": 40,
   "metadata": {},
   "outputs": [
    {
     "ename": "ValueError",
     "evalue": "bad input shape (1104, 16)",
     "output_type": "error",
     "traceback": [
      "\u001b[0;31m---------------------------------------------------------------------------\u001b[0m",
      "\u001b[0;31mValueError\u001b[0m                                Traceback (most recent call last)",
      "\u001b[0;32m<ipython-input-40-89e7cbb6d7c9>\u001b[0m in \u001b[0;36m<module>\u001b[0;34m\u001b[0m\n\u001b[1;32m      3\u001b[0m \u001b[0;31m# and select attributes\u001b[0m\u001b[0;34m\u001b[0m\u001b[0;34m\u001b[0m\u001b[0;34m\u001b[0m\u001b[0m\n\u001b[1;32m      4\u001b[0m \u001b[0mrfe\u001b[0m \u001b[0;34m=\u001b[0m \u001b[0mRFE\u001b[0m\u001b[0;34m(\u001b[0m\u001b[0msvm\u001b[0m\u001b[0;34m,\u001b[0m \u001b[0;36m3\u001b[0m\u001b[0;34m)\u001b[0m\u001b[0;34m\u001b[0m\u001b[0;34m\u001b[0m\u001b[0m\n\u001b[0;32m----> 5\u001b[0;31m \u001b[0mrfe\u001b[0m \u001b[0;34m=\u001b[0m \u001b[0mrfe\u001b[0m\u001b[0;34m.\u001b[0m\u001b[0mfit\u001b[0m\u001b[0;34m(\u001b[0m\u001b[0mX_train_RAV\u001b[0m\u001b[0;34m,\u001b[0m \u001b[0my_train_RAV\u001b[0m\u001b[0;34m)\u001b[0m\u001b[0;34m\u001b[0m\u001b[0;34m\u001b[0m\u001b[0m\n\u001b[0m\u001b[1;32m      6\u001b[0m \u001b[0;31m# print summaries for the selection of attributes\u001b[0m\u001b[0;34m\u001b[0m\u001b[0;34m\u001b[0m\u001b[0;34m\u001b[0m\u001b[0m\n\u001b[1;32m      7\u001b[0m \u001b[0mprint\u001b[0m\u001b[0;34m(\u001b[0m\u001b[0mrfe\u001b[0m\u001b[0;34m.\u001b[0m\u001b[0msupport_\u001b[0m\u001b[0;34m)\u001b[0m\u001b[0;34m\u001b[0m\u001b[0;34m\u001b[0m\u001b[0m\n",
      "\u001b[0;32m/usr/local/lib/python3.7/site-packages/sklearn/feature_selection/rfe.py\u001b[0m in \u001b[0;36mfit\u001b[0;34m(self, X, y)\u001b[0m\n\u001b[1;32m    142\u001b[0m             \u001b[0mThe\u001b[0m \u001b[0mtarget\u001b[0m \u001b[0mvalues\u001b[0m\u001b[0;34m.\u001b[0m\u001b[0;34m\u001b[0m\u001b[0;34m\u001b[0m\u001b[0m\n\u001b[1;32m    143\u001b[0m         \"\"\"\n\u001b[0;32m--> 144\u001b[0;31m         \u001b[0;32mreturn\u001b[0m \u001b[0mself\u001b[0m\u001b[0;34m.\u001b[0m\u001b[0m_fit\u001b[0m\u001b[0;34m(\u001b[0m\u001b[0mX\u001b[0m\u001b[0;34m,\u001b[0m \u001b[0my\u001b[0m\u001b[0;34m)\u001b[0m\u001b[0;34m\u001b[0m\u001b[0;34m\u001b[0m\u001b[0m\n\u001b[0m\u001b[1;32m    145\u001b[0m \u001b[0;34m\u001b[0m\u001b[0m\n\u001b[1;32m    146\u001b[0m     \u001b[0;32mdef\u001b[0m \u001b[0m_fit\u001b[0m\u001b[0;34m(\u001b[0m\u001b[0mself\u001b[0m\u001b[0;34m,\u001b[0m \u001b[0mX\u001b[0m\u001b[0;34m,\u001b[0m \u001b[0my\u001b[0m\u001b[0;34m,\u001b[0m \u001b[0mstep_score\u001b[0m\u001b[0;34m=\u001b[0m\u001b[0;32mNone\u001b[0m\u001b[0;34m)\u001b[0m\u001b[0;34m:\u001b[0m\u001b[0;34m\u001b[0m\u001b[0;34m\u001b[0m\u001b[0m\n",
      "\u001b[0;32m/usr/local/lib/python3.7/site-packages/sklearn/feature_selection/rfe.py\u001b[0m in \u001b[0;36m_fit\u001b[0;34m(self, X, y, step_score)\u001b[0m\n\u001b[1;32m    150\u001b[0m         \u001b[0;31m# self.scores_ will not be calculated when calling _fit through fit\u001b[0m\u001b[0;34m\u001b[0m\u001b[0;34m\u001b[0m\u001b[0;34m\u001b[0m\u001b[0m\n\u001b[1;32m    151\u001b[0m \u001b[0;34m\u001b[0m\u001b[0m\n\u001b[0;32m--> 152\u001b[0;31m         \u001b[0mX\u001b[0m\u001b[0;34m,\u001b[0m \u001b[0my\u001b[0m \u001b[0;34m=\u001b[0m \u001b[0mcheck_X_y\u001b[0m\u001b[0;34m(\u001b[0m\u001b[0mX\u001b[0m\u001b[0;34m,\u001b[0m \u001b[0my\u001b[0m\u001b[0;34m,\u001b[0m \u001b[0;34m\"csc\"\u001b[0m\u001b[0;34m,\u001b[0m \u001b[0mensure_min_features\u001b[0m\u001b[0;34m=\u001b[0m\u001b[0;36m2\u001b[0m\u001b[0;34m)\u001b[0m\u001b[0;34m\u001b[0m\u001b[0;34m\u001b[0m\u001b[0m\n\u001b[0m\u001b[1;32m    153\u001b[0m         \u001b[0;31m# Initialization\u001b[0m\u001b[0;34m\u001b[0m\u001b[0;34m\u001b[0m\u001b[0;34m\u001b[0m\u001b[0m\n\u001b[1;32m    154\u001b[0m         \u001b[0mn_features\u001b[0m \u001b[0;34m=\u001b[0m \u001b[0mX\u001b[0m\u001b[0;34m.\u001b[0m\u001b[0mshape\u001b[0m\u001b[0;34m[\u001b[0m\u001b[0;36m1\u001b[0m\u001b[0;34m]\u001b[0m\u001b[0;34m\u001b[0m\u001b[0;34m\u001b[0m\u001b[0m\n",
      "\u001b[0;32m/usr/local/lib/python3.7/site-packages/sklearn/utils/validation.py\u001b[0m in \u001b[0;36mcheck_X_y\u001b[0;34m(X, y, accept_sparse, accept_large_sparse, dtype, order, copy, force_all_finite, ensure_2d, allow_nd, multi_output, ensure_min_samples, ensure_min_features, y_numeric, warn_on_dtype, estimator)\u001b[0m\n\u001b[1;32m    722\u001b[0m                         dtype=None)\n\u001b[1;32m    723\u001b[0m     \u001b[0;32melse\u001b[0m\u001b[0;34m:\u001b[0m\u001b[0;34m\u001b[0m\u001b[0;34m\u001b[0m\u001b[0m\n\u001b[0;32m--> 724\u001b[0;31m         \u001b[0my\u001b[0m \u001b[0;34m=\u001b[0m \u001b[0mcolumn_or_1d\u001b[0m\u001b[0;34m(\u001b[0m\u001b[0my\u001b[0m\u001b[0;34m,\u001b[0m \u001b[0mwarn\u001b[0m\u001b[0;34m=\u001b[0m\u001b[0;32mTrue\u001b[0m\u001b[0;34m)\u001b[0m\u001b[0;34m\u001b[0m\u001b[0;34m\u001b[0m\u001b[0m\n\u001b[0m\u001b[1;32m    725\u001b[0m         \u001b[0m_assert_all_finite\u001b[0m\u001b[0;34m(\u001b[0m\u001b[0my\u001b[0m\u001b[0;34m)\u001b[0m\u001b[0;34m\u001b[0m\u001b[0;34m\u001b[0m\u001b[0m\n\u001b[1;32m    726\u001b[0m     \u001b[0;32mif\u001b[0m \u001b[0my_numeric\u001b[0m \u001b[0;32mand\u001b[0m \u001b[0my\u001b[0m\u001b[0;34m.\u001b[0m\u001b[0mdtype\u001b[0m\u001b[0;34m.\u001b[0m\u001b[0mkind\u001b[0m \u001b[0;34m==\u001b[0m \u001b[0;34m'O'\u001b[0m\u001b[0;34m:\u001b[0m\u001b[0;34m\u001b[0m\u001b[0;34m\u001b[0m\u001b[0m\n",
      "\u001b[0;32m/usr/local/lib/python3.7/site-packages/sklearn/utils/validation.py\u001b[0m in \u001b[0;36mcolumn_or_1d\u001b[0;34m(y, warn)\u001b[0m\n\u001b[1;32m    758\u001b[0m         \u001b[0;32mreturn\u001b[0m \u001b[0mnp\u001b[0m\u001b[0;34m.\u001b[0m\u001b[0mravel\u001b[0m\u001b[0;34m(\u001b[0m\u001b[0my\u001b[0m\u001b[0;34m)\u001b[0m\u001b[0;34m\u001b[0m\u001b[0;34m\u001b[0m\u001b[0m\n\u001b[1;32m    759\u001b[0m \u001b[0;34m\u001b[0m\u001b[0m\n\u001b[0;32m--> 760\u001b[0;31m     \u001b[0;32mraise\u001b[0m \u001b[0mValueError\u001b[0m\u001b[0;34m(\u001b[0m\u001b[0;34m\"bad input shape {0}\"\u001b[0m\u001b[0;34m.\u001b[0m\u001b[0mformat\u001b[0m\u001b[0;34m(\u001b[0m\u001b[0mshape\u001b[0m\u001b[0;34m)\u001b[0m\u001b[0;34m)\u001b[0m\u001b[0;34m\u001b[0m\u001b[0;34m\u001b[0m\u001b[0m\n\u001b[0m\u001b[1;32m    761\u001b[0m \u001b[0;34m\u001b[0m\u001b[0m\n\u001b[1;32m    762\u001b[0m \u001b[0;34m\u001b[0m\u001b[0m\n",
      "\u001b[0;31mValueError\u001b[0m: bad input shape (1104, 16)"
     ]
    }
   ],
   "source": [
    "svm = LinearSVC()\n",
    "# create the RFE model for the svm classifier \n",
    "# and select attributes\n",
    "rfe = RFE(svm, 3)\n",
    "rfe = rfe.fit(X_train_RAV, y_train_RAV)\n",
    "# print summaries for the selection of attributes\n",
    "print(rfe.support_)\n",
    "print(rfe.ranking_)"
   ]
  },
  {
   "cell_type": "markdown",
   "metadata": {},
   "source": [
    "# Feature Selection"
   ]
  },
  {
   "cell_type": "code",
   "execution_count": 41,
   "metadata": {},
   "outputs": [
    {
     "data": {
      "text/plain": [
       "SelectFromModel(estimator=RandomForestClassifier(bootstrap=True,\n",
       "                                                 class_weight=None,\n",
       "                                                 criterion='gini',\n",
       "                                                 max_depth=None,\n",
       "                                                 max_features='auto',\n",
       "                                                 max_leaf_nodes=None,\n",
       "                                                 min_impurity_decrease=0.0,\n",
       "                                                 min_impurity_split=None,\n",
       "                                                 min_samples_leaf=1,\n",
       "                                                 min_samples_split=2,\n",
       "                                                 min_weight_fraction_leaf=0.0,\n",
       "                                                 n_estimators=10000, n_jobs=-1,\n",
       "                                                 oob_score=False,\n",
       "                                                 random_state=0, verbose=0,\n",
       "                                                 warm_start=False),\n",
       "                max_features=None, norm_order=1, prefit=False,\n",
       "                threshold=0.000935)"
      ]
     },
     "execution_count": 41,
     "metadata": {},
     "output_type": "execute_result"
    }
   ],
   "source": [
    "sfm_RAV = SelectFromModel(clf_RAV, threshold=0.000935)\n",
    "\n",
    "sfm_RAV.fit(X_train_RAV, y_train_RAV)"
   ]
  },
  {
   "cell_type": "code",
   "execution_count": 42,
   "metadata": {
    "scrolled": false
   },
   "outputs": [
    {
     "ename": "NameError",
     "evalue": "name 'sfm' is not defined",
     "output_type": "error",
     "traceback": [
      "\u001b[0;31m---------------------------------------------------------------------------\u001b[0m",
      "\u001b[0;31mNameError\u001b[0m                                 Traceback (most recent call last)",
      "\u001b[0;32m<ipython-input-42-f26ff6097aa5>\u001b[0m in \u001b[0;36m<module>\u001b[0;34m\u001b[0m\n\u001b[1;32m      1\u001b[0m \u001b[0;31m# Print the names of the most important features\u001b[0m\u001b[0;34m\u001b[0m\u001b[0;34m\u001b[0m\u001b[0;34m\u001b[0m\u001b[0m\n\u001b[1;32m      2\u001b[0m \u001b[0msum\u001b[0m \u001b[0;34m=\u001b[0m \u001b[0;36m0\u001b[0m\u001b[0;34m\u001b[0m\u001b[0;34m\u001b[0m\u001b[0m\n\u001b[0;32m----> 3\u001b[0;31m \u001b[0;32mfor\u001b[0m \u001b[0mfeature_list_index\u001b[0m \u001b[0;32min\u001b[0m \u001b[0msfm\u001b[0m\u001b[0;34m.\u001b[0m\u001b[0mget_support\u001b[0m\u001b[0;34m(\u001b[0m\u001b[0mindices\u001b[0m\u001b[0;34m=\u001b[0m\u001b[0;32mTrue\u001b[0m\u001b[0;34m)\u001b[0m\u001b[0;34m:\u001b[0m\u001b[0;34m\u001b[0m\u001b[0;34m\u001b[0m\u001b[0m\n\u001b[0m\u001b[1;32m      4\u001b[0m     \u001b[0mprint\u001b[0m\u001b[0;34m(\u001b[0m\u001b[0mfeat_labels\u001b[0m\u001b[0;34m[\u001b[0m\u001b[0mfeature_list_index\u001b[0m\u001b[0;34m]\u001b[0m\u001b[0;34m)\u001b[0m\u001b[0;34m\u001b[0m\u001b[0;34m\u001b[0m\u001b[0m\n\u001b[1;32m      5\u001b[0m     \u001b[0msum\u001b[0m\u001b[0;34m+=\u001b[0m \u001b[0;36m1\u001b[0m\u001b[0;34m\u001b[0m\u001b[0;34m\u001b[0m\u001b[0m\n",
      "\u001b[0;31mNameError\u001b[0m: name 'sfm' is not defined"
     ]
    }
   ],
   "source": [
    "# Print the names of the most important features\n",
    "sum = 0\n",
    "for feature_list_index in sfm.get_support(indices=True):\n",
    "    print(feat_labels[feature_list_index])\n",
    "    sum+= 1\n",
    "    \n",
    "sum"
   ]
  },
  {
   "cell_type": "code",
   "execution_count": null,
   "metadata": {},
   "outputs": [],
   "source": [
    "# Transform the data to create a new dataset containing only the most important features\n",
    "# Note: We have to apply the transform to both the training X and test X data.\n",
    "X_important_train_TESS = sfm.transform(X_train_TESS)\n",
    "X_important_test_TESS = sfm.transform(X_test_TESS)"
   ]
  },
  {
   "cell_type": "code",
   "execution_count": null,
   "metadata": {},
   "outputs": [],
   "source": [
    "X_important_train_RAV = sfm.transform(X_train_RAV)\n",
    "X_important_test_RAV = sfm.transform(X_test_RAV)"
   ]
  },
  {
   "cell_type": "markdown",
   "metadata": {},
   "source": []
  },
  {
   "cell_type": "code",
   "execution_count": null,
   "metadata": {},
   "outputs": [],
   "source": [
    "# Create a new random forest classifier for the most important features\n",
    "clf_important_TESS = RandomForestClassifier(n_estimators=10000, random_state=0, n_jobs=-1)\n",
    "\n",
    "# Train the new classifier on the new dataset containing the most important features\n",
    "clf_important_TESS.fit(X_important_train_TESS, y_train_TESS)"
   ]
  },
  {
   "cell_type": "code",
   "execution_count": null,
   "metadata": {},
   "outputs": [],
   "source": [
    "clf_important_RAV = RandomForestClassifier(n_estimators=10000, random_state=0, n_jobs=-1)\n",
    "\n",
    "clf_important_RAV.fit(X_important_train_RAV, y_train_RAV)"
   ]
  },
  {
   "cell_type": "code",
   "execution_count": null,
   "metadata": {},
   "outputs": [],
   "source": []
  },
  {
   "cell_type": "code",
   "execution_count": null,
   "metadata": {},
   "outputs": [],
   "source": [
    "# Apply The Full Featured Classifier To The Test Data\n",
    "y_pred_TESS = clf_TESS.predict(X_test_TESS)\n",
    "\n",
    "# View The Accuracy Of Our Full Feature (4 Features) Model\n",
    "print(accuracy_score(y_test_TESS, y_pred_TESS,  normalize = True) * 100, \"%\")"
   ]
  },
  {
   "cell_type": "code",
   "execution_count": null,
   "metadata": {},
   "outputs": [],
   "source": [
    "# Apply The Full Featured Classifier To The Test Data\n",
    "y_pred_RAV = clf_TESS.predict(X_test_RAV)\n",
    "\n",
    "# View The Accuracy Of Our Full Feature (4 Features) Model\n",
    "print(accuracy_score(y_test_RAV, y_pred_RAV,  normalize = True) * 100, \"%\")"
   ]
  },
  {
   "cell_type": "code",
   "execution_count": null,
   "metadata": {},
   "outputs": [],
   "source": []
  },
  {
   "cell_type": "code",
   "execution_count": null,
   "metadata": {},
   "outputs": [],
   "source": [
    "# Apply The Full Featured Classifier To The Test Data\n",
    "y_important_pred_TESS = clf_important_TESS.predict(X_important_test_TESS)\n",
    "\n",
    "# View The Accuracy Of Our Limited Feature (2 Features) Model\n",
    "accuracy_score(y_test_TESS, y_important_pred_TESS)"
   ]
  },
  {
   "cell_type": "code",
   "execution_count": null,
   "metadata": {},
   "outputs": [],
   "source": [
    "# Apply The Full Featured Classifier To The Test Data\n",
    "y_important_pred_RAV = clf_important_RAV.predict(X_important_test_RAV)\n",
    "\n",
    "# View The Accuracy Of Our Limited Feature (2 Features) Model\n",
    "accuracy_score(y_test_RAV, y_important_pred_RAV)"
   ]
  },
  {
   "cell_type": "code",
   "execution_count": null,
   "metadata": {},
   "outputs": [],
   "source": []
  },
  {
   "cell_type": "code",
   "execution_count": null,
   "metadata": {},
   "outputs": [],
   "source": [
    "def MLPalgorithm(X_train, X_test, y_train, y_test):\n",
    "   mlp = MLPClassifier(max_iter=15000)\n",
    "   mlp.fit(X_train,y_train)\n",
    "   predictions = mlp.predict(X_train)\n",
    "   print(classification_report(y_train,predictions))\n",
    "   predictions = mlp.predict(X_test)\n",
    "   print(classification_report(y_test,predictions))"
   ]
  },
  {
   "cell_type": "code",
   "execution_count": null,
   "metadata": {},
   "outputs": [],
   "source": [
    "MLPalgorithm(X_train_TESS, X_test_TESS, y_train_TESS, y_test_TESS)"
   ]
  },
  {
   "cell_type": "code",
   "execution_count": 14,
   "metadata": {},
   "outputs": [],
   "source": [
    "def RandomForest(X_train, X_test, y_train, y_test):\n",
    "    clf_important_TESS = RandomForestClassifier(n_estimators=10000, random_state=0, n_jobs=-1)\n",
    "    clf_important_TESS.fit(X_train, y_train)\n",
    "\n",
    "    print(predictions)\n",
    "    predictions = clf_important_TESS.predict(X_train)\n",
    "    print(classification_report(y_train,predictions))\n",
    "    print(np.sum(predictions))\n",
    "    predictions = clf_important_TESS.predict(X_test)\n",
    "    print(np.sum(predictions))\n",
    "    print(classification_report(y_test,predictions))"
   ]
  },
  {
   "cell_type": "code",
   "execution_count": 26,
   "metadata": {
    "scrolled": true
   },
   "outputs": [
    {
     "name": "stdout",
     "output_type": "stream",
     "text": [
      "              precision    recall  f1-score   support\n",
      "\n",
      "           0       1.00      1.00      1.00       320\n",
      "           1       1.00      1.00      1.00       314\n",
      "           2       1.00      1.00      1.00       313\n",
      "           3       1.00      1.00      1.00       312\n",
      "           4       1.00      1.00      1.00       332\n",
      "           5       1.00      1.00      1.00       328\n",
      "           6       1.00      1.00      1.00       321\n",
      "\n",
      "   micro avg       1.00      1.00      1.00      2240\n",
      "   macro avg       1.00      1.00      1.00      2240\n",
      "weighted avg       1.00      1.00      1.00      2240\n",
      " samples avg       1.00      1.00      1.00      2240\n",
      "\n",
      "              precision    recall  f1-score   support\n",
      "\n",
      "           0       1.00      0.95      0.97        80\n",
      "           1       1.00      0.88      0.94        86\n",
      "           2       1.00      0.94      0.97        87\n",
      "           3       1.00      0.91      0.95        88\n",
      "           4       1.00      0.99      0.99        68\n",
      "           5       0.98      0.67      0.79        72\n",
      "           6       1.00      0.97      0.99        79\n",
      "\n",
      "   micro avg       1.00      0.90      0.95       560\n",
      "   macro avg       1.00      0.90      0.94       560\n",
      "weighted avg       1.00      0.90      0.95       560\n",
      " samples avg       0.90      0.90      0.90       560\n",
      "\n"
     ]
    },
    {
     "name": "stderr",
     "output_type": "stream",
     "text": [
      "/usr/local/lib/python3.7/site-packages/sklearn/metrics/classification.py:1437: UndefinedMetricWarning: Precision and F-score are ill-defined and being set to 0.0 in samples with no predicted labels.\n",
      "  'precision', 'predicted', average, warn_for)\n"
     ]
    }
   ],
   "source": [
    "RandomForest(X_train_TESS, X_test_TESS, y_train_TESS, y_test_TESS)"
   ]
  },
  {
   "cell_type": "code",
   "execution_count": 25,
   "metadata": {},
   "outputs": [
    {
     "name": "stdout",
     "output_type": "stream",
     "text": [
      "              precision    recall  f1-score   support\n",
      "\n",
      "           0       1.00      1.00      1.00        40\n",
      "           1       1.00      1.00      1.00        35\n",
      "           2       1.00      1.00      1.00        80\n",
      "           3       1.00      1.00      1.00        67\n",
      "           4       1.00      1.00      1.00        76\n",
      "           5       1.00      1.00      1.00        70\n",
      "           6       1.00      1.00      1.00        77\n",
      "           7       1.00      1.00      1.00        77\n",
      "           8       1.00      1.00      1.00        80\n",
      "           9       1.00      1.00      1.00        68\n",
      "          10       1.00      1.00      1.00        76\n",
      "          11       1.00      1.00      1.00        71\n",
      "          12       1.00      1.00      1.00        77\n",
      "          13       1.00      1.00      1.00        67\n",
      "          14       1.00      1.00      1.00        74\n",
      "          15       1.00      1.00      1.00        69\n",
      "\n",
      "   micro avg       1.00      1.00      1.00      1104\n",
      "   macro avg       1.00      1.00      1.00      1104\n",
      "weighted avg       1.00      1.00      1.00      1104\n",
      " samples avg       1.00      1.00      1.00      1104\n",
      "\n"
     ]
    },
    {
     "name": "stderr",
     "output_type": "stream",
     "text": [
      "/usr/local/lib/python3.7/site-packages/sklearn/metrics/classification.py:1437: UndefinedMetricWarning: Precision and F-score are ill-defined and being set to 0.0 in labels with no predicted samples.\n",
      "  'precision', 'predicted', average, warn_for)\n",
      "/usr/local/lib/python3.7/site-packages/sklearn/metrics/classification.py:1437: UndefinedMetricWarning: Precision and F-score are ill-defined and being set to 0.0 in samples with no predicted labels.\n",
      "  'precision', 'predicted', average, warn_for)\n"
     ]
    },
    {
     "name": "stdout",
     "output_type": "stream",
     "text": [
      "              precision    recall  f1-score   support\n",
      "\n",
      "           0       0.00      0.00      0.00         8\n",
      "           1       0.00      0.00      0.00         9\n",
      "           2       1.00      0.12      0.22        16\n",
      "           3       1.00      0.10      0.17        21\n",
      "           4       0.00      0.00      0.00        20\n",
      "           5       0.00      0.00      0.00        18\n",
      "           6       0.00      0.00      0.00        19\n",
      "           7       0.00      0.00      0.00        11\n",
      "           8       1.00      0.06      0.12        16\n",
      "           9       1.00      0.15      0.26        20\n",
      "          10       0.00      0.00      0.00        20\n",
      "          11       0.00      0.00      0.00        17\n",
      "          12       0.00      0.00      0.00        19\n",
      "          13       0.00      0.00      0.00        21\n",
      "          14       0.00      0.00      0.00        22\n",
      "          15       0.00      0.00      0.00        19\n",
      "\n",
      "   micro avg       1.00      0.03      0.06       276\n",
      "   macro avg       0.25      0.03      0.05       276\n",
      "weighted avg       0.26      0.03      0.05       276\n",
      " samples avg       0.03      0.03      0.03       276\n",
      "\n"
     ]
    }
   ],
   "source": [
    "RandomForest(X_train_RAV, X_test_RAV, y_train_RAV, y_test_RAV)"
   ]
  },
  {
   "cell_type": "code",
   "execution_count": 18,
   "metadata": {
    "scrolled": true
   },
   "outputs": [
    {
     "name": "stdout",
     "output_type": "stream",
     "text": [
      "              precision    recall  f1-score   support\n",
      "\n",
      "           0       1.00      1.00      1.00       528\n",
      "           1       1.00      1.00      1.00       549\n",
      "           2       1.00      1.00      1.00       537\n",
      "           3       1.00      1.00      1.00       535\n",
      "           4       1.00      1.00      1.00       477\n",
      "           5       1.00      1.00      1.00       532\n",
      "           6       1.00      1.00      1.00       493\n",
      "           7       1.00      1.00      1.00       472\n",
      "           8       1.00      1.00      1.00       475\n",
      "           9       1.00      1.00      1.00       469\n",
      "          10       1.00      1.00      1.00       416\n",
      "          11       1.00      1.00      1.00       469\n",
      "\n",
      "   micro avg       1.00      1.00      1.00      5952\n",
      "   macro avg       1.00      1.00      1.00      5952\n",
      "weighted avg       1.00      1.00      1.00      5952\n",
      " samples avg       1.00      1.00      1.00      5952\n",
      "\n"
     ]
    },
    {
     "name": "stderr",
     "output_type": "stream",
     "text": [
      "/usr/local/lib/python3.7/site-packages/sklearn/metrics/classification.py:1437: UndefinedMetricWarning: Precision and F-score are ill-defined and being set to 0.0 in labels with no predicted samples.\n",
      "  'precision', 'predicted', average, warn_for)\n",
      "/usr/local/lib/python3.7/site-packages/sklearn/metrics/classification.py:1437: UndefinedMetricWarning: Precision and F-score are ill-defined and being set to 0.0 in samples with no predicted labels.\n",
      "  'precision', 'predicted', average, warn_for)\n"
     ]
    },
    {
     "name": "stdout",
     "output_type": "stream",
     "text": [
      "              precision    recall  f1-score   support\n",
      "\n",
      "           0       0.90      0.20      0.32       143\n",
      "           1       0.00      0.00      0.00       122\n",
      "           2       0.00      0.00      0.00       134\n",
      "           3       0.00      0.00      0.00       136\n",
      "           4       1.00      0.03      0.06        98\n",
      "           5       0.79      0.17      0.27       139\n",
      "           6       0.72      0.17      0.27       107\n",
      "           7       0.00      0.00      0.00       128\n",
      "           8       0.00      0.00      0.00       125\n",
      "           9       0.00      0.00      0.00       131\n",
      "          10       0.00      0.00      0.00        96\n",
      "          11       0.73      0.08      0.15       130\n",
      "\n",
      "   micro avg       0.78      0.06      0.10      1489\n",
      "   macro avg       0.35      0.05      0.09      1489\n",
      "weighted avg       0.34      0.06      0.09      1489\n",
      " samples avg       0.06      0.06      0.06      1489\n",
      "\n"
     ]
    }
   ],
   "source": [
    "RandomForest(X_train_CREMA, X_test_CREMA, y_train_CREMA, y_test_CREMA)"
   ]
  },
  {
   "cell_type": "code",
   "execution_count": 20,
   "metadata": {
    "scrolled": true
   },
   "outputs": [
    {
     "name": "stderr",
     "output_type": "stream",
     "text": [
      "/usr/local/lib/python3.7/site-packages/sklearn/metrics/classification.py:1437: UndefinedMetricWarning: Precision and F-score are ill-defined and being set to 0.0 in samples with no predicted labels.\n",
      "  'precision', 'predicted', average, warn_for)\n"
     ]
    },
    {
     "name": "stdout",
     "output_type": "stream",
     "text": [
      "              precision    recall  f1-score   support\n",
      "\n",
      "           0       1.00      1.00      1.00       614\n",
      "           1       1.00      1.00      1.00       608\n",
      "           2       1.00      1.00      1.00       613\n",
      "           3       1.00      1.00      1.00       599\n",
      "           4       1.00      1.00      1.00       573\n",
      "           5       1.00      1.00      1.00       622\n",
      "           6       1.00      1.00      1.00       860\n",
      "           7       1.00      1.00      1.00       873\n",
      "           8       1.00      1.00      1.00       870\n",
      "           9       1.00      1.00      1.00       889\n",
      "          10       1.00      1.00      1.00       839\n",
      "          11       1.00      1.00      1.00       869\n",
      "\n",
      "   micro avg       1.00      1.00      1.00      8829\n",
      "   macro avg       1.00      1.00      1.00      8829\n",
      "weighted avg       1.00      1.00      1.00      8829\n",
      " samples avg       1.00      1.00      1.00      8829\n",
      "\n",
      "8827.0\n",
      "299.0\n",
      "              precision    recall  f1-score   support\n",
      "\n",
      "           0       0.90      0.12      0.22        73\n",
      "           1       0.00      0.00      0.00        86\n",
      "           2       0.00      0.00      0.00        77\n",
      "           3       1.00      0.01      0.02        79\n",
      "           4       0.78      0.10      0.18        69\n",
      "           5       0.73      0.11      0.20        70\n",
      "           6       0.98      0.43      0.59       110\n",
      "           7       1.00      0.32      0.49       111\n",
      "           8       1.00      0.35      0.52       110\n",
      "           9       1.00      0.38      0.55        99\n",
      "          10       1.00      0.42      0.59       107\n",
      "          11       0.95      0.52      0.67       113\n",
      "\n",
      "   micro avg       0.97      0.26      0.41      1104\n",
      "   macro avg       0.78      0.23      0.34      1104\n",
      "weighted avg       0.81      0.26      0.38      1104\n",
      " samples avg       0.26      0.26      0.26      1104\n",
      "\n"
     ]
    },
    {
     "name": "stderr",
     "output_type": "stream",
     "text": [
      "/usr/local/lib/python3.7/site-packages/sklearn/metrics/classification.py:1437: UndefinedMetricWarning: Precision and F-score are ill-defined and being set to 0.0 in labels with no predicted samples.\n",
      "  'precision', 'predicted', average, warn_for)\n",
      "/usr/local/lib/python3.7/site-packages/sklearn/metrics/classification.py:1437: UndefinedMetricWarning: Precision and F-score are ill-defined and being set to 0.0 in samples with no predicted labels.\n",
      "  'precision', 'predicted', average, warn_for)\n"
     ]
    }
   ],
   "source": [
    "RandomForest(X_train, X_val, y_train, y_val)"
   ]
  },
  {
   "cell_type": "code",
   "execution_count": 22,
   "metadata": {},
   "outputs": [
    {
     "name": "stdout",
     "output_type": "stream",
     "text": [
      "[[0. 0. 0. ... 0. 0. 1.]\n",
      " [0. 0. 0. ... 0. 0. 0.]\n",
      " [0. 0. 0. ... 0. 0. 0.]\n",
      " ...\n",
      " [0. 0. 0. ... 0. 1. 0.]\n",
      " [0. 0. 0. ... 0. 0. 0.]\n",
      " [0. 0. 0. ... 0. 1. 0.]]\n",
      "              precision    recall  f1-score   support\n",
      "\n",
      "           0       1.00      1.00      1.00       614\n",
      "           1       1.00      1.00      1.00       608\n",
      "           2       1.00      1.00      1.00       613\n",
      "           3       1.00      1.00      1.00       599\n",
      "           4       1.00      1.00      1.00       573\n",
      "           5       1.00      1.00      1.00       622\n",
      "           6       1.00      1.00      1.00       860\n",
      "           7       1.00      1.00      1.00       873\n",
      "           8       1.00      1.00      1.00       870\n",
      "           9       1.00      1.00      1.00       889\n",
      "          10       1.00      1.00      1.00       839\n",
      "          11       1.00      1.00      1.00       869\n",
      "\n",
      "   micro avg       1.00      1.00      1.00      8829\n",
      "   macro avg       1.00      1.00      1.00      8829\n",
      "weighted avg       1.00      1.00      1.00      8829\n",
      " samples avg       1.00      1.00      1.00      8829\n",
      "\n",
      "8827.0\n"
     ]
    },
    {
     "name": "stderr",
     "output_type": "stream",
     "text": [
      "/usr/local/lib/python3.7/site-packages/sklearn/metrics/classification.py:1437: UndefinedMetricWarning: Precision and F-score are ill-defined and being set to 0.0 in samples with no predicted labels.\n",
      "  'precision', 'predicted', average, warn_for)\n"
     ]
    },
    {
     "name": "stdout",
     "output_type": "stream",
     "text": [
      "276.0\n",
      "              precision    recall  f1-score   support\n",
      "\n",
      "           0       0.91      0.12      0.22        80\n",
      "           1       0.00      0.00      0.00        73\n",
      "           2       0.00      0.00      0.00        77\n",
      "           3       0.00      0.00      0.00        89\n",
      "           4       0.58      0.09      0.16        77\n",
      "           5       0.85      0.15      0.25        75\n",
      "           6       0.98      0.43      0.60       118\n",
      "           7       1.00      0.26      0.41       104\n",
      "           8       1.00      0.30      0.46       108\n",
      "           9       1.00      0.38      0.55       100\n",
      "          10       1.00      0.36      0.53        98\n",
      "          11       0.91      0.49      0.63       105\n",
      "\n",
      "   micro avg       0.95      0.24      0.38      1104\n",
      "   macro avg       0.69      0.21      0.32      1104\n",
      "weighted avg       0.73      0.24      0.35      1104\n",
      " samples avg       0.24      0.24      0.24      1104\n",
      "\n"
     ]
    },
    {
     "name": "stderr",
     "output_type": "stream",
     "text": [
      "/usr/local/lib/python3.7/site-packages/sklearn/metrics/classification.py:1437: UndefinedMetricWarning: Precision and F-score are ill-defined and being set to 0.0 in labels with no predicted samples.\n",
      "  'precision', 'predicted', average, warn_for)\n",
      "/usr/local/lib/python3.7/site-packages/sklearn/metrics/classification.py:1437: UndefinedMetricWarning: Precision and F-score are ill-defined and being set to 0.0 in samples with no predicted labels.\n",
      "  'precision', 'predicted', average, warn_for)\n"
     ]
    }
   ],
   "source": [
    "\n",
    "clf_important_TESS = RandomForestClassifier(n_estimators=10000, random_state=0, n_jobs=-1)\n",
    "clf_important_TESS.fit(X_train, y_train)\n",
    "\n",
    "predictions = clf_important_TESS.predict(X_train)\n",
    "print(predictions)\n",
    "print(classification_report(y_train,predictions))\n",
    "print(np.sum(predictions))\n",
    "predictions = clf_important_TESS.predict(X_test)\n",
    "print(np.sum(predictions))\n",
    "print(classification_report(y_test,predictions))"
   ]
  },
  {
   "cell_type": "code",
   "execution_count": 16,
   "metadata": {},
   "outputs": [
    {
     "data": {
      "text/plain": [
       "(8829, 131)"
      ]
     },
     "execution_count": 16,
     "metadata": {},
     "output_type": "execute_result"
    }
   ],
   "source": [
    "X_train.shape"
   ]
  },
  {
   "cell_type": "code",
   "execution_count": 17,
   "metadata": {},
   "outputs": [
    {
     "data": {
      "text/plain": [
       "(8829, 12)"
      ]
     },
     "execution_count": 17,
     "metadata": {},
     "output_type": "execute_result"
    }
   ],
   "source": [
    "y_train.shape"
   ]
  },
  {
   "cell_type": "code",
   "execution_count": 18,
   "metadata": {},
   "outputs": [
    {
     "data": {
      "text/plain": [
       "(1104, 131)"
      ]
     },
     "execution_count": 18,
     "metadata": {},
     "output_type": "execute_result"
    }
   ],
   "source": [
    "X_val.shape"
   ]
  },
  {
   "cell_type": "code",
   "execution_count": 19,
   "metadata": {},
   "outputs": [
    {
     "data": {
      "text/plain": [
       "(1104, 12)"
      ]
     },
     "execution_count": 19,
     "metadata": {},
     "output_type": "execute_result"
    }
   ],
   "source": [
    "y_val.shape"
   ]
  },
  {
   "cell_type": "code",
   "execution_count": 24,
   "metadata": {},
   "outputs": [
    {
     "name": "stdout",
     "output_type": "stream",
     "text": [
      "[0. 0. 0. 0. 0. 0. 0. 0. 0. 0. 0. 0.]\n"
     ]
    }
   ],
   "source": [
    "print(predictions[0])"
   ]
  }
 ],
 "metadata": {
  "kernelspec": {
   "display_name": "Python 3",
   "language": "python",
   "name": "python3"
  },
  "language_info": {
   "codemirror_mode": {
    "name": "ipython",
    "version": 3
   },
   "file_extension": ".py",
   "mimetype": "text/x-python",
   "name": "python",
   "nbconvert_exporter": "python",
   "pygments_lexer": "ipython3",
   "version": "3.7.3"
  }
 },
 "nbformat": 4,
 "nbformat_minor": 2
}
