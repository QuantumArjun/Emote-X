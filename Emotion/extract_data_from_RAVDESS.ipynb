{
 "cells": [
  {
   "cell_type": "code",
   "execution_count": 1,
   "metadata": {},
   "outputs": [
    {
     "name": "stderr",
     "output_type": "stream",
     "text": [
      "Using TensorFlow backend.\n"
     ]
    }
   ],
   "source": [
    "import scipy\n",
    "from scipy.io import wavfile\n",
    "import matplotlib.pyplot as plt\n",
    "import pandas as pd\n",
    "import numpy as np\n",
    "from scipy import signal\n",
    "import osascript\n",
    "from gtts import gTTS \n",
    "import os \n",
    "import pyaudio\n",
    "import wave\n",
    "import keyboard  # using module keyboard\n",
    "import soundfile as sf\n",
    "import math\n",
    "import pyloudnorm as pyln\n",
    "from sys import byteorder\n",
    "from array import array\n",
    "from struct import pack\n",
    "import librosa\n",
    "from scipy.signal import butter, sosfiltfilt\n",
    "import python_speech_features\n",
    "from sklearn.neural_network import MLPClassifier\n",
    "from sklearn.metrics import classification_report,confusion_matrix\n",
    "from sklearn.model_selection import train_test_split\n",
    "from ipynb.fs.full.Pitch_vector import get_pitch_stats\n",
    "import numpy as np\n",
    "from keras.models import Sequential\n",
    "from keras.layers import Dense, Dropout, Activation, Flatten\n",
    "from keras.layers import Convolution2D, MaxPooling2D\n",
    "from keras.optimizers import Adam\n",
    "from keras.utils import np_utils\n",
    "from sklearn import metrics \n",
    "import time\n",
    "from ipynb.fs.full.Pitch_vector import get_lpc_stats\n",
    "from ipynb.fs.full.Pitch_vector import get_spectral_stats\n",
    "import ipynb.fs.full.concat_project2 as features_aron\n"
   ]
  },
  {
   "cell_type": "code",
   "execution_count": null,
   "metadata": {},
   "outputs": [],
   "source": []
  },
  {
   "cell_type": "code",
   "execution_count": 2,
   "metadata": {},
   "outputs": [],
   "source": [
    "BANDPASS_FREQ = [300, 3400]"
   ]
  },
  {
   "cell_type": "code",
   "execution_count": 3,
   "metadata": {},
   "outputs": [],
   "source": [
    "def butter_bandpass(lowcut, highcut, fs, order=5):\n",
    "    nyq = 0.5 * fs\n",
    "    low = lowcut / nyq\n",
    "    high = highcut / nyq\n",
    "    sos = butter(order, [low, high], btype='band', analog=False, output='sos')\n",
    "    return sos\n",
    "\n",
    "def butter_bandpass_filter(data, lowcut, highcut, fs, order=5):\n",
    "    sos = butter_bandpass(lowcut, highcut, fs, order=order)\n",
    "    y = sosfiltfilt(sos, data)\n",
    "    return y"
   ]
  },
  {
   "cell_type": "code",
   "execution_count": 4,
   "metadata": {},
   "outputs": [],
   "source": [
    "def normalize(snd_data):\n",
    "    \"Average the volume out\"\n",
    "    MAXIMUM = 16384\n",
    "    times = float(MAXIMUM)/max(abs(i) for i in snd_data)\n",
    "\n",
    "    r = array('h')\n",
    "    for i in snd_data:\n",
    "        r.append(int(i*times))\n",
    "    return r"
   ]
  },
  {
   "cell_type": "code",
   "execution_count": 5,
   "metadata": {},
   "outputs": [],
   "source": [
    "def extract_data_Ravdess(file_location):\n",
    "    fs, data = wavfile.read(file_location)\n",
    "    number_of_samples = data.shape[0]\n",
    "    meta_data = open(r\"LDC2002S28-txt.txt\")\n",
    "    meta_data = pd.read_csv(\"LDC2002S28-txt.txt\", sep=\"A:\", header=None, engine='python')\n",
    "    meta_data.columns = [\"sound limits\",\"description\"]\n",
    "    \n",
    "    #dual channel to one channel\n",
    "    data = np.average(data, axis = 1)\n",
    "    #remove noise\n",
    "    data = butter_bandpass_filter(data, BANDPASS_FREQ[0], BANDPASS_FREQ[1], fs)\n",
    "    \n",
    "    # removee extra data pointts\n",
    "    meta_data = meta_data[meta_data.description != ' [MISC]']\n",
    "    meta_data = meta_data[~meta_data['description'].astype(str).str.startswith(' (')]\n",
    "    meta_data = meta_data[~meta_data['description'].astype(str).str.startswith(' Emotion category elation')]\n",
    "    meta_data = meta_data[~meta_data['description'].astype(str).str.startswith('  [MISC]')]\n",
    "\n",
    "    # description and time limits \n",
    "    voice_time_limits = meta_data[\"sound limits\"]\n",
    "    voice_time_limits = [i.split(\" \")[0:2] for i in voice_time_limits]\n",
    "    voice_time_limits = np.array(voice_time_limits)\n",
    "    voice_time_limits = voice_time_limits.astype(np.float)\n",
    "    description = meta_data[\"description\"]\n",
    "    description = [i.split(\",\")[0].strip() for i in description]\n",
    "\n",
    "    #divide the dataa set\n",
    "    divided_data = []\n",
    "    for i in voice_time_limits:\n",
    "        startingpoint = int(i[0]*fs)\n",
    "        endingpoint = int(i[1]*fs)\n",
    "        divided_data.append(data[startingpoint:endingpoint])\n",
    "    np_data = np.asarray(divided_data)\n",
    "    return np_data, description, len(divided_data), fs"
   ]
  },
  {
   "cell_type": "code",
   "execution_count": 6,
   "metadata": {},
   "outputs": [],
   "source": [
    "folder_location = '../../RAVDESS'\n",
    "def data_extraction_RAVDESS(file_location):\n",
    "    divided_data = []\n",
    "    directory = os.fsencode(folder_location)\n",
    "    for file_name in os.listdir(directory):\n",
    "        if  str(file_name) != \"b'.DS_Store'\":\n",
    "            (sig, rate) = librosa.load(folder_location+'/'+str(file_name)[2:-1], sr=None)\n",
    "            data = butter_bandpass_filter(sig, BANDPASS_FREQ[0], BANDPASS_FREQ[1], rate)\n",
    "            data = normalize(data)\n",
    "            divided_data.append(data)\n",
    "    np_data = np.asarray(divided_data)\n",
    "    number_examples = np_data.shape[0]\n",
    "    return divided_data, number_examples"
   ]
  },
  {
   "cell_type": "code",
   "execution_count": 43,
   "metadata": {},
   "outputs": [],
   "source": [
    "def emotion_extraction_RAVDESS(folder_location, number_examples):\n",
    "    nu_emotion = 8\n",
    "    y = np.zeros(shape=(nu_emotion*2, number_examples))\n",
    "    counter = 0\n",
    "    directory = os.fsencode(folder_location)\n",
    "    for file_name in os.listdir(directory):\n",
    "        if  str(file_name) != \"b'.DS_Store'\":\n",
    "            emotion = str(file_name)[2:-1]\n",
    "            i = (emotion.split('-')[2])\n",
    "            male = int(emotion.split('-')[-1].split('.')[0])%2\n",
    "            if i == '01': # neutral \n",
    "                if male:\n",
    "                    y[0][counter] = 1 # neutral male\n",
    "                else:\n",
    "                    y[1][counter] = 1\n",
    "            elif i == '02': #calm\n",
    "                if male:\n",
    "                    y[2][counter] = 1 # neutral male\n",
    "                else:\n",
    "                    y[3][counter] = 1\n",
    "            elif i == '03': #hahppy \n",
    "                if male:\n",
    "                    y[4][counter] = 1 # neutral male\n",
    "                else:\n",
    "                    y[5][counter] = 1\n",
    "            elif i == '04': #sad\n",
    "                if male:\n",
    "                    y[6][counter] = 1 # neutral male\n",
    "                else:\n",
    "                    y[7][counter] = 1\n",
    "            elif i == '05': #angry\n",
    "                if male:\n",
    "                    y[8][counter] = 1 # neutral male\n",
    "                else:\n",
    "                    y[9][counter] = 1\n",
    "            elif i == '06': #fearful\n",
    "                if male:\n",
    "                    y[10][counter] = 1 # neutral male\n",
    "                else:\n",
    "                    y[11][counter] = 1\n",
    "            elif i == '07': #disgust\n",
    "                if male:\n",
    "                    y[12][counter] = 1 # neutral male\n",
    "                else:\n",
    "                    y[13][counter] = 1\n",
    "            elif i == '08': #surprised\n",
    "                if male:\n",
    "                    y[14][counter] = 1 # neutral male\n",
    "                else:\n",
    "                    y[15][counter] = 1\n",
    "            else:\n",
    "                print(i)\n",
    "                break\n",
    "            counter +=1\n",
    "    y = np.transpose(y)\n",
    "    print(counter)\n",
    "    return y"
   ]
  },
  {
   "cell_type": "code",
   "execution_count": 44,
   "metadata": {},
   "outputs": [
    {
     "name": "stdout",
     "output_type": "stream",
     "text": [
      "1380\n"
     ]
    }
   ],
   "source": [
    "y = emotion_extraction_RAVDESS('../../RAVDESS', 1380)"
   ]
  },
  {
   "cell_type": "code",
   "execution_count": 45,
   "metadata": {},
   "outputs": [
    {
     "data": {
      "text/plain": [
       "88.0"
      ]
     },
     "execution_count": 45,
     "metadata": {},
     "output_type": "execute_result"
    }
   ],
   "source": [
    "np.sum(y[:,5])"
   ]
  },
  {
   "cell_type": "code",
   "execution_count": null,
   "metadata": {},
   "outputs": [],
   "source": []
  },
  {
   "cell_type": "code",
   "execution_count": null,
   "metadata": {},
   "outputs": [],
   "source": []
  },
  {
   "cell_type": "code",
   "execution_count": null,
   "metadata": {},
   "outputs": [],
   "source": []
  },
  {
   "cell_type": "code",
   "execution_count": null,
   "metadata": {},
   "outputs": [],
   "source": []
  }
 ],
 "metadata": {
  "kernelspec": {
   "display_name": "Python 3",
   "language": "python",
   "name": "python3"
  },
  "language_info": {
   "codemirror_mode": {
    "name": "ipython",
    "version": 3
   },
   "file_extension": ".py",
   "mimetype": "text/x-python",
   "name": "python",
   "nbconvert_exporter": "python",
   "pygments_lexer": "ipython3",
   "version": "3.7.3"
  }
 },
 "nbformat": 4,
 "nbformat_minor": 2
}
