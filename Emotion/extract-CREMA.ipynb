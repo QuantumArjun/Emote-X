{
 "cells": [
  {
   "cell_type": "code",
   "execution_count": 1,
   "metadata": {},
   "outputs": [
    {
     "name": "stderr",
     "output_type": "stream",
     "text": [
      "Using TensorFlow backend.\n"
     ]
    }
   ],
   "source": [
    "\n",
    "import numpy as np\n",
    "import pandas as pd\n",
    "import matplotlib.pyplot as plt\n",
    "\n",
    "from lxml import html\n",
    "import requests\n",
    "import urllib.request\n",
    "import re\n",
    "import time\n",
    "import os.path\n",
    "import librosa\n",
    "from ipynb.fs.full.concat_project2 import butter_bandpass_filter, normalize\n",
    "import ipynb.fs.full.concat_project2 as Emote\n",
    "import csv\n"
   ]
  },
  {
   "cell_type": "code",
   "execution_count": 2,
   "metadata": {},
   "outputs": [],
   "source": [
    "BANDPASS_FREQ = [300, 3400]"
   ]
  },
  {
   "cell_type": "code",
   "execution_count": 17,
   "metadata": {
    "scrolled": true
   },
   "outputs": [],
   "source": [
    "def data_extract_CREMA():\n",
    "EMOTIONS = {\n",
    "    \"ANG\": 0,\n",
    "    \"DIS\": 1,\n",
    "    \"FEA\": 2,\n",
    "    \"HAP\": 3,\n",
    "    \"NEU\": 4,\n",
    "    \"SAD\": 5,\n",
    "}\n",
    "LOCAL_PATH = \"../../CREMA/\"\n",
    "WAV_PATH = LOCAL_PATH + \"AudioWAV/\"\n",
    "demographics = pd.read_csv(LOCAL_PATH + \"VideoDemographics.csv\")\n",
    "\n",
    "NUM_SAMPLES = 7442\n",
    "NUM_EMOTIONS = 6\n",
    "fs = 0\n",
    "dataset = []\n",
    "y = np.zeros((NUM_SAMPLES, NUM_EMOTIONS*2))\n",
    "\n",
    "counter = 0\n",
    "for file in os.listdir(WAV_PATH):\n",
    "    if file.endswith('.wav'):\n",
    "        data, fs = librosa.load(WAV_PATH + file, sr=None)\n",
    "        data = butter_bandpass_filter(data, BANDPASS_FREQ[0], BANDPASS_FREQ[1], fs)\n",
    "        data = normalize(data)\n",
    "        data = np.asarray(data)\n",
    "        dataset.append(data)\n",
    "        #Get actor ID from filename\n",
    "        actor_id = int(file[0:4])\n",
    "        #Get the emotion which is in the filename\n",
    "        emotion = file[9:12]\n",
    "        #get the gender from demographics pd dataframe. 0 for Male, 1 for female\n",
    "        gender = 0\n",
    "        gender = 0 if demographics[\"Sex\"][actor_id - 1001] == \"Male\" else 1\n",
    "        emotion_index = EMOTIONS[emotion] + gender*NUM_EMOTIONS\n",
    "\n",
    "        y[counter][emotion_index] = 1\n",
    "        counter+=1\n",
    "    return dataset, fs, y\n"
   ]
  },
  {
   "cell_type": "code",
   "execution_count": 24,
   "metadata": {},
   "outputs": [],
   "source": [
    "def hotToArray(hot_arr, num_emotions):\n",
    "    num_samples = hot_arr.shape[1]\n",
    "    binary = np.zeros((num_samples, num_emotions))\n",
    "    for i in range(num_samples):\n",
    "        y[i][hot_arr[i]] = 1\n",
    "    return binary"
   ]
  },
  {
   "cell_type": "code",
   "execution_count": 16,
   "metadata": {},
   "outputs": [],
   "source": [
    "# dataset, fs, y = data_extract_CREMA()"
   ]
  },
  {
   "cell_type": "code",
   "execution_count": 28,
   "metadata": {},
   "outputs": [
    {
     "name": "stdout",
     "output_type": "stream",
     "text": [
      "MFCC: 1.1398875713348389ms\n",
      "Pitch: 3.9906322956085205\n",
      "Spectral: 0.7733500003814697ms\n",
      "LPC: 147.58097648620605ms\n",
      "RMS: 0.11069774627685547ms\n",
      "SR: 0.5579352378845215ms\n",
      "zero: 0.23312926292419434ms\n"
     ]
    }
   ],
   "source": [
    "# #TIC TOC\n",
    "# mfcc = []\n",
    "# pitch = []\n",
    "# spectral = []\n",
    "# lpc = []\n",
    "# rms = []\n",
    "# sr = []\n",
    "# zero = []\n",
    "# for i in range(20):\n",
    "#     tic = time.time()\n",
    "#     Emote.MFCC_algorithm([dataset[13]], fs)\n",
    "#     toc = time.time()\n",
    "#     mfcc.append(toc - tic)\n",
    "    \n",
    "#     tic = time.time()\n",
    "#     Emote.get_pitch_vector(dataset[13], fs)\n",
    "#     toc = time.time()\n",
    "#     pitch.append(toc - tic)\n",
    "    \n",
    "#     tic = time.time()\n",
    "#     Emote.get_spectral_vector(dataset[13], fs)\n",
    "#     toc = time.time()\n",
    "#     spectral.append(toc - tic)\n",
    "    \n",
    "#     tic = time.time()\n",
    "#     Emote.get_lpc_vector(dataset[13])\n",
    "#     toc = time.time()\n",
    "#     lpc.append(toc - tic)\n",
    "    \n",
    "#     tic = time.time()\n",
    "#     Emote.get_rms_vector(dataset[13])\n",
    "#     toc = time.time()\n",
    "#     rms.append(toc - tic)\n",
    "    \n",
    "#     tic = time.time()\n",
    "#     Emote.get_sr_vector(dataset[13])\n",
    "#     toc = time.time()\n",
    "#     sr.append(toc - tic)\n",
    "    \n",
    "#     tic = time.time()\n",
    "#     Emote.get_zero_vector(dataset[13])\n",
    "#     toc = time.time()\n",
    "#     zero.append(toc - tic)\n",
    "# print(\"MFCC: \" + str(np.mean(mfcc)*100) + \"ms\")\n",
    "# print(\"Pitch: \" + str(np.mean(pitch)*100))\n",
    "# print(\"Spectral: \" + str(np.mean(spectral)*100) + \"ms\")\n",
    "# print(\"LPC: \" + str(np.mean(lpc)*100) + \"ms\")\n",
    "# print(\"RMS: \" + str(np.mean(rms)*100) + \"ms\")\n",
    "# print(\"SR: \" + str(np.mean(sr)*100) + \"ms\")\n",
    "# print(\"zero: \" + str(np.mean(zero)*100) + \"ms\")"
   ]
  }
 ],
 "metadata": {
  "kernelspec": {
   "display_name": "Python 3",
   "language": "python",
   "name": "python3"
  },
  "language_info": {
   "codemirror_mode": {
    "name": "ipython",
    "version": 3
   },
   "file_extension": ".py",
   "mimetype": "text/x-python",
   "name": "python",
   "nbconvert_exporter": "python",
   "pygments_lexer": "ipython3",
   "version": "3.7.3"
  }
 },
 "nbformat": 4,
 "nbformat_minor": 2
}
