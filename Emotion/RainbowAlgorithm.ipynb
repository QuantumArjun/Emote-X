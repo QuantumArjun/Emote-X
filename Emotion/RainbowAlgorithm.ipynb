{
 "cells": [
  {
   "cell_type": "markdown",
   "metadata": {},
   "source": [
    "# Finding Feature Importance (through Random Forest)"
   ]
  },
  {
   "cell_type": "code",
   "execution_count": 1,
   "metadata": {},
   "outputs": [
    {
     "name": "stderr",
     "output_type": "stream",
     "text": [
      "Using TensorFlow backend.\n"
     ]
    }
   ],
   "source": [
    "from ipynb.fs.full.concat_project2 import x_y_split"
   ]
  },
  {
   "cell_type": "code",
   "execution_count": 2,
   "metadata": {},
   "outputs": [],
   "source": [
    "from ipynb.fs.full.extract_TESS import data_extract_tess"
   ]
  },
  {
   "cell_type": "code",
   "execution_count": 3,
   "metadata": {},
   "outputs": [],
   "source": [
    "import  ipynb.fs.full.concat_project2 as emotex_lib"
   ]
  },
  {
   "cell_type": "code",
   "execution_count": 4,
   "metadata": {},
   "outputs": [],
   "source": [
    "from sklearn.ensemble import RandomForestClassifier\n",
    "from sklearn import datasets\n",
    "from sklearn.model_selection import train_test_split\n",
    "from sklearn.feature_selection import SelectFromModel\n",
    "from sklearn.metrics import accuracy_score\n",
    "import matplotlib.pyplot as plt\n",
    "import matplotlib.pyplot as plt; plt.rcdefaults()\n",
    "import numpy as np"
   ]
  },
  {
   "cell_type": "code",
   "execution_count": 5,
   "metadata": {},
   "outputs": [],
   "source": [
    "# Extracts training and test data set from concat_project\n",
    "#X_train, X_test, y_train, y_test = x_y_split('../../LDC2002S28.wav')"
   ]
  },
  {
   "cell_type": "code",
   "execution_count": 6,
   "metadata": {},
   "outputs": [
    {
     "name": "stdout",
     "output_type": "stream",
     "text": [
      "MFCC DONE\n",
      "dimensions are [2800, 91]\n",
      "pitch DONE\n",
      "dimensions are [2800, 8]\n",
      "spectral DONE\n",
      "dimensions are [2800, 8]\n",
      "lpc DONE\n",
      "dimensions are [2800, 12]\n",
      "rms DONE\n",
      "dimensions are [2800, 8]\n",
      "sr DONE\n",
      "dimensions are [2800, 8]\n",
      "zero DONE\n",
      "dimensions are [2800, 8]\n",
      "x train shape: (2240, 143)\n",
      "y train shape: (2240, 7)\n",
      "x test shape: (560, 143)\n",
      "y test shape: (560, 7)\n",
      "y_train for emotion 0: 320.0\n",
      "y_train for emotion 1: 314.0\n",
      "y_train for emotion 2: 313.0\n",
      "y_train for emotion 3: 312.0\n",
      "y_train for emotion 4: 332.0\n",
      "y_train for emotion 5: 328.0\n",
      "y_train for emotion 6: 321.0\n",
      "y_test for emotion 0: 80.0\n",
      "y_test for emotion 1: 86.0\n",
      "y_test for emotion 2: 87.0\n",
      "y_test for emotion 3: 88.0\n",
      "y_test for emotion 4: 68.0\n",
      "y_test for emotion 5: 72.0\n",
      "y_test for emotion 6: 79.0\n"
     ]
    }
   ],
   "source": [
    "data_TESS, fs_TESS, y_TESS = data_extract_tess()\n",
    "\n",
    "X_train_TESS, X_test_TESS, y_train_TESS, y_test_TESS = x_y_split(data_TESS, fs_TESS, y_TESS)"
   ]
  },
  {
   "cell_type": "code",
   "execution_count": 11,
   "metadata": {},
   "outputs": [],
   "source": [
    "np.save(\"TESS_data\", (X_train_TESS, X_test_TESS, y_train_TESS, y_test_TESS))"
   ]
  },
  {
   "cell_type": "code",
   "execution_count": 12,
   "metadata": {},
   "outputs": [
    {
     "name": "stdout",
     "output_type": "stream",
     "text": [
      "MFCC DONE\n",
      "dimensions are [1380, 91]\n",
      "pitch DONE\n",
      "dimensions are [1380, 8]\n",
      "spectral DONE\n",
      "dimensions are [1380, 8]\n",
      "lpc DONE\n",
      "dimensions are [1380, 12]\n",
      "rms DONE\n",
      "dimensions are [1380, 8]\n",
      "sr DONE\n",
      "dimensions are [1380, 8]\n",
      "zero DONE\n",
      "dimensions are [1380, 8]\n",
      "x train shape: (1104, 143)\n",
      "y train shape: (1104, 8)\n",
      "x test shape: (276, 143)\n",
      "y test shape: (276, 8)\n",
      "y_train for emotion 0: 69.0\n",
      "y_train for emotion 1: 137.0\n",
      "y_train for emotion 2: 150.0\n",
      "y_train for emotion 3: 150.0\n",
      "y_train for emotion 4: 154.0\n",
      "y_train for emotion 5: 145.0\n",
      "y_train for emotion 6: 151.0\n",
      "y_train for emotion 7: 148.0\n",
      "y_test for emotion 0: 23.0\n",
      "y_test for emotion 1: 47.0\n",
      "y_test for emotion 2: 34.0\n",
      "y_test for emotion 3: 34.0\n",
      "y_test for emotion 4: 30.0\n",
      "y_test for emotion 5: 39.0\n",
      "y_test for emotion 6: 33.0\n",
      "y_test for emotion 7: 36.0\n"
     ]
    }
   ],
   "source": [
    "data_RAV, fs_RAV, x_size = emotex_lib.data_extraction_RAVDESS('../../RAVDESS')\n",
    "y_RAV = emotex_lib.emotion_extraction_RAVDESS('../../RAVDESS',x_size)\n",
    "X_train_RAV, X_test_RAV, y_train_RAV, y_test_RAV = x_y_split(data_RAV, fs_RAV, y_RAV)"
   ]
  },
  {
   "cell_type": "code",
   "execution_count": 13,
   "metadata": {},
   "outputs": [],
   "source": [
    "np.save(\"lpc_RAVData\", (X_train_RAV, X_test_RAV, y_train_RAV, y_test_RAV))"
   ]
  },
  {
   "cell_type": "code",
   "execution_count": 5,
   "metadata": {},
   "outputs": [],
   "source": [
    "#Classifies all the feature labels\n",
    "feat_labels = ['MFCC_1_Mean', 'MFCC_1_Median','MFCC_1_Var', 'MFCC_1_Min', \n",
    "               'MFCC_1_Max', 'MFCC_1_dMean','MFCC_1_dVar', 'MFCC_2_Mean',\n",
    "               'MFCC_2_Median','MFCC_2_Var', 'MFCC_2_Min', 'MFCC_2_Max',\n",
    "               'MFCC_2_dMean','MFCC_2_dVar', 'MFCC_3_Mean', 'MFCC_3_Median',\n",
    "               'MFCC_3_Var', 'MFCC_3_Min', 'MFCC_3_Max', 'MFCC_3_dMean',\n",
    "               'MFCC_3_dVar','MFCC_4_Mean', 'MFCC_4_Median',\n",
    "               'MFCC_4_Var', 'MFCC_4_Min', 'MFCC_4_Max', 'MFCC_4_dMean',\n",
    "               'MFCC_4_dVar','MFCC_5_Mean', 'MFCC_5_Median',\n",
    "               'MFCC_5_Var', 'MFCC_5_Min', 'MFCC_5_Max', 'MFCC_5_dMean',\n",
    "               'MFCC_5_dVar','MFCC_6_Mean', 'MFCC_6_Median',\n",
    "               'MFCC_6_Var', 'MFCC_6_Min', 'MFCC_6_Max', 'MFCC_6_dMean',\n",
    "               'MFCC_6_dVar','MFCC_7_Mean', 'MFCC_7_Median',\n",
    "               'MFCC_7_Var', 'MFCC_7_Min', 'MFCC_7_Max', 'MFCC_7_dMean',\n",
    "               'MFCC_7_dVar','MFCC_8_Mean', 'MFCC_8_Median',\n",
    "               'MFCC_8_Var', 'MFCC_8_Min', 'MFCC_8_Max', 'MFCC_8_dMean',\n",
    "               'MFCC_8_dVar','MFCC_9_Mean', 'MFCC_9_Median',\n",
    "               'MFCC_9_Var', 'MFCC_9_Min', 'MFCC_9_Max', 'MFCC_9_dMean',\n",
    "               'MFCC_9_dVar', 'MFCC_10_Mean', 'MFCC_10_Median',\n",
    "               'MFCC_10_Var', 'MFCC_10_Min', 'MFCC_10_Max', 'MFCC_10_dMean',\n",
    "               'MFCC_10_dVar', 'MFCC_11_Mean', 'MFCC_11_Median',\n",
    "               'MFCC_11_Var', 'MFCC_11_Min', 'MFCC_11_Max', 'MFCC_11_dMean',\n",
    "               'MFCC_11_dVar','MFCC_12_Mean', 'MFCC_12_Median',\n",
    "               'MFCC_12_Var', 'MFCC_12_Min', 'MFCC_12_Max', 'MFCC_12_dMean',\n",
    "               'MFCC_12_dVar', 'MFCC_13_Mean', 'MFCC_13_Median',\n",
    "               'MFCC_13_Var', 'MFCC_13_Min', 'MFCC_13_Max', 'MFCC_13_dMean',\n",
    "               'MFCC_13_dVar', 'Pitch_Mean', 'Pitch_Median', 'Pitch_Min', 'Pitch_Max',\n",
    "               'Pitch_Var', 'Pitch_dMean', 'Pitch_dMin', 'Pitch_dMax', 'Spectral_Mean', \n",
    "               'Spectral_Median', 'Spectral_Min', 'Spectral_Max', 'Spectral_Var', 'Spectral_dMean', \n",
    "               'Spectral_dMin', 'Spectral_dMax','LPC_1', 'LPC_2','LPC_3', 'LPC_4', 'LPC_5', \n",
    "               'LPC_6', 'LPC_7', 'LPC_8', 'LPC_9', 'LPC_10', 'LPC_11', 'LPC_12', 'LPC_13',\n",
    "               'RMS_Mean', 'RMS_Median', 'RMS_Min', 'RMS_Max','RMS_Var', 'RMS_dMean', \n",
    "               'RMS_dMin', 'RMS_dMax', 'Spec_Rolloff_Mean', 'Spec_Rolloff_Median',\n",
    "               'Spec_Rolloff_Min', 'Spec_Rolloff_Max','Spec_Rolloff_Var', 'Spec_Rolloff_dMean', \n",
    "               'Spec_Rolloff_dMin', 'Spec_Rolloff_dMax', 'Zero_Cutoff_Mean', 'Zero_Cutoff_Median',\n",
    "               'Zero_Cutoff_Min', 'Zero_Cutoff_Max','Zero_Cutoff_Var', 'Zero_Cutoff_dMean', \n",
    "               'Zero_Cutoff_dMin', 'Zero_Cutoff_dMax']"
   ]
  },
  {
   "cell_type": "code",
   "execution_count": 6,
   "metadata": {},
   "outputs": [
    {
     "ename": "NameError",
     "evalue": "name 'X_train_TESS' is not defined",
     "output_type": "error",
     "traceback": [
      "\u001b[0;31m---------------------------------------------------------------------------\u001b[0m",
      "\u001b[0;31mNameError\u001b[0m                                 Traceback (most recent call last)",
      "\u001b[0;32m<ipython-input-6-174432e556ed>\u001b[0m in \u001b[0;36m<module>\u001b[0;34m\u001b[0m\n\u001b[1;32m      3\u001b[0m \u001b[0;34m\u001b[0m\u001b[0m\n\u001b[1;32m      4\u001b[0m \u001b[0;31m#Trains the RF Classifier\u001b[0m\u001b[0;34m\u001b[0m\u001b[0;34m\u001b[0m\u001b[0;34m\u001b[0m\u001b[0m\n\u001b[0;32m----> 5\u001b[0;31m \u001b[0mclf_TESS\u001b[0m\u001b[0;34m.\u001b[0m\u001b[0mfit\u001b[0m\u001b[0;34m(\u001b[0m\u001b[0mX_train_TESS\u001b[0m\u001b[0;34m,\u001b[0m \u001b[0my_train_TESS\u001b[0m\u001b[0;34m)\u001b[0m\u001b[0;34m\u001b[0m\u001b[0;34m\u001b[0m\u001b[0m\n\u001b[0m",
      "\u001b[0;31mNameError\u001b[0m: name 'X_train_TESS' is not defined"
     ]
    }
   ],
   "source": [
    "#Creates a Random Forest Classifier (Classifier chosen as opposed to regression)\n",
    "clf_TESS = RandomForestClassifier(n_estimators=10000, random_state=0, n_jobs=-1)\n",
    "\n",
    "#Trains the RF Classifier\n",
    "clf_TESS.fit(X_train_TESS, y_train_TESS)"
   ]
  },
  {
   "cell_type": "code",
   "execution_count": null,
   "metadata": {},
   "outputs": [],
   "source": [
    "#Creates a Random Forest Classifier (Classifier chosen as opposed to regression)\n",
    "clf_RAV = RandomForestClassifier(n_estimators=10000, random_state=0, n_jobs=-1)\n",
    "\n",
    "#Trains the RF Classifier\n",
    "clf_RAV.fit(X_train_RAV, y_train_RAV)"
   ]
  },
  {
   "cell_type": "code",
   "execution_count": null,
   "metadata": {},
   "outputs": [],
   "source": [
    "#Prints the name and the GINI importance of each feature \n",
    "sum1 = 0\n",
    "featureList_TESS = []\n",
    "for feature in zip(feat_labels, clf_TESS.feature_importances_):\n",
    "    featureList_TESS.append(feature[1])\n",
    "    print(feature)"
   ]
  },
  {
   "cell_type": "code",
   "execution_count": null,
   "metadata": {},
   "outputs": [],
   "source": [
    "#Prints the name and the GINI importance of each feature \n",
    "sum1 = 0\n",
    "featureList_RAV = []\n",
    "for feature in zip(feat_labels, clf_RAV.feature_importances_):\n",
    "    featureList_RAV.append(feature[1])\n",
    "    print(feature)"
   ]
  },
  {
   "cell_type": "code",
   "execution_count": null,
   "metadata": {},
   "outputs": [],
   "source": [
    "percentfeatureList_RAV = [i * 100 for i in featureList_RAV]"
   ]
  },
  {
   "cell_type": "code",
   "execution_count": null,
   "metadata": {},
   "outputs": [],
   "source": [
    "percentfeatureList_TESS = [i * 100 for i in featureList_TESS]"
   ]
  },
  {
   "cell_type": "code",
   "execution_count": null,
   "metadata": {},
   "outputs": [],
   "source": [
    "plt.bar(np.arange(len(percentfeatureList_TESS)),percentfeatureList_TESS)"
   ]
  },
  {
   "cell_type": "code",
   "execution_count": null,
   "metadata": {},
   "outputs": [],
   "source": [
    "plt.bar(np.arange(len(percentfeatureList_RAV)),percentfeatureList_RAV)"
   ]
  },
  {
   "cell_type": "code",
   "execution_count": null,
   "metadata": {},
   "outputs": [],
   "source": []
  },
  {
   "cell_type": "code",
   "execution_count": null,
   "metadata": {},
   "outputs": [],
   "source": [
    "#Big Boi\n",
    "plt.rcdefaults()\n",
    "fig, ax = plt.subplots()\n",
    "\n",
    "x_pos = [i for i, _ in enumerate(feat_labels)]\n",
    "\n",
    "plt.barh(np.arange(len(percentfeatureList_TESS)), percentfeatureList_TESS, color='green')\n",
    "plt.ylabel(\"Feature Name\")\n",
    "plt.xlabel(\"Percent Impact\")\n",
    "plt.title(\"Effect of Each Feature on Overall Accuracy - TESS\")\n",
    "\n",
    "plt.yticks(x_pos, feat_labels)\n",
    "\n",
    "plt.show()"
   ]
  },
  {
   "cell_type": "code",
   "execution_count": null,
   "metadata": {},
   "outputs": [],
   "source": [
    "#Big Boi\n",
    "plt.rcdefaults()\n",
    "fig, ax = plt.subplots()\n",
    "\n",
    "x_pos = [i for i, _ in enumerate(feat_labels)]\n",
    "\n",
    "plt.barh(np.arange(len(percentfeatureList_RAV)), percentfeatureList_RAV, color='green')\n",
    "plt.ylabel(\"Feature Name\")\n",
    "plt.xlabel(\"Percent Impact\")\n",
    "plt.title(\"Effect of Each Feature on Overall Accuracy - RAV\")\n",
    "\n",
    "plt.yticks(x_pos, feat_labels)\n",
    "plt.show()\n",
    "          "
   ]
  },
  {
   "cell_type": "code",
   "execution_count": null,
   "metadata": {},
   "outputs": [],
   "source": []
  },
  {
   "cell_type": "code",
   "execution_count": null,
   "metadata": {},
   "outputs": [],
   "source": [
    "#MFCCs\n",
    "plt.rcdefaults()\n",
    "fig, ax = plt.subplots()\n",
    "\n",
    "MFCC_list = percentfeatureList_TESS[:91]\n",
    "MFCC_label_list = feat_labels[:91]\n",
    "\n",
    "x_pos = [i for i, _ in enumerate(MFCC_label_list)]\n",
    "\n",
    "plt.barh(np.arange(len(MFCC_list)), MFCC_list, color='green')\n",
    "plt.ylabel(\"Feature Name\")\n",
    "plt.xlabel(\"Percent Impact\")\n",
    "plt.title(\"Effect of Each Feature on Overall Accuracy - TESS\")\n",
    "\n",
    "plt.yticks(x_pos, MFCC_label_list)\n",
    "\n",
    "plt.show()"
   ]
  },
  {
   "cell_type": "code",
   "execution_count": null,
   "metadata": {},
   "outputs": [],
   "source": [
    "plt.rcdefaults()\n",
    "fig, ax = plt.subplots()\n",
    "\n",
    "MFCC_list = percentfeatureList_RAV[:92]\n",
    "MFCC_label_list = feat_labels[:92]\n",
    "\n",
    "x_pos = [i for i, _ in enumerate(MFCC_label_list)]\n",
    "\n",
    "plt.barh(np.arange(len(MFCC_list)), MFCC_list, color='green')\n",
    "plt.ylabel(\"Feature Name\")\n",
    "plt.xlabel(\"Percent Impact\")\n",
    "plt.title(\"Effect of Each Feature on Overall Accuracy - RAV\")\n",
    "\n",
    "plt.yticks(x_pos, MFCC_label_list)\n",
    "\n",
    "plt.show()"
   ]
  },
  {
   "cell_type": "code",
   "execution_count": null,
   "metadata": {},
   "outputs": [],
   "source": []
  },
  {
   "cell_type": "code",
   "execution_count": null,
   "metadata": {
    "scrolled": true
   },
   "outputs": [],
   "source": [
    "plt.rcdefaults()\n",
    "fig, ax = plt.subplots()\n",
    "\n",
    "MFCC_list = percentfeatureList_TESS[93:]\n",
    "MFCC_label_list = feat_labels[93:]\n",
    "\n",
    "x_pos = [i for i, _ in enumerate(MFCC_label_list)]\n",
    "\n",
    "plt.barh(np.arange(len(MFCC_list)), MFCC_list, color='green')\n",
    "plt.ylabel(\"Feature Name\")\n",
    "plt.xlabel(\"Percent Impact\")\n",
    "plt.title(\"Effect of Each Feature on Overall Accuracy - TESS\")\n",
    "\n",
    "plt.yticks(x_pos, MFCC_label_list)\n",
    "\n",
    "plt.show()"
   ]
  },
  {
   "cell_type": "code",
   "execution_count": null,
   "metadata": {},
   "outputs": [],
   "source": [
    "plt.rcdefaults()\n",
    "fig, ax = plt.subplots()\n",
    "\n",
    "MFCC_list = percentfeatureList_RAV[93:]\n",
    "MFCC_label_list = feat_labels[93:]\n",
    "\n",
    "x_pos = [i for i, _ in enumerate(MFCC_label_list)]\n",
    "\n",
    "plt.barh(np.arange(len(MFCC_list)), MFCC_list, color='green')\n",
    "plt.ylabel(\"Feature Name\")\n",
    "plt.xlabel(\"Percent Impact\")\n",
    "plt.title(\"Effect of Each Feature on Overall Accuracy - RAV\")\n",
    "\n",
    "plt.yticks(x_pos, MFCC_label_list)\n",
    "\n",
    "plt.show()"
   ]
  },
  {
   "cell_type": "code",
   "execution_count": null,
   "metadata": {},
   "outputs": [],
   "source": []
  },
  {
   "cell_type": "code",
   "execution_count": 9,
   "metadata": {},
   "outputs": [],
   "source": [
    "sfm = SelectFromModel(clf, threshold=0.005)"
   ]
  },
  {
   "cell_type": "code",
   "execution_count": 10,
   "metadata": {},
   "outputs": [
    {
     "data": {
      "text/plain": [
       "SelectFromModel(estimator=RandomForestClassifier(bootstrap=True,\n",
       "                                                 class_weight=None,\n",
       "                                                 criterion='gini',\n",
       "                                                 max_depth=None,\n",
       "                                                 max_features='auto',\n",
       "                                                 max_leaf_nodes=None,\n",
       "                                                 min_impurity_decrease=0.0,\n",
       "                                                 min_impurity_split=None,\n",
       "                                                 min_samples_leaf=1,\n",
       "                                                 min_samples_split=2,\n",
       "                                                 min_weight_fraction_leaf=0.0,\n",
       "                                                 n_estimators=10000, n_jobs=-1,\n",
       "                                                 oob_score=False,\n",
       "                                                 random_state=0, verbose=0,\n",
       "                                                 warm_start=False),\n",
       "                max_features=None, norm_order=1, prefit=False, threshold=0.005)"
      ]
     },
     "execution_count": 10,
     "metadata": {},
     "output_type": "execute_result"
    }
   ],
   "source": [
    "sfm.fit(X_train, y_train)\n"
   ]
  },
  {
   "cell_type": "code",
   "execution_count": 11,
   "metadata": {},
   "outputs": [
    {
     "name": "stdout",
     "output_type": "stream",
     "text": [
      "0\n",
      "1\n",
      "2\n",
      "3\n",
      "4\n",
      "5\n",
      "6\n",
      "7\n",
      "8\n",
      "14\n",
      "15\n",
      "16\n",
      "21\n",
      "22\n",
      "23\n",
      "24\n",
      "28\n",
      "29\n",
      "32\n",
      "35\n",
      "36\n",
      "37\n",
      "38\n",
      "39\n",
      "40\n",
      "42\n",
      "43\n",
      "45\n",
      "46\n",
      "49\n",
      "50\n",
      "52\n",
      "53\n",
      "56\n",
      "57\n",
      "58\n",
      "59\n",
      "60\n",
      "63\n",
      "64\n",
      "66\n",
      "67\n",
      "70\n",
      "71\n",
      "72\n",
      "73\n",
      "74\n",
      "76\n",
      "77\n",
      "78\n",
      "79\n",
      "80\n",
      "81\n",
      "83\n",
      "84\n",
      "85\n",
      "87\n",
      "88\n",
      "91\n",
      "92\n",
      "93\n",
      "94\n",
      "95\n",
      "96\n",
      "97\n",
      "98\n",
      "99\n",
      "100\n",
      "101\n",
      "105\n",
      "106\n",
      "111\n",
      "119\n",
      "120\n",
      "121\n",
      "122\n",
      "123\n",
      "124\n",
      "125\n",
      "126\n",
      "127\n",
      "128\n",
      "135\n",
      "136\n",
      "137\n"
     ]
    }
   ],
   "source": [
    "featureListP = []\n",
    "for feature_list_index in sfm.get_support(indices=True):\n",
    "    print(feature_list_index)"
   ]
  },
  {
   "cell_type": "code",
   "execution_count": null,
   "metadata": {},
   "outputs": [],
   "source": []
  },
  {
   "cell_type": "code",
   "execution_count": 20,
   "metadata": {},
   "outputs": [],
   "source": [
    "#X_important_train = sfm.transform(X_train)"
   ]
  },
  {
   "cell_type": "code",
   "execution_count": 13,
   "metadata": {},
   "outputs": [],
   "source": [
    "#clf_important = RandomForestClassifier(n_estimators=10000, random_state=0, n_jobs=-1)"
   ]
  },
  {
   "cell_type": "code",
   "execution_count": 16,
   "metadata": {},
   "outputs": [
    {
     "data": {
      "text/plain": [
       "RandomForestClassifier(bootstrap=True, class_weight=None, criterion='gini',\n",
       "                       max_depth=None, max_features='auto', max_leaf_nodes=None,\n",
       "                       min_impurity_decrease=0.0, min_impurity_split=None,\n",
       "                       min_samples_leaf=1, min_samples_split=2,\n",
       "                       min_weight_fraction_leaf=0.0, n_estimators=10000,\n",
       "                       n_jobs=-1, oob_score=False, random_state=0, verbose=0,\n",
       "                       warm_start=False)"
      ]
     },
     "execution_count": 16,
     "metadata": {},
     "output_type": "execute_result"
    }
   ],
   "source": [
    "#clf_important.fit(X_train, y_train)"
   ]
  },
  {
   "cell_type": "code",
   "execution_count": 17,
   "metadata": {},
   "outputs": [
    {
     "data": {
      "text/plain": [
       "0.05172413793103448"
      ]
     },
     "execution_count": 17,
     "metadata": {},
     "output_type": "execute_result"
    }
   ],
   "source": [
    "# Apply The Full Featured Classifier To The Test Data\n",
    "#y_pred = clf.predict(X_test)\n",
    "\n",
    "# View The Accuracy Of Our Full Feature (4 Features) Model\n",
    "#accuracy_score(y_test, y_pred)"
   ]
  },
  {
   "cell_type": "code",
   "execution_count": 18,
   "metadata": {},
   "outputs": [
    {
     "ename": "NameError",
     "evalue": "name 'X_important_test' is not defined",
     "output_type": "error",
     "traceback": [
      "\u001b[0;31m---------------------------------------------------------------------------\u001b[0m",
      "\u001b[0;31mNameError\u001b[0m                                 Traceback (most recent call last)",
      "\u001b[0;32m<ipython-input-18-826ad828f748>\u001b[0m in \u001b[0;36m<module>\u001b[0;34m\u001b[0m\n\u001b[1;32m      1\u001b[0m \u001b[0;31m# Apply The Full Featured Classifier To The Test Data\u001b[0m\u001b[0;34m\u001b[0m\u001b[0;34m\u001b[0m\u001b[0;34m\u001b[0m\u001b[0m\n\u001b[0;32m----> 2\u001b[0;31m \u001b[0my_important_pred\u001b[0m \u001b[0;34m=\u001b[0m \u001b[0mclf_important\u001b[0m\u001b[0;34m.\u001b[0m\u001b[0mpredict\u001b[0m\u001b[0;34m(\u001b[0m\u001b[0mX_important_test\u001b[0m\u001b[0;34m)\u001b[0m\u001b[0;34m\u001b[0m\u001b[0;34m\u001b[0m\u001b[0m\n\u001b[0m\u001b[1;32m      3\u001b[0m \u001b[0;34m\u001b[0m\u001b[0m\n\u001b[1;32m      4\u001b[0m \u001b[0;31m# View The Accuracy Of Our Limited Feature (2 Features) Model\u001b[0m\u001b[0;34m\u001b[0m\u001b[0;34m\u001b[0m\u001b[0;34m\u001b[0m\u001b[0m\n\u001b[1;32m      5\u001b[0m \u001b[0maccuracy_score\u001b[0m\u001b[0;34m(\u001b[0m\u001b[0my_test\u001b[0m\u001b[0;34m,\u001b[0m \u001b[0my_important_pred\u001b[0m\u001b[0;34m)\u001b[0m\u001b[0;34m\u001b[0m\u001b[0;34m\u001b[0m\u001b[0m\n",
      "\u001b[0;31mNameError\u001b[0m: name 'X_important_test' is not defined"
     ]
    }
   ],
   "source": [
    "# Apply The Full Featured Classifier To The Test Data\n",
    "#y_important_pred = clf_important.predict(X_important_test)\n",
    "\n",
    "# View The Accuracy Of Our Limited Feature (2 Features) Model\n",
    "#accuracy_score(y_test, y_important_pred)"
   ]
  },
  {
   "cell_type": "code",
   "execution_count": null,
   "metadata": {},
   "outputs": [],
   "source": []
  },
  {
   "cell_type": "code",
   "execution_count": null,
   "metadata": {},
   "outputs": [],
   "source": []
  }
 ],
 "metadata": {
  "kernelspec": {
   "display_name": "Python 3",
   "language": "python",
   "name": "python3"
  },
  "language_info": {
   "codemirror_mode": {
    "name": "ipython",
    "version": 3
   },
   "file_extension": ".py",
   "mimetype": "text/x-python",
   "name": "python",
   "nbconvert_exporter": "python",
   "pygments_lexer": "ipython3",
   "version": "3.7.3"
  }
 },
 "nbformat": 4,
 "nbformat_minor": 2
}
