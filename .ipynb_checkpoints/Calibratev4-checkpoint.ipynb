{
 "cells": [
  {
   "cell_type": "markdown",
   "metadata": {},
   "source": [
    "# Dependencies"
   ]
  },
  {
   "cell_type": "code",
   "execution_count": 1,
   "metadata": {},
   "outputs": [],
   "source": [
    "import scipy\n",
    "from scipy.optimize import curve_fit\n",
    "from scipy.io import wavfile\n",
    "from scipy.signal import butter, sosfiltfilt\n",
    "import matplotlib.pyplot as plt\n",
    "import pandas as pd\n",
    "import numpy as np\n",
    "from scipy import signal\n",
    "import osascript\n",
    "from gtts import gTTS \n",
    "from matplotlib import pylab\n",
    "import os \n",
    "import pyaudio\n",
    "import wave\n",
    "import keyboard  # using module keyboard\n",
    "import soundfile as sf\n",
    "import math\n",
    "import pyloudnorm as pyln\n",
    "from sys import byteorder\n",
    "from array import array\n",
    "from struct import pack\n",
    "import time\n",
    "import subprocess"
   ]
  },
  {
   "cell_type": "markdown",
   "metadata": {},
   "source": [
    "# Constants"
   ]
  },
  {
   "cell_type": "code",
   "execution_count": 2,
   "metadata": {},
   "outputs": [],
   "source": [
    "THRESHOLD = 100\n",
    "CHUNK_SIZE = 2048\n",
    "FORMAT = pyaudio.paInt16\n",
    "RATE = 44100\n",
    "AVG_STEP = 75\n",
    "PERCENTILE = 70\n",
    "BANDPASS_FREQ = [300, 3400]\n",
    "CALIBRATION_VOLUME = 40\n",
    "a,b,c = (3.2088250688568654e-15, -2429.7644725225973, -622843236429962.9)"
   ]
  },
  {
   "cell_type": "markdown",
   "metadata": {},
   "source": [
    "# Record Audio"
   ]
  },
  {
   "cell_type": "markdown",
   "metadata": {},
   "source": [
    "#### Record from microphone"
   ]
  },
  {
   "cell_type": "markdown",
   "metadata": {},
   "source": [
    " Record a word or words from the microphone and return the data as an array of signed shorts.\n",
    "\n",
    "Normalizes the audio, trims silence from the start and end, and pads with 0.5 seconds of \n",
    "blank sound to make sure VLC et al can play it without getting chopped off."
   ]
  },
  {
   "cell_type": "code",
   "execution_count": 3,
   "metadata": {},
   "outputs": [],
   "source": [
    "def record():\n",
    "    p = pyaudio.PyAudio()\n",
    "    stream = p.open(format=FORMAT, channels=1, rate=RATE,\n",
    "        input=True, output=True,\n",
    "        frames_per_buffer=CHUNK_SIZE)\n",
    "\n",
    "    num_silent = 0\n",
    "    snd_started = False\n",
    "\n",
    "    r = array('h')\n",
    "\n",
    "    while 1:\n",
    "        # little endian, signed short\n",
    "        snd_data = array('h', stream.read(CHUNK_SIZE))\n",
    "        if byteorder == 'big':\n",
    "            snd_data.byteswap()\n",
    "        r.extend(snd_data)\n",
    "\n",
    "        silent = is_silent(snd_data)\n",
    "\n",
    "        if silent and snd_started:\n",
    "            num_silent += 1\n",
    "        elif not silent and not snd_started:\n",
    "            snd_started = True\n",
    "\n",
    "        if snd_started and num_silent > 60:\n",
    "            break\n",
    "\n",
    "    sample_width = p.get_sample_size(FORMAT)\n",
    "    stream.stop_stream()\n",
    "    stream.close()\n",
    "    p.terminate()\n",
    "\n",
    "#     r = trim(r)\n",
    "#     r = add_silence(r, 0.5)\n",
    "    return sample_width, r"
   ]
  },
  {
   "cell_type": "markdown",
   "metadata": {},
   "source": [
    "#### Save to wav file"
   ]
  },
  {
   "cell_type": "code",
   "execution_count": 4,
   "metadata": {},
   "outputs": [],
   "source": [
    "def record_to_file(path):\n",
    "    sample_width, data = record()\n",
    "    data = pack('<' + ('h'*len(data)), *data)\n",
    "\n",
    "    wf = wave.open(path, 'wb')\n",
    "    wf.setnchannels(1)\n",
    "    wf.setsampwidth(sample_width)\n",
    "    wf.setframerate(RATE)\n",
    "    wf.writeframes(data)\n",
    "    wf.close()"
   ]
  },
  {
   "cell_type": "markdown",
   "metadata": {},
   "source": [
    "#### Checks if input is silent based on threshold"
   ]
  },
  {
   "cell_type": "code",
   "execution_count": 5,
   "metadata": {},
   "outputs": [],
   "source": [
    "def is_silent(snd_data):\n",
    "    \"Returns 'True' if below the 'silent' threshold\"\n",
    "    return max(snd_data) < THRESHOLD"
   ]
  },
  {
   "cell_type": "markdown",
   "metadata": {},
   "source": [
    "# Preprocessing"
   ]
  },
  {
   "cell_type": "markdown",
   "metadata": {},
   "source": [
    "#### Trim input to remove silence at beginning and end"
   ]
  },
  {
   "cell_type": "code",
   "execution_count": 6,
   "metadata": {},
   "outputs": [],
   "source": [
    "def trim(snd_data):\n",
    "    def _trim(snd_data):\n",
    "        snd_started = False\n",
    "        r = array('h')\n",
    "\n",
    "        for i in snd_data:\n",
    "            if not snd_started and abs(i)>THRESHOLD:\n",
    "                snd_started = True\n",
    "                r.append(i)\n",
    "            elif snd_started:\n",
    "                r.append(i)\n",
    "        return r\n",
    "\n",
    "    # Trim to the left\n",
    "    snd_data = _trim(snd_data)\n",
    "\n",
    "    # Trim to the right\n",
    "    snd_data.reverse()\n",
    "    snd_data = _trim(snd_data)\n",
    "    snd_data.reverse()\n",
    "    return snd_data"
   ]
  },
  {
   "cell_type": "markdown",
   "metadata": {},
   "source": [
    "#### Pad with silence at beginning and end"
   ]
  },
  {
   "cell_type": "code",
   "execution_count": 7,
   "metadata": {},
   "outputs": [],
   "source": [
    "def add_silence(snd_data, seconds):\n",
    "    \"\"\n",
    "    r = array('h', [0 for i in range(int(seconds*RATE))])\n",
    "    r.extend(snd_data)\n",
    "    r.extend([0 for i in range(int(seconds*RATE))])\n",
    "    return r"
   ]
  },
  {
   "cell_type": "markdown",
   "metadata": {},
   "source": [
    "# Filters"
   ]
  },
  {
   "cell_type": "code",
   "execution_count": 8,
   "metadata": {},
   "outputs": [],
   "source": [
    "def voice_input_band(voice_data):\n",
    "    fs, data = wavfile.read(voice_data)\n",
    "    data = butter_bandpass_filter(data, BANDPASS_FREQ[0], BANDPASS_FREQ[1], fs)\n",
    "    return data, fs"
   ]
  },
  {
   "cell_type": "code",
   "execution_count": 9,
   "metadata": {},
   "outputs": [],
   "source": [
    "def voice_input_high(voice_data):\n",
    "    fs, data = wavfile.read(voice_data)\n",
    "    number_of_samples = data.shape#### Pad with silence at beginning and end\n",
    "    data = butter_highpass_filter(data, 10, fs)\n",
    "    return data, fs"
   ]
  },
  {
   "cell_type": "markdown",
   "metadata": {},
   "source": [
    "#### Implement butter bandpass filter"
   ]
  },
  {
   "cell_type": "code",
   "execution_count": 10,
   "metadata": {},
   "outputs": [],
   "source": [
    "def butter_bandpass(lowcut, highcut, fs, order=5):\n",
    "    nyq = 0.5 * fs\n",
    "    low = lowcut / nyq\n",
    "    high = highcut / nyq\n",
    "    sos = butter(order, [low, high], btype='band', analog=False, output='sos')\n",
    "    return sos\n",
    "\n",
    "def butter_bandpass_filter(data, lowcut, highcut, fs, order=5):\n",
    "    sos = butter_bandpass(lowcut, highcut, fs, order=order)\n",
    "    y = sosfiltfilt(sos, data)\n",
    "    return y"
   ]
  },
  {
   "cell_type": "markdown",
   "metadata": {},
   "source": [
    "#### Implement butter highpass filter"
   ]
  },
  {
   "cell_type": "code",
   "execution_count": 11,
   "metadata": {},
   "outputs": [],
   "source": [
    "def butter_highpass(cutoff, fs, order=5):\n",
    "    nyq = 0.5 * fs\n",
    "    normal_cutoff = cutoff / nyq\n",
    "    b, a = signal.butter(order, normal_cutoff, btype='high', analog=False)\n",
    "    return b, a\n",
    "\n",
    "def butter_highpass_filter(data, cutoff, fs, order=5):\n",
    "    b, a = butter_highpass(cutoff, fs, order=order)\n",
    "    y = signal.filtfilt(b, a, data)\n",
    "    return y"
   ]
  },
  {
   "cell_type": "markdown",
   "metadata": {},
   "source": [
    "# Loudness Algorithm"
   ]
  },
  {
   "cell_type": "markdown",
   "metadata": {},
   "source": [
    "#### Get amplitude curve and apply regression on ITU-R BS.1770-4 loudness algorithm"
   ]
  },
  {
   "cell_type": "code",
   "execution_count": 12,
   "metadata": {},
   "outputs": [],
   "source": [
    "def getting_loudness3(data, rate):\n",
    "    plt.figure(0)\n",
    "    plt.plot(data)\n",
    "    \n",
    "    # Average data by step size to percentile\n",
    "    avg_data = np.percentile(data[:(len(data)//AVG_STEP)*AVG_STEP].reshape(-1,AVG_STEP),\n",
    "                             PERCENTILE, axis=1)\n",
    "    \n",
    "    #apply hilbert envelope\n",
    "    hilbert_transformed = np.abs(scipy.signal.hilbert(avg_data))\n",
    "\n",
    "    #Smooth out hilbert \n",
    "    b, a = scipy.signal.ellip(4, 0.01, 120, 0.125)\n",
    "    fgust = scipy.signal.filtfilt(b, a, hilbert_transformed, method=\"gust\")\n",
    "    plt.figure(1)\n",
    "    plt.plot(avg_data)\n",
    "    plt.plot(fgust)\n",
    "\n",
    "    #remove silence \n",
    "    avg = np.mean(fgust)\n",
    "    silenced = remove_silence_from(fgust, avg)\n",
    "    plt.figure(2)\n",
    "    plt.plot(silenced)\n",
    "    data = [float(i) for i in silenced]\n",
    "    data = np.array(data)\n",
    "\n",
    "    # measure the loudness first \n",
    "    meter = pyln.Meter(rate/500) # create BS.1770 meter\n",
    "    loudness = meter.integrated_loudness(data)\n",
    "    print(\"lds: \"+ str(loudness))\n",
    "    #return the exponential regression\n",
    "    return (loudness)"
   ]
  },
  {
   "cell_type": "markdown",
   "metadata": {},
   "source": [
    "#### Remove silence before, after, and in-between voice data"
   ]
  },
  {
   "cell_type": "code",
   "execution_count": 13,
   "metadata": {},
   "outputs": [],
   "source": [
    "def remove_silence_from(amplitudes, threshold):\n",
    "    silenced = []\n",
    "    for x in amplitudes:\n",
    "        if x >= threshold:\n",
    "            silenced.append(x)\n",
    "    return silenced# Preprocessing"
   ]
  },
  {
   "cell_type": "markdown",
   "metadata": {},
   "source": [
    "# Regressions"
   ]
  },
  {
   "cell_type": "markdown",
   "metadata": {},
   "source": [
    "#### Regression converts loudness to scale 0 to 100 and adjusts for calibration offset"
   ]
  },
  {
   "cell_type": "code",
   "execution_count": 14,
   "metadata": {},
   "outputs": [],
   "source": [
    "def regression(loudness, offset=0):\n",
    "    return 2.1256619652039683 * loudness + 52.66548772500079 - offset"
   ]
  },
  {
   "cell_type": "code",
   "execution_count": 15,
   "metadata": {},
   "outputs": [],
   "source": [
    "def exponenial_func(x, a, b, c):\n",
    "    x = np.exp(-b*x)+c \n",
    "    return a*x"
   ]
  },
  {
   "cell_type": "markdown",
   "metadata": {},
   "source": [
    "# Calibration"
   ]
  },
  {
   "cell_type": "code",
   "execution_count": 16,
   "metadata": {},
   "outputs": [],
   "source": [
    "def get_offset(calib_loudness):\n",
    "    return calib_loudness - CALIBRATION_VOLUME"
   ]
  },
  {
   "cell_type": "markdown",
   "metadata": {},
   "source": [
    "# Response"
   ]
  },
  {
   "cell_type": "markdown",
   "metadata": {},
   "source": [
    "#### Sets a new volume that is spoken at for the user"
   ]
  },
  {
   "cell_type": "code",
   "execution_count": 17,
   "metadata": {},
   "outputs": [],
   "source": [
    "def reply(user_volume):\n",
    "    speaker_volume = int(osascript.osascript('output volume of (get volume settings)')[1])\n",
    "    print(\"speaker volume is \" + str(speaker_volume))\n",
    "    print(\"user volume is \"+ str(user_volume))\n",
    "    if(speaker_volume < user_volume):\n",
    "        new_volume = speaker_volume + (((speaker_volume - user_volume)**2) /100)\n",
    "    else:\n",
    "        new_volume = speaker_volume - (((speaker_volume - user_volume)**2) /100)\n",
    "    print(\"speaker new volume is \" + str(new_volume))\n",
    "    osascript.osascript(\"set volume output volume \"+ str(new_volume)) \n",
    "    thing_to_say = 'hello your volume is at '+ str(int(new_volume))\n",
    "    print(thing_to_say)\n",
    "    return new_volume"
   ]
  },
  {
   "cell_type": "markdown",
   "metadata": {},
   "source": [
    "# GUI\n"
   ]
  },
  {
   "cell_type": "code",
   "execution_count": 18,
   "metadata": {},
   "outputs": [],
   "source": [
    "offset = 0\n",
    "speaker_volume = int(osascript.osascript('output volume of (get volume settings)')[1])\n",
    "user_volume = 0"
   ]
  },
  {
   "cell_type": "code",
   "execution_count": 26,
   "metadata": {},
   "outputs": [],
   "source": [
    "def calibration():\n",
    "    record_to_file('calibrate.wav')\n",
    "    data, rate = voice_input_band('calibrate.wav')\n",
    "    calib_loudness = getting_loudness3(data, rate)\n",
    "    calib_loudness = regression(calib_loudness)\n",
    "    offset = get_offset(calib_loudness)\n",
    "    print(\"HERE\")\n",
    "    status_button.insert('1.0', \n",
    "    str(time.strftime('%l:%M%p %Z on %b %d, %Y'))+': -  CALIBRATED, offset: '+str(int(offset))+'\\n')\n",
    "    say_something('done calibrating')"
   ]
  },
  {
   "cell_type": "code",
   "execution_count": 27,
   "metadata": {},
   "outputs": [],
   "source": [
    "import pyttsx3"
   ]
  },
  {
   "cell_type": "code",
   "execution_count": 28,
   "metadata": {},
   "outputs": [],
   "source": [
    "def recording():\n",
    "    #calculating volume\n",
    "    record_to_file('demo.wav')\n",
    "    status_button.insert('1.0', \n",
    "    str(time.strftime('%l:%M%p %Z on %b %d, %Y'))+': -  Done recording \\n')\n",
    "    data, rate = voice_input_band('demo.wav')\n",
    "    user_volume = getting_loudness3(data, rate)\n",
    "    user_volume = regression(user_volume, offset)\n",
    "    user_volume_button[\"text\"] = \"user volume: \"+str(int(user_volume))\n",
    "    new_volume = reply(int(user_volume))\n",
    "    if new_volume > speaker_volume:\n",
    "        thing_to_say = 'hello, the volume increased from'+str(int(speaker_volume))+' to '+str(int(new_volume))\n",
    "    else:\n",
    "        thing_to_say = 'hello, the volume decreased from'+str(int(speaker_volume))+' to '+str(int(new_volume))\n",
    "    say_something(thing_to_say)\n",
    "    speaker_volume_button[\"text\"] = \"speaker volume: \"+str(int(new_volume))"
   ]
  },
  {
   "cell_type": "code",
   "execution_count": null,
   "metadata": {},
   "outputs": [],
   "source": []
  },
  {
   "cell_type": "code",
   "execution_count": 23,
   "metadata": {},
   "outputs": [],
   "source": [
    "engine = pyttsx3.init()\n",
    "def say_something(thing_to_say):\n",
    "    engine.say(thing_to_say)\n",
    "    engine.runAndWait()\n",
    "def say_athing(things_to_say):\n",
    "    os.system(things_to_say)\n",
    "def say(s):\n",
    "    engine = pyttsx3.init()\n",
    "    rate = engine.getProperty('rate')\n",
    "    engine.setProperty('rate', rate)\n",
    "    voices= engine.getProperty('voices')\n",
    "    #for voice in voices:\n",
    "    engine.setProperty('voice', 'english-us')\n",
    "    #print voice.id                                  \n",
    "    engine.say(s)\n",
    "    a = engine.runAndWait() #blocks     "
   ]
  },
  {
   "cell_type": "code",
   "execution_count": 24,
   "metadata": {},
   "outputs": [
    {
     "name": "stdout",
     "output_type": "stream",
     "text": [
      "lds: 4.366037187755911\n"
     ]
    },
    {
     "ename": "SystemExit",
     "evalue": "0",
     "output_type": "error",
     "traceback": [
      "An exception has occurred, use %tb to see the full traceback.\n",
      "\u001b[0;31mSystemExit\u001b[0m\u001b[0;31m:\u001b[0m 0\n"
     ]
    },
    {
     "name": "stderr",
     "output_type": "stream",
     "text": [
      "/usr/local/lib/python3.7/site-packages/IPython/core/interactiveshell.py:3304: UserWarning: To exit: use 'exit', 'quit', or Ctrl-D.\n",
      "  warn(\"To exit: use 'exit', 'quit', or Ctrl-D.\", stacklevel=1)\n"
     ]
    },
    {
     "data": {
      "image/png": "[encoded data removed]",
      "text/plain": [
       "<Figure size 432x288 with 1 Axes>"
      ]
     },
     "metadata": {
      "needs_background": "light"
     },
     "output_type": "display_data"
    },
    {
     "data": {
      "image/png": "[encoded data removed]",
      "text/plain": [
       "<Figure size 432x288 with 1 Axes>"
      ]
     },
     "metadata": {
      "needs_background": "light"
     },
     "output_type": "display_data"
    },
    {
     "data": {
      "image/png": "[encoded data removed]",
      "text/plain": [
       "<Figure size 432x288 with 1 Axes>"
      ]
     },
     "metadata": {
      "needs_background": "light"
     },
     "output_type": "display_data"
    }
   ],
   "source": [
    "import tkinter\n",
    "gui = tkinter.Tk()\n",
    "speaker_volume_button = tkinter.Label(gui,  text =\"speaker volume: \"+str(speaker_volume))\n",
    "speaker_volume_button.pack()\n",
    "user_volume_button = tkinter.Label(gui,  text =\"user volume: \"+str(user_volume))\n",
    "user_volume_button.pack()\n",
    "status_button = tkinter.Text(gui)\n",
    "status_button.pack()\n",
    "calibrate = tkinter.Button(gui,  text =\"calibrate\", padx = 90, pady = 60, command = calibration)\n",
    "calibrate.pack()\n",
    "record_button = tkinter.Button(gui,  text =\"record\", padx = 90, pady = 60, command = recording)\n",
    "record_button.pack()\n",
    "status_button.insert('1.0', \n",
    "    str(time.strftime('%l:%M%p %Z on %b %d, %Y'))+': -  program started \\n')\n",
    "gui.mainloop()"
   ]
  },
  {
   "cell_type": "code",
   "execution_count": null,
   "metadata": {},
   "outputs": [],
   "source": []
  },
  {
   "cell_type": "markdown",
   "metadata": {},
   "source": [
    "# Main"
   ]
  },
  {
   "cell_type": "code",
   "execution_count": 36,
   "metadata": {},
   "outputs": [
    {
     "name": "stdout",
     "output_type": "stream",
     "text": [
      "Please speak at a normal room volume for calibration\n",
      "lds: 1.3173997116317615\n",
      "Calib loudness: 1\n",
      "Calib loudness: 55\n",
      "Offset: 15.465834184987102\n",
      "please speak a word into the microphone\n",
      "done - result written to demo.wav\n",
      "lds: -15.5338771599362\n"
     ]
    },
    {
     "data": {
      "image/png": "[encoded data removed]",
      "text/plain": [
       "<Figure size 432x288 with 1 Axes>"
      ]
     },
     "metadata": {
      "needs_background": "light"
     },
     "output_type": "display_data"
    },
    {
     "data": {
      "image/png": "[encoded data removed]",
      "text/plain": [
       "<Figure size 432x288 with 1 Axes>"
      ]
     },
     "metadata": {
      "needs_background": "light"
     },
     "output_type": "display_data"
    },
    {
     "data": {
      "image/png": "[encoded data removed]",
      "text/plain": [
       "<Figure size 432x288 with 1 Axes>"
      ]
     },
     "metadata": {
      "needs_background": "light"
     },
     "output_type": "display_data"
    }
   ],
   "source": [
    "import time\n",
    "if __name__ == '__main__':\n",
    "    #calibration\n",
    "    os.system(\"say \"+ \"Please speak at a normal room volume for calibration\")\n",
    "    print(\"Please speak at a normal room volume for calibration\")\n",
    "    record_to_file('calibrate.wav')\n",
    "    data, rate = voice_input_band('calibrate.wav')\n",
    "    calib_loudness = getting_loudness3(data, rate)\n",
    "    print(\"Calib loudness: \" + str(int(calib_loudness)))\n",
    "    calib_loudness = regression(calib_loudness)\n",
    "    print(\"Calib loudness: \" + str(int(calib_loudness)))\n",
    "    offset = get_offset(calib_loudness)\n",
    "    print(\"Offset: \" + str(offset))\n",
    "    \n",
    "    #calculating volume\n",
    "    os.system(\"say \"+ \"Please speak into the microphone\")\n",
    "    print(\"please speak a word into the microphone\")\n",
    "    record_to_file('demo.wav')\n",
    "    print(\"done - result written to demo.wav\")\n",
    "    data, rate = voice_input_band('demo.wav')\n",
    "    new_volume = getting_loudness3(data, rate)\n",
    "    new_volume = regression(new_volume, offset)\n",
    "    os.system(\"say \"+ \"Your volume is\" + str(int(new_volume)))\n",
    "#     reply(int(new_volume))"
   ]
  },
  {
   "cell_type": "code",
   "execution_count": 37,
   "metadata": {},
   "outputs": [],
   "source": [
    "def exponenial_func(x, a, b, c):\n",
    "    x = (b**x)+c \n",
    "    return a*x\n",
    "\n",
    "def cubic(x,a,b,c,d):\n",
    "    return a*np.power(x,3)+b*np.power(x,2)+c*x+d\n",
    "\n",
    "a,b,c,d=(1.2220455064926885, -585.0354668889092, 93354.89265987063, -4965360.398631013)"
   ]
  },
  {
   "cell_type": "code",
   "execution_count": 38,
   "metadata": {},
   "outputs": [
    {
     "name": "stdout",
     "output_type": "stream",
     "text": [
      "please speak a word into the microphone\n",
      "done - result written to demo.wav\n"
     ]
    },
    {
     "ename": "NameError",
     "evalue": "name 'PyLdB' is not defined",
     "output_type": "error",
     "traceback": [
      "\u001b[0;31m---------------------------------------------------------------------------\u001b[0m",
      "\u001b[0;31mNameError\u001b[0m                                 Traceback (most recent call last)",
      "\u001b[0;32m<ipython-input-38-d6653e4a1819>\u001b[0m in \u001b[0;36m<module>\u001b[0;34m\u001b[0m\n\u001b[1;32m      5\u001b[0m     \u001b[0mdata\u001b[0m\u001b[0;34m,\u001b[0m \u001b[0mrate\u001b[0m \u001b[0;34m=\u001b[0m \u001b[0mvoice_input_high\u001b[0m\u001b[0;34m(\u001b[0m\u001b[0;34m'demo.wav'\u001b[0m\u001b[0;34m)\u001b[0m\u001b[0;34m\u001b[0m\u001b[0;34m\u001b[0m\u001b[0m\n\u001b[1;32m      6\u001b[0m     \u001b[0mtime\u001b[0m \u001b[0;34m=\u001b[0m \u001b[0mnp\u001b[0m\u001b[0;34m.\u001b[0m\u001b[0marange\u001b[0m\u001b[0;34m(\u001b[0m\u001b[0;36m0\u001b[0m\u001b[0;34m,\u001b[0m \u001b[0mlen\u001b[0m\u001b[0;34m(\u001b[0m\u001b[0mdata\u001b[0m\u001b[0;34m)\u001b[0m\u001b[0;34m,\u001b[0m \u001b[0;36m1\u001b[0m\u001b[0;34m)\u001b[0m\u001b[0;34m/\u001b[0m\u001b[0mrate\u001b[0m\u001b[0;34m*\u001b[0m\u001b[0;36m1000\u001b[0m\u001b[0;34m\u001b[0m\u001b[0;34m\u001b[0m\u001b[0m\n\u001b[0;32m----> 7\u001b[0;31m     \u001b[0mPLdB\u001b[0m \u001b[0;34m=\u001b[0m \u001b[0mPyLdB\u001b[0m\u001b[0;34m.\u001b[0m\u001b[0mperceivedloudness\u001b[0m\u001b[0;34m(\u001b[0m\u001b[0mtime\u001b[0m\u001b[0;34m,\u001b[0m \u001b[0mdata\u001b[0m\u001b[0;34m,\u001b[0m \u001b[0mprint_results\u001b[0m\u001b[0;34m=\u001b[0m\u001b[0;32mTrue\u001b[0m\u001b[0;34m)\u001b[0m\u001b[0;34m\u001b[0m\u001b[0;34m\u001b[0m\u001b[0m\n\u001b[0m\u001b[1;32m      8\u001b[0m     \u001b[0mprint\u001b[0m\u001b[0;34m(\u001b[0m\u001b[0mPLdB\u001b[0m\u001b[0;34m)\u001b[0m\u001b[0;34m\u001b[0m\u001b[0;34m\u001b[0m\u001b[0m\n\u001b[1;32m      9\u001b[0m     \u001b[0mPLdB\u001b[0m \u001b[0;34m=\u001b[0m \u001b[0mcubic\u001b[0m\u001b[0;34m(\u001b[0m\u001b[0mPLdB\u001b[0m\u001b[0;34m,\u001b[0m\u001b[0ma\u001b[0m\u001b[0;34m,\u001b[0m\u001b[0mb\u001b[0m\u001b[0;34m,\u001b[0m\u001b[0mc\u001b[0m\u001b[0;34m,\u001b[0m\u001b[0md\u001b[0m\u001b[0;34m)\u001b[0m\u001b[0;34m\u001b[0m\u001b[0;34m\u001b[0m\u001b[0m\n",
      "\u001b[0;31mNameError\u001b[0m: name 'PyLdB' is not defined"
     ]
    }
   ],
   "source": [
    "if __name__ == '__main__':\n",
    "    print(\"please speak a word into the microphone\")\n",
    "    record_to_file('demo.wav')\n",
    "    print(\"done - result written to demo.wav\")\n",
    "    data, rate = voice_input_high('demo.wav')\n",
    "    time = np.arange(0, len(data), 1)/rate*1000\n",
    "    PLdB = PyLdB.perceivedloudness(time, data, print_results=True)\n",
    "    print(PLdB)\n",
    "    PLdB = cubic(PLdB,a,b,c,d)\n",
    "    print(PLdB)"
   ]
  },
  {
   "cell_type": "code",
   "execution_count": null,
   "metadata": {},
   "outputs": [],
   "source": [
    "exponenial_func(PLdB/10000,a,b,c)"
   ]
  },
  {
   "cell_type": "markdown",
   "metadata": {},
   "source": [
    "# testing\n"
   ]
  },
  {
   "cell_type": "code",
   "execution_count": null,
   "metadata": {},
   "outputs": [],
   "source": [
    "input_volumes = [1, 5, 10, 15, 20,30,40,50,60,70,80]\n",
    "result_volume = []"
   ]
  },
  {
   "cell_type": "code",
   "execution_count": null,
   "metadata": {},
   "outputs": [],
   "source": [
    "for volume in input_volumes:\n",
    "    file_name = 'voiceLevels/ronak-'+str(volume)+'.wav'\n",
    "    data, rate = voice_input_high(file_name)\n",
    "    new_volume = getting_loudness3(data, rate)\n",
    "    result_volume.append(new_volume)\n"
   ]
  },
  {
   "cell_type": "code",
   "execution_count": 51,
   "metadata": {},
   "outputs": [
    {
     "data": {
      "text/plain": [
       "([1, 5, 10, 15, 20, 30, 40, 50, 60, 70, 80],\n",
       " [-29.81731758416708,\n",
       "  -13.863768966114037,\n",
       "  -15.354870415091908,\n",
       "  -21.405723515029955,\n",
       "  -15.191935452094553,\n",
       "  -8.87501418072431,\n",
       "  -6.873431140726749,\n",
       "  -0.8506258395711809,\n",
       "  2.355199478226648,\n",
       "  5.986770226605166,\n",
       "  10.592550424650899])"
      ]
     },
     "execution_count": 51,
     "metadata": {},
     "output_type": "execute_result"
    }
   ],
   "source": [
    "input_volumes, result_volume"
   ]
  },
  {
   "cell_type": "code",
   "execution_count": 52,
   "metadata": {},
   "outputs": [
    {
     "name": "stderr",
     "output_type": "stream",
     "text": [
      "/Library/Frameworks/Python.framework/Versions/3.7/lib/python3.7/site-packages/scipy/optimize/minpack.py:799: OptimizeWarning: Covariance of the parameters could not be estimated\n",
      "  category=OptimizeWarning)\n"
     ]
    },
    {
     "data": {
      "text/plain": [
       "[<matplotlib.lines.Line2D at 0x12a99d358>]"
      ]
     },
     "execution_count": 52,
     "metadata": {},
     "output_type": "execute_result"
    },
    {
     "data": {
      "image/png": "[encoded data removed]",
      "text/plain": [
       "<Figure size 432x288 with 1 Axes>"
      ]
     },
     "metadata": {
      "needs_background": "light"
     },
     "output_type": "display_data"
    }
   ],
   "source": [
    "def exponenial_func(x, a, b, c):\n",
    "    return a*np.exp(-b*x)+c\n",
    "\n",
    "# plot the actual values\n",
    "plt.plot(result_volume,input_volumes, 'ro')\n",
    "\n",
    "\n",
    "#plot the function that overlays them\n",
    "params = curve_fit(exponenial_func, result_volume, input_volumes, maxfev = 10000)\n",
    "a,b,c= params[0]\n",
    "outputs = [ exponenial_func(i,a,b,c) for i in result_volume]\n",
    "axes = plt.gca()\n",
    "axes.set_xlim([-25,100])\n",
    "axes.set_ylim([-25,100])\n",
    "plt.plot(result_volume, outputs)\n"
   ]
  },
  {
   "cell_type": "code",
   "execution_count": 60,
   "metadata": {},
   "outputs": [
    {
     "data": {
      "text/plain": [
       "221184"
      ]
     },
     "execution_count": 60,
     "metadata": {},
     "output_type": "execute_result"
    }
   ],
   "source": [
    "len(data)"
   ]
  },
  {
   "cell_type": "code",
   "execution_count": null,
   "metadata": {},
   "outputs": [],
   "source": []
  }
 ],
 "metadata": {
  "kernelspec": {
   "display_name": "Python 3",
   "language": "python",
   "name": "python3"
  },
  "language_info": {
   "codemirror_mode": {
    "name": "ipython",
    "version": 3
   },
   "file_extension": ".py",
   "mimetype": "text/x-python",
   "name": "python",
   "nbconvert_exporter": "python",
   "pygments_lexer": "ipython3",
   "version": "3.7.3"
  }
 },
 "nbformat": 4,
 "nbformat_minor": 2
}
