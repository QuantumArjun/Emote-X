{
 "cells": [
  {
   "cell_type": "code",
   "execution_count": 1,
   "metadata": {},
   "outputs": [
    {
     "name": "stderr",
     "output_type": "stream",
     "text": [
      "Using TensorFlow backend.\n"
     ]
    }
   ],
   "source": [
    "from WaveNetClassifier import WaveNetClassifier\n",
    "import create_csv\n",
    "from utils import get_audio_config\n",
    "import emotion_recognition\n",
    "from keras.utils import to_categorical"
   ]
  },
  {
   "cell_type": "code",
   "execution_count": 2,
   "metadata": {},
   "outputs": [],
   "source": [
    "train_desc_files = ['train_custom.csv', 'train_emo.csv', 'train_tess_ravdess.csv']\n",
    "test_desc_files = ['test_custom.csv', 'test_emo.csv', 'test_tess_ravdess.csv']\n",
    "ALL_FEATURES = ['mfcc', 'chroma', 'mel', 'contrast', 'tonnetz', 'rmse']\n",
    "image_features = ['mel', 'tonnetz', 'chroma', 'image']\n",
    "non_image_features = ['contrast', 'rmse', 'mfcc']\n",
    "emotions = ['happy', 'sad']"
   ]
  },
  {
   "cell_type": "code",
   "execution_count": 3,
   "metadata": {},
   "outputs": [
    {
     "name": "stdout",
     "output_type": "stream",
     "text": [
      "[EMO-DB] Total files to write: 216\n",
      "[EMO-DB] Training samples: 172\n",
      "[EMO-DB] Testing samples: 43\n",
      "[TESS&RAVDESS] There are 655 training audio files for category:happy\n",
      "[TESS&RAVDESS] There are 115 testing audio files for category:happy\n",
      "[TESS&RAVDESS] There are 668 training audio files for category:sad\n",
      "[TESS&RAVDESS] There are 114 testing audio files for category:sad\n"
     ]
    }
   ],
   "source": [
    "create_csv.write_emodb_csv(emotions=emotions, train_name=\"train_emo.csv\",\n",
    "                    test_name=\"test_emo.csv\", train_size=0.8, verbose=1)\n",
    "create_csv.write_tess_ravdess_csv(emotions=emotions, train_name=\"train_tess_ravdess.csv\",\n",
    "                            test_name=\"test_tess_ravdess.csv\", verbose=1)\n",
    "create_csv.write_custom_csv(emotions=emotions, train_name=\"train_custom.csv\", test_name=\"test_custom.csv\",\n",
    "                    verbose=1)\n",
    "int2emotions = {i: e for i, e in enumerate(emotions)}\n",
    "emotions2int = {v: k for k, v in int2emotions.items()}"
   ]
  },
  {
   "cell_type": "code",
   "execution_count": 4,
   "metadata": {},
   "outputs": [],
   "source": [
    "audio_config = get_audio_config(['raw'])\n",
    "data_raw = emotion_recognition.load_data(train_desc_files, test_desc_files, audio_config, classification=True,\n",
    "                                emotions=emotions, balance=True, shuffle=False)"
   ]
  },
  {
   "cell_type": "code",
   "execution_count": 5,
   "metadata": {},
   "outputs": [],
   "source": [
    "X_train_raw = data_raw[\"X_train\"]\n",
    "X_test_raw = data_raw[\"X_test\"]\n",
    "y_train = to_categorical([emotions2int[str(e)] for e in data_raw['y_train'].squeeze() ])\n",
    "y_test =  to_categorical([emotions2int[str(e)] for e in data_raw['y_test'].squeeze() ])\n"
   ]
  },
  {
   "cell_type": "code",
   "execution_count": 6,
   "metadata": {},
   "outputs": [
    {
     "name": "stderr",
     "output_type": "stream",
     "text": [
      "WARNING: Logging before flag parsing goes to stderr.\n",
      "W0828 11:27:09.869683 140735990793088 deprecation_wrapper.py:119] From /usr/local/lib/python3.7/site-packages/keras/backend/tensorflow_backend.py:517: The name tf.placeholder is deprecated. Please use tf.compat.v1.placeholder instead.\n",
      "\n",
      "W0828 11:27:09.891111 140735990793088 deprecation_wrapper.py:119] From /usr/local/lib/python3.7/site-packages/keras/backend/tensorflow_backend.py:4138: The name tf.random_uniform is deprecated. Please use tf.random.uniform instead.\n",
      "\n",
      "W0828 11:27:10.437663 140735990793088 deprecation_wrapper.py:119] From /usr/local/lib/python3.7/site-packages/keras/backend/tensorflow_backend.py:74: The name tf.get_default_graph is deprecated. Please use tf.compat.v1.get_default_graph instead.\n",
      "\n",
      "W0828 11:27:10.455764 140735990793088 deprecation_wrapper.py:119] From /usr/local/lib/python3.7/site-packages/keras/backend/tensorflow_backend.py:3980: The name tf.nn.avg_pool is deprecated. Please use tf.nn.avg_pool2d instead.\n",
      "\n"
     ]
    },
    {
     "name": "stdout",
     "output_type": "stream",
     "text": [
      "__________________________________________________________________________________________________\n",
      "Layer (type)                    Output Shape         Param #     Connected to                     \n",
      "==================================================================================================\n",
      "original_input (InputLayer)     (None, 45158)        0                                            \n",
      "__________________________________________________________________________________________________\n",
      "reshaped_input (Reshape)        (None, 45158, 1)     0           original_input[0][0]             \n",
      "__________________________________________________________________________________________________\n",
      "dilated_conv_1 (Conv1D)         (None, 45158, 40)    120         reshaped_input[0][0]             \n",
      "__________________________________________________________________________________________________\n",
      "dilated_conv_2_tanh (Conv1D)    (None, 45158, 40)    3240        dilated_conv_1[0][0]             \n",
      "__________________________________________________________________________________________________\n",
      "dilated_conv_2_sigm (Conv1D)    (None, 45158, 40)    3240        dilated_conv_1[0][0]             \n",
      "__________________________________________________________________________________________________\n",
      "gated_activation_1 (Multiply)   (None, 45158, 40)    0           dilated_conv_2_tanh[0][0]        \n",
      "                                                                 dilated_conv_2_sigm[0][0]        \n",
      "__________________________________________________________________________________________________\n",
      "skip_1 (Conv1D)                 (None, 45158, 40)    1640        gated_activation_1[0][0]         \n",
      "__________________________________________________________________________________________________\n",
      "residual_block_1 (Add)          (None, 45158, 40)    0           skip_1[0][0]                     \n",
      "                                                                 dilated_conv_1[0][0]             \n",
      "__________________________________________________________________________________________________\n",
      "dilated_conv_4_tanh (Conv1D)    (None, 45158, 40)    3240        residual_block_1[0][0]           \n",
      "__________________________________________________________________________________________________\n",
      "dilated_conv_4_sigm (Conv1D)    (None, 45158, 40)    3240        residual_block_1[0][0]           \n",
      "__________________________________________________________________________________________________\n",
      "gated_activation_2 (Multiply)   (None, 45158, 40)    0           dilated_conv_4_tanh[0][0]        \n",
      "                                                                 dilated_conv_4_sigm[0][0]        \n",
      "__________________________________________________________________________________________________\n",
      "skip_2 (Conv1D)                 (None, 45158, 40)    1640        gated_activation_2[0][0]         \n",
      "__________________________________________________________________________________________________\n",
      "residual_block_2 (Add)          (None, 45158, 40)    0           skip_2[0][0]                     \n",
      "                                                                 residual_block_1[0][0]           \n",
      "__________________________________________________________________________________________________\n",
      "dilated_conv_8_tanh (Conv1D)    (None, 45158, 40)    3240        residual_block_2[0][0]           \n",
      "__________________________________________________________________________________________________\n",
      "dilated_conv_8_sigm (Conv1D)    (None, 45158, 40)    3240        residual_block_2[0][0]           \n",
      "__________________________________________________________________________________________________\n",
      "gated_activation_3 (Multiply)   (None, 45158, 40)    0           dilated_conv_8_tanh[0][0]        \n",
      "                                                                 dilated_conv_8_sigm[0][0]        \n",
      "__________________________________________________________________________________________________\n",
      "skip_3 (Conv1D)                 (None, 45158, 40)    1640        gated_activation_3[0][0]         \n",
      "__________________________________________________________________________________________________\n",
      "residual_block_3 (Add)          (None, 45158, 40)    0           skip_3[0][0]                     \n",
      "                                                                 residual_block_2[0][0]           \n",
      "__________________________________________________________________________________________________\n",
      "dilated_conv_16_tanh (Conv1D)   (None, 45158, 40)    3240        residual_block_3[0][0]           \n",
      "__________________________________________________________________________________________________\n",
      "dilated_conv_16_sigm (Conv1D)   (None, 45158, 40)    3240        residual_block_3[0][0]           \n",
      "__________________________________________________________________________________________________\n",
      "gated_activation_4 (Multiply)   (None, 45158, 40)    0           dilated_conv_16_tanh[0][0]       \n",
      "                                                                 dilated_conv_16_sigm[0][0]       \n",
      "__________________________________________________________________________________________________\n",
      "skip_4 (Conv1D)                 (None, 45158, 40)    1640        gated_activation_4[0][0]         \n",
      "__________________________________________________________________________________________________\n",
      "residual_block_4 (Add)          (None, 45158, 40)    0           skip_4[0][0]                     \n",
      "                                                                 residual_block_3[0][0]           \n",
      "__________________________________________________________________________________________________\n",
      "dilated_conv_32_tanh (Conv1D)   (None, 45158, 40)    3240        residual_block_4[0][0]           \n",
      "__________________________________________________________________________________________________\n",
      "dilated_conv_32_sigm (Conv1D)   (None, 45158, 40)    3240        residual_block_4[0][0]           \n",
      "__________________________________________________________________________________________________\n",
      "gated_activation_5 (Multiply)   (None, 45158, 40)    0           dilated_conv_32_tanh[0][0]       \n",
      "                                                                 dilated_conv_32_sigm[0][0]       \n",
      "__________________________________________________________________________________________________\n",
      "skip_5 (Conv1D)                 (None, 45158, 40)    1640        gated_activation_5[0][0]         \n",
      "__________________________________________________________________________________________________\n",
      "residual_block_5 (Add)          (None, 45158, 40)    0           skip_5[0][0]                     \n",
      "                                                                 residual_block_4[0][0]           \n",
      "__________________________________________________________________________________________________\n",
      "dilated_conv_64_tanh (Conv1D)   (None, 45158, 40)    3240        residual_block_5[0][0]           \n",
      "__________________________________________________________________________________________________\n",
      "dilated_conv_64_sigm (Conv1D)   (None, 45158, 40)    3240        residual_block_5[0][0]           \n",
      "__________________________________________________________________________________________________\n",
      "gated_activation_6 (Multiply)   (None, 45158, 40)    0           dilated_conv_64_tanh[0][0]       \n",
      "                                                                 dilated_conv_64_sigm[0][0]       \n",
      "__________________________________________________________________________________________________\n",
      "skip_6 (Conv1D)                 (None, 45158, 40)    1640        gated_activation_6[0][0]         \n",
      "__________________________________________________________________________________________________\n",
      "residual_block_6 (Add)          (None, 45158, 40)    0           skip_6[0][0]                     \n",
      "                                                                 residual_block_5[0][0]           \n",
      "__________________________________________________________________________________________________\n",
      "dilated_conv_128_tanh (Conv1D)  (None, 45158, 40)    3240        residual_block_6[0][0]           \n",
      "__________________________________________________________________________________________________\n",
      "dilated_conv_128_sigm (Conv1D)  (None, 45158, 40)    3240        residual_block_6[0][0]           \n",
      "__________________________________________________________________________________________________\n",
      "gated_activation_7 (Multiply)   (None, 45158, 40)    0           dilated_conv_128_tanh[0][0]      \n",
      "                                                                 dilated_conv_128_sigm[0][0]      \n",
      "__________________________________________________________________________________________________\n",
      "skip_7 (Conv1D)                 (None, 45158, 40)    1640        gated_activation_7[0][0]         \n",
      "__________________________________________________________________________________________________\n",
      "residual_block_7 (Add)          (None, 45158, 40)    0           skip_7[0][0]                     \n",
      "                                                                 residual_block_6[0][0]           \n",
      "__________________________________________________________________________________________________\n",
      "dilated_conv_256_tanh (Conv1D)  (None, 45158, 40)    3240        residual_block_7[0][0]           \n",
      "__________________________________________________________________________________________________\n",
      "dilated_conv_256_sigm (Conv1D)  (None, 45158, 40)    3240        residual_block_7[0][0]           \n",
      "__________________________________________________________________________________________________\n",
      "gated_activation_8 (Multiply)   (None, 45158, 40)    0           dilated_conv_256_tanh[0][0]      \n",
      "                                                                 dilated_conv_256_sigm[0][0]      \n",
      "__________________________________________________________________________________________________\n",
      "skip_8 (Conv1D)                 (None, 45158, 40)    1640        gated_activation_8[0][0]         \n",
      "__________________________________________________________________________________________________\n",
      "residual_block_8 (Add)          (None, 45158, 40)    0           skip_8[0][0]                     \n",
      "                                                                 residual_block_7[0][0]           \n",
      "__________________________________________________________________________________________________\n",
      "dilated_conv_512_tanh (Conv1D)  (None, 45158, 40)    3240        residual_block_8[0][0]           \n",
      "__________________________________________________________________________________________________\n",
      "dilated_conv_512_sigm (Conv1D)  (None, 45158, 40)    3240        residual_block_8[0][0]           \n",
      "__________________________________________________________________________________________________\n",
      "gated_activation_9 (Multiply)   (None, 45158, 40)    0           dilated_conv_512_tanh[0][0]      \n",
      "                                                                 dilated_conv_512_sigm[0][0]      \n",
      "__________________________________________________________________________________________________\n",
      "skip_9 (Conv1D)                 (None, 45158, 40)    1640        gated_activation_9[0][0]         \n",
      "__________________________________________________________________________________________________\n",
      "skip_connections (Add)          (None, 45158, 40)    0           skip_1[0][0]                     \n",
      "                                                                 skip_2[0][0]                     \n",
      "                                                                 skip_3[0][0]                     \n",
      "                                                                 skip_4[0][0]                     \n",
      "                                                                 skip_5[0][0]                     \n",
      "                                                                 skip_6[0][0]                     \n",
      "                                                                 skip_7[0][0]                     \n",
      "                                                                 skip_8[0][0]                     \n",
      "                                                                 skip_9[0][0]                     \n",
      "__________________________________________________________________________________________________\n",
      "activation_1 (Activation)       (None, 45158, 40)    0           skip_connections[0][0]           \n",
      "__________________________________________________________________________________________________\n",
      "conv_5ms (Conv1D)               (None, 45158, 40)    128040      activation_1[0][0]               \n",
      "__________________________________________________________________________________________________\n",
      "downsample_to_200Hz (AveragePoo (None, 565, 40)      0           conv_5ms[0][0]                   \n",
      "__________________________________________________________________________________________________\n",
      "conv_500ms (Conv1D)             (None, 565, 40)      160040      downsample_to_200Hz[0][0]        \n",
      "__________________________________________________________________________________________________\n",
      "conv_500ms_target_shape (Conv1D (None, 565, 2)       8002        conv_500ms[0][0]                 \n",
      "__________________________________________________________________________________________________\n",
      "downsample_to_2Hz (AveragePooli (None, 6, 2)         0           conv_500ms_target_shape[0][0]    \n",
      "__________________________________________________________________________________________________\n",
      "final_conv (Conv1D)             (None, 6, 2)         22          downsample_to_2Hz[0][0]          \n",
      "__________________________________________________________________________________________________\n",
      "final_pooling (AveragePooling1D (None, 1, 2)         0           final_conv[0][0]                 \n",
      "__________________________________________________________________________________________________\n",
      "reshape_1 (Reshape)             (None, 2)            0           final_pooling[0][0]              \n",
      "__________________________________________________________________________________________________\n",
      "activation_2 (Activation)       (None, 2)            0           reshape_1[0][0]                  \n",
      "==================================================================================================\n",
      "Total params: 369,304\n",
      "Trainable params: 369,304\n",
      "Non-trainable params: 0\n",
      "__________________________________________________________________________________________________\n"
     ]
    }
   ],
   "source": [
    "wnc = WaveNetClassifier((45158,), (2,), \n",
    "                        kernel_size = 2, dilation_depth = 9, n_filters = 40, \n",
    "                        task = 'classification')\n"
   ]
  },
  {
   "cell_type": "code",
   "execution_count": null,
   "metadata": {},
   "outputs": [
    {
     "name": "stderr",
     "output_type": "stream",
     "text": [
      "W0828 11:27:10.621568 140735990793088 deprecation_wrapper.py:119] From /usr/local/lib/python3.7/site-packages/keras/optimizers.py:790: The name tf.train.Optimizer is deprecated. Please use tf.compat.v1.train.Optimizer instead.\n",
      "\n",
      "W0828 11:27:10.639727 140735990793088 deprecation_wrapper.py:119] From /usr/local/lib/python3.7/site-packages/keras/backend/tensorflow_backend.py:3295: The name tf.log is deprecated. Please use tf.math.log instead.\n",
      "\n",
      "W0828 11:27:10.721019 140735990793088 deprecation.py:323] From /usr/local/lib/python3.7/site-packages/tensorflow/python/ops/math_grad.py:1250: add_dispatch_support.<locals>.wrapper (from tensorflow.python.ops.array_ops) is deprecated and will be removed in a future version.\n",
      "Instructions for updating:\n",
      "Use tf.where in 2.0, which has the same broadcast rule as np.where\n",
      "W0828 11:27:11.498309 140735990793088 deprecation_wrapper.py:119] From /usr/local/lib/python3.7/site-packages/keras/backend/tensorflow_backend.py:986: The name tf.assign_add is deprecated. Please use tf.compat.v1.assign_add instead.\n",
      "\n"
     ]
    },
    {
     "name": "stdout",
     "output_type": "stream",
     "text": [
      "Train on 3804 samples, validate on 936 samples\n",
      "Epoch 1/500\n"
     ]
    }
   ],
   "source": [
    "wnc.fit(X_train_raw, y_train, validation_data = (X_test_raw, y_test), epochs = 500, \n",
    "        batch_size = 1024, optimizer='adam', save=True, save_dir='./logs/')\n"
   ]
  },
  {
   "cell_type": "code",
   "execution_count": null,
   "metadata": {},
   "outputs": [],
   "source": [
    "y_pred = wnc.predict(X_test_raw)"
   ]
  }
 ],
 "metadata": {
  "kernelspec": {
   "display_name": "Python 3",
   "language": "python",
   "name": "python3"
  },
  "language_info": {
   "codemirror_mode": {
    "name": "ipython",
    "version": 3
   },
   "file_extension": ".py",
   "mimetype": "text/x-python",
   "name": "python",
   "nbconvert_exporter": "python",
   "pygments_lexer": "ipython3",
   "version": "3.7.3"
  }
 },
 "nbformat": 4,
 "nbformat_minor": 2
}
